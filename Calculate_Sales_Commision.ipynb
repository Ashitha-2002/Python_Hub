{
 "cells": [
  {
   "cell_type": "code",
   "execution_count": 3,
   "id": "71b6d70a-b885-43f1-b8e6-c93a5af5e5c6",
   "metadata": {},
   "outputs": [
    {
     "name": "stdin",
     "output_type": "stream",
     "text": [
      "Enter the number of salesmen:  2\n",
      "Enter the name of salesman 1:  David\n",
      "Enter sales for week 1:  2000\n",
      "Enter sales for week 2:  12000\n",
      "Enter sales for week 3:  5000\n",
      "Enter sales for week 4:  2490\n",
      "Enter the name of salesman 2:  John\n",
      "Enter sales for week 1:  45000\n",
      "Enter sales for week 2:  12000\n",
      "Enter sales for week 3:  2500\n",
      "Enter sales for week 4:  16000\n"
     ]
    },
    {
     "name": "stdout",
     "output_type": "stream",
     "text": [
      "\n",
      "David's Total Sales: 21490, Commission: 0, Remarks: Work Hard\n",
      "\n",
      "John's Total Sales: 75500, Commission: 3775.0, Remarks: Good\n"
     ]
    }
   ],
   "source": [
    "def calculate_sales(sales_per_week):\n",
    "    total_sales = sum(sales_per_week)\n",
    "    commission_rate = 0.05\n",
    "    commission = 0\n",
    "\n",
    "    if total_sales >= 50000:\n",
    "        commission = total_sales * commission_rate\n",
    "\n",
    "    remarks = \"\"\n",
    "    if total_sales >= 80000:\n",
    "        remarks = \"Excellent\"\n",
    "    elif total_sales >= 60000:\n",
    "        remarks = \"Good\"\n",
    "    elif total_sales >= 40000:\n",
    "        remarks = \"Average\"\n",
    "    else:\n",
    "        remarks = \"Work Hard\"\n",
    "\n",
    "    return total_sales, commission, remarks\n",
    "\n",
    "num_salesmen = int(input(\"Enter the number of salesmen: \"))\n",
    "salesman_data = {}\n",
    "\n",
    "for i in range(num_salesmen):\n",
    "    name = input(f\"Enter the name of salesman {i + 1}: \")\n",
    "    weekly_sales = [int(input(f\"Enter sales for week {j + 1}: \")) for j in range(4)]  # Assuming 4 weeks in a month\n",
    "    salesman_data[name] = weekly_sales\n",
    "\n",
    "for name in salesman_data.keys():\n",
    "    total_sales, commission, remarks = calculate_sales(salesman_data[name])\n",
    "    print(f\"\\n{name}'s Total Sales: {total_sales}, Commission: {commission}, Remarks: {remarks}\")\n",
    " "
   ]
  },
  {
   "cell_type": "code",
   "execution_count": null,
   "id": "e091303e-8a90-49e5-83d4-d334d93c948f",
   "metadata": {},
   "outputs": [],
   "source": []
  }
 ],
 "metadata": {
  "kernelspec": {
   "display_name": "Python [conda env:base] *",
   "language": "python",
   "name": "conda-base-py"
  },
  "language_info": {
   "codemirror_mode": {
    "name": "ipython",
    "version": 3
   },
   "file_extension": ".py",
   "mimetype": "text/x-python",
   "name": "python",
   "nbconvert_exporter": "python",
   "pygments_lexer": "ipython3",
   "version": "3.12.7"
  }
 },
 "nbformat": 4,
 "nbformat_minor": 5
}
