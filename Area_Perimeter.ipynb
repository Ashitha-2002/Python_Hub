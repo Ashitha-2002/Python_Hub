{
 "cells": [
  {
   "cell_type": "code",
   "execution_count": 3,
   "id": "b480502d-01ab-4cd0-8c5f-78d620077972",
   "metadata": {},
   "outputs": [
    {
     "name": "stdout",
     "output_type": "stream",
     "text": [
      "1. Area and Perimeter of Circle\n",
      "2. Area and Perimeter of Triangle\n",
      "3. Area and Perimeter of Rectangle\n",
      "4. Exit\n"
     ]
    },
    {
     "name": "stdin",
     "output_type": "stream",
     "text": [
      "Enter your choice :  1\n",
      "Enter radius :  3\n"
     ]
    },
    {
     "name": "stdout",
     "output_type": "stream",
     "text": [
      "Area of Circle : 28.27\n",
      "Perimeter of Circle : 18.85\n",
      "1. Area and Perimeter of Circle\n",
      "2. Area and Perimeter of Triangle\n",
      "3. Area and Perimeter of Rectangle\n",
      "4. Exit\n"
     ]
    },
    {
     "name": "stdin",
     "output_type": "stream",
     "text": [
      "Enter your choice :  2\n",
      "Enter side 1 value :  3\n",
      "Enter side 2 value :  6\n",
      "Enter side 3 value :  7\n"
     ]
    },
    {
     "name": "stdout",
     "output_type": "stream",
     "text": [
      "Area of Triangle : 8.94 \n",
      "Perimeter of Triangle : 16.00 \n",
      "1. Area and Perimeter of Circle\n",
      "2. Area and Perimeter of Triangle\n",
      "3. Area and Perimeter of Rectangle\n",
      "4. Exit\n"
     ]
    },
    {
     "name": "stdin",
     "output_type": "stream",
     "text": [
      "Enter your choice :  3\n",
      "Enter length :  4\n",
      "Enter breadth :  5\n"
     ]
    },
    {
     "name": "stdout",
     "output_type": "stream",
     "text": [
      "Area of Rectangle : 20.00 \n",
      "Perimeter of Rectangle : 18.00 \n",
      "1. Area and Perimeter of Circle\n",
      "2. Area and Perimeter of Triangle\n",
      "3. Area and Perimeter of Rectangle\n",
      "4. Exit\n"
     ]
    },
    {
     "name": "stdin",
     "output_type": "stream",
     "text": [
      "Enter your choice :  4\n"
     ]
    }
   ],
   "source": [
    "import math\n",
    "def circleArea(r) :\n",
    "    return (math.pi) * r ** 2\n",
    "def circlePerimeter(r) :\n",
    "    return 2 * (math.pi) * r\n",
    "\n",
    "def triangleArea(a , b, c) :\n",
    "    s = (a + b + c) / 2\n",
    "    area = math.sqrt(s * (s - a) * (s - b) * (s - c))\n",
    "    return area\n",
    "def trianglePerimeter(s1, s2, s3) :\n",
    "    return s1 + s2 + s3\n",
    "\n",
    "def rectangleArea(l , b) :\n",
    "    return l * b\n",
    "def rectanglePerimter(l , b) :\n",
    "    return 2 * (l + b)\n",
    "\n",
    "while(1) :\n",
    "    print(\"1. Area and Perimeter of Circle\\n2. Area and Perimeter of Triangle\\n3. Area and Perimeter of Rectangle\\n4. Exit\")\n",
    "    choice = int(input(\"Enter your choice : \"))\n",
    "    if choice == 1: \n",
    "        radius = float(input(\"Enter radius : \"))\n",
    "        print(\"Area of Circle : {:.2f}\".format(circleArea(radius)))\n",
    "        print(\"Perimeter of Circle : {:.2f}\".format(circlePerimeter(radius)))\n",
    "    elif choice == 2:\n",
    "        side1 = float(input(\"Enter side 1 value : \"))\n",
    "        side2 = float(input(\"Enter side 2 value : \"))\n",
    "        side3 = float(input(\"Enter side 3 value : \"))\n",
    "        print(\"Area of Triangle : %.2f \" % triangleArea(side1 , side2, side3))\n",
    "        print(\"Perimeter of Triangle : %.2f \" % trianglePerimeter(side1 , side2, side3))\n",
    "    elif choice == 3:\n",
    "        length = float(input(\"Enter length : \"))\n",
    "        breadth = float(input(\"Enter breadth : \"))\n",
    "        print(\"Area of Rectangle : %.2f \" % rectangleArea(length , breadth))\n",
    "        print(\"Perimeter of Rectangle : %.2f \" % rectanglePerimter(length , breadth))\n",
    "    elif choice == 4:\n",
    "        break\n",
    "    else:\n",
    "        print(\"Invalid choice. Please enter valid number\")"
   ]
  },
  {
   "cell_type": "code",
   "execution_count": null,
   "id": "9ae08a96-f50a-4e4b-b18c-0e8e5755748c",
   "metadata": {},
   "outputs": [],
   "source": []
  }
 ],
 "metadata": {
  "kernelspec": {
   "display_name": "Python [conda env:base] *",
   "language": "python",
   "name": "conda-base-py"
  },
  "language_info": {
   "codemirror_mode": {
    "name": "ipython",
    "version": 3
   },
   "file_extension": ".py",
   "mimetype": "text/x-python",
   "name": "python",
   "nbconvert_exporter": "python",
   "pygments_lexer": "ipython3",
   "version": "3.12.7"
  }
 },
 "nbformat": 4,
 "nbformat_minor": 5
}
