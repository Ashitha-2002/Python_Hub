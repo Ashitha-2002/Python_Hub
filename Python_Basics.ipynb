{
 "cells": [
  {
   "cell_type": "markdown",
   "id": "9d3ba175-580d-4fe5-8ca5-424b95c31091",
   "metadata": {},
   "source": [
    "# Data Types"
   ]
  },
  {
   "cell_type": "code",
   "execution_count": 184,
   "id": "a0cb6c19-f1ec-4ae5-8785-076cea64c648",
   "metadata": {},
   "outputs": [
    {
     "name": "stdout",
     "output_type": "stream",
     "text": [
      "5\n",
      "4.1\n",
      "(3+1j)\n",
      "True\n",
      "Hello\n",
      "[1, 5, 8, 1]\n",
      "(10, 20, 30, 30)\n",
      "{4, 5}\n",
      "{'ID': 101, 'Name': 'David'}\n",
      "<class 'int'>\n",
      "<class 'float'>\n",
      "<class 'complex'>\n",
      "<class 'bool'>\n",
      "<class 'str'>\n",
      "<class 'list'>\n",
      "<class 'tuple'>\n",
      "<class 'set'>\n",
      "<class 'dict'>\n"
     ]
    }
   ],
   "source": [
    "num1 = 5\n",
    "num2 = 4.1\n",
    "num3 = 3 + 1j\n",
    "boolValue = True\n",
    "str1 = \"Hello\"\n",
    "myList = [1,5,8,1]\n",
    "myTuple = (10,20,30,30)   #Immutable\n",
    "mySet = set({4,5,5})   #doesn't allow duplicates\n",
    "myDict = {\"ID\" : 101, \"Name\" : \"David\"}  #Key value pairs\n",
    "\n",
    "print(num1)\n",
    "print(num2)\n",
    "print(num3)\n",
    "print(boolValue)\n",
    "print(str1)\n",
    "print(myList)\n",
    "print(myTuple)\n",
    "print(mySet)\n",
    "print(myDict)\n",
    "\n",
    "print(type(num1))\n",
    "print(type(num2))\n",
    "print(type(num3))\n",
    "print(type(boolValue))\n",
    "print(type(str1))\n",
    "print(type(myList))\n",
    "print(type(myTuple))\n",
    "print(type(mySet))\n",
    "print(type(myDict))"
   ]
  },
  {
   "cell_type": "markdown",
   "id": "ecd419e4-be98-4cac-add8-bec649889e3a",
   "metadata": {},
   "source": [
    "# Casting"
   ]
  },
  {
   "cell_type": "code",
   "execution_count": 187,
   "id": "41b4a041-16cd-4c9e-99fa-76895ab11ab4",
   "metadata": {},
   "outputs": [
    {
     "name": "stdout",
     "output_type": "stream",
     "text": [
      "10 <class 'int'>\n",
      "2 <class 'int'>\n"
     ]
    }
   ],
   "source": [
    "x1 = int(\"10\")\n",
    "x2 = int(2.5)\n",
    "\n",
    "print(x1, type(x1))\n",
    "print(x2, type(x2))"
   ]
  },
  {
   "cell_type": "code",
   "execution_count": 189,
   "id": "5d32f7ef-3a72-4cee-be91-13a2d897a934",
   "metadata": {},
   "outputs": [
    {
     "name": "stdout",
     "output_type": "stream",
     "text": [
      "2.0 <class 'float'>\n",
      "8.0 <class 'float'>\n"
     ]
    }
   ],
   "source": [
    "y1 = float(2)\n",
    "y2 = float(\"8\")\n",
    "\n",
    "print(y1, type(y1))\n",
    "print(y2, type(y2))"
   ]
  },
  {
   "cell_type": "code",
   "execution_count": 191,
   "id": "e60871f7-281e-43ee-a9ce-61584fe67927",
   "metadata": {},
   "outputs": [
    {
     "name": "stdout",
     "output_type": "stream",
     "text": [
      "2 <class 'str'>\n",
      "6.7 <class 'str'>\n"
     ]
    }
   ],
   "source": [
    "w1 = str(2)\n",
    "w2 = str(6.7)\n",
    "\n",
    "print(w1, type(w1))\n",
    "print(w2, type(w2))"
   ]
  },
  {
   "cell_type": "code",
   "execution_count": 193,
   "id": "c32a811f-7e3d-428a-9a11-dfd7a11deb68",
   "metadata": {},
   "outputs": [
    {
     "name": "stdout",
     "output_type": "stream",
     "text": [
      "[10, 20, 30]\n",
      "[1, 2, 3]\n",
      "(1, 2, 3)\n",
      "(10, 20, 30)\n",
      "{10, 20, 30}\n"
     ]
    }
   ],
   "source": [
    "list1 = [10,20,30]\n",
    "tuple1 = (1,2,3)\n",
    "\n",
    "list2 = list(tuple1)\n",
    "tuple2 = tuple(list1)\n",
    "set1 = set(list1)\n",
    "\n",
    "print(list1)\n",
    "print(list2)\n",
    "print(tuple1)\n",
    "print(tuple2)\n",
    "print(set1)"
   ]
  },
  {
   "cell_type": "code",
   "execution_count": 195,
   "id": "96b03bee-2266-4b03-ae2a-62a4d955236c",
   "metadata": {},
   "outputs": [
    {
     "name": "stdout",
     "output_type": "stream",
     "text": [
      "1\n",
      "0\n"
     ]
    }
   ],
   "source": [
    "boolValue1 = True\n",
    "boolValue2 = False\n",
    "\n",
    "a = int(boolValue1)\n",
    "b = int(boolValue2)\n",
    "\n",
    "print(a)\n",
    "print(b)"
   ]
  },
  {
   "cell_type": "markdown",
   "id": "b8d3d378-73da-4b88-b743-d1b7514408f3",
   "metadata": {},
   "source": [
    "# Arithmetic Operators"
   ]
  },
  {
   "cell_type": "code",
   "execution_count": 180,
   "id": "40915181-d8c8-4ff3-ac4a-d30e574b9f07",
   "metadata": {},
   "outputs": [
    {
     "name": "stdout",
     "output_type": "stream",
     "text": [
      "16\n",
      "4\n",
      "60\n",
      "1.6666666666666667\n",
      "1\n",
      "4\n",
      "1000000\n"
     ]
    }
   ],
   "source": [
    "a , b = 10, 6\n",
    "\n",
    "print(a + b)\n",
    "print(a - b)\n",
    "print(a * b)\n",
    "print(a / b)\n",
    "print(a // b)\n",
    "print(a % b)\n",
    "print(a ** b)"
   ]
  },
  {
   "cell_type": "markdown",
   "id": "81a454f4-485b-4ae0-ac1c-ce0018e59f91",
   "metadata": {},
   "source": [
    "# Logical Operators"
   ]
  },
  {
   "cell_type": "code",
   "execution_count": 184,
   "id": "cd874652-ef6f-47b4-a3ff-01973d3869f7",
   "metadata": {},
   "outputs": [
    {
     "name": "stdout",
     "output_type": "stream",
     "text": [
      "False\n",
      "True\n",
      "False\n"
     ]
    }
   ],
   "source": [
    "a, b, c = True, False, True\n",
    "\n",
    "print(a and b and c)\n",
    "print(a or b or c)\n",
    "print(not a)"
   ]
  },
  {
   "cell_type": "markdown",
   "id": "00c56e56-18c8-403b-ae17-b515bba5d73b",
   "metadata": {},
   "source": [
    "# Comparision Operators"
   ]
  },
  {
   "cell_type": "code",
   "execution_count": 201,
   "id": "73a4d238-a14b-4a35-b79a-a7b12d5ece56",
   "metadata": {},
   "outputs": [
    {
     "name": "stdout",
     "output_type": "stream",
     "text": [
      "True\n",
      "False\n",
      "False\n",
      "False\n",
      "True\n",
      "True\n"
     ]
    }
   ],
   "source": [
    "a, b, c, d, e = 1,5,1,4,3\n",
    "print(a == c)\n",
    "print(a != c)\n",
    "print(a > d)\n",
    "print(e < c)\n",
    "print(b >= d)\n",
    "print(c <= e)"
   ]
  },
  {
   "cell_type": "markdown",
   "id": "e018709c-bb96-44e8-9f7f-58c38ddb7bf8",
   "metadata": {},
   "source": [
    "# Bitwise Operators"
   ]
  },
  {
   "cell_type": "code",
   "execution_count": 212,
   "id": "6dd368ad-161c-4c94-853c-b99b09c048f6",
   "metadata": {},
   "outputs": [
    {
     "name": "stdout",
     "output_type": "stream",
     "text": [
      "a & b = 2\n"
     ]
    }
   ],
   "source": [
    "# Bitwise and\n",
    "\"\"\"\n",
    "a = 10 = 1010\n",
    "b = 6 = 0110\n",
    "\n",
    "1010 &\n",
    "0110\n",
    "----\n",
    "0010  which is 2( 1 & 0 = 0, 0 & 1 = 0, 1 & 1 = 1, 0 & 0 = 0) \n",
    "\"\"\"\n",
    "\n",
    "a = 10\n",
    "b = 6\n",
    "\n",
    "print(\"a & b =\", a & b)   "
   ]
  },
  {
   "cell_type": "code",
   "execution_count": 216,
   "id": "ef4e8045-1eb2-4d2f-8a1b-f1e770717c40",
   "metadata": {},
   "outputs": [
    {
     "name": "stdout",
     "output_type": "stream",
     "text": [
      "a | b = 14\n"
     ]
    }
   ],
   "source": [
    "# Bitwise or\n",
    "\"\"\"\n",
    "a = 10 = 1010\n",
    "b = 6 = 0110\n",
    "\n",
    "1010 |\n",
    "0110\n",
    "----\n",
    "1110  which is 14 ( 1 | 0 = 1, 0 | 1 = 1, 1 | 1 = 1, 0 | 0 = 0) \n",
    "\"\"\"\n",
    "\n",
    "a = 10\n",
    "b = 6\n",
    "\n",
    "print(\"a | b =\", a | b)"
   ]
  },
  {
   "cell_type": "code",
   "execution_count": 218,
   "id": "c6311cb3-a2bd-482a-b1aa-6fc6829b9a71",
   "metadata": {},
   "outputs": [
    {
     "name": "stdout",
     "output_type": "stream",
     "text": [
      "a ^ b = 12\n"
     ]
    }
   ],
   "source": [
    "# Bitwise xor\n",
    "\"\"\"\n",
    "The Python Bitwise XOR (^) Operator also known as the exclusive OR operator, is used to perform the XOR operation on two operands. \n",
    "XOR stands for “exclusive or”, and it returns true if and only if exactly one of the operands is true. \n",
    "In the context of bitwise operations, it compares corresponding bits of two operands. \n",
    "If the bits are different, it returns 1; otherwise, it returns 0.\n",
    "\n",
    "a = 10 = 1010\n",
    "b = 6 = 0110\n",
    "\n",
    "1010 ^\n",
    "0110\n",
    "----\n",
    "1100  which is 12 ( 1 ^ 0 = 1, 0 ^ 1 = 1, 1 ^ 1 = 0, 0 ^ 0 = 0) \n",
    "\"\"\"\n",
    "\n",
    "a = 10\n",
    "b = 6\n",
    "\n",
    "print(\"a ^ b =\", a ^ b)  # XOR"
   ]
  },
  {
   "cell_type": "code",
   "execution_count": 220,
   "id": "259ec8e6-6ce4-44a3-ab80-a2d98460a382",
   "metadata": {},
   "outputs": [
    {
     "name": "stdout",
     "output_type": "stream",
     "text": [
      "~ a = -11\n"
     ]
    }
   ],
   "source": [
    "# Bitwise not\n",
    "\"\"\"\n",
    "Python Bitwise Not (~) Operator works with a single value and returns its one’s complement. \n",
    "This means it toggles all bits in the value, transforming 0 bits to 1 and 1 bits to 0, resulting in the one’s complement of the binary number.\n",
    "\n",
    "a = 10 = 00001010 ( 8 - Bit representation)\n",
    "\n",
    "\n",
    "~ 00001010\n",
    "  --------\n",
    "  11110101  \n",
    "\n",
    "  this is the 1's complement of the number 10\n",
    "\n",
    "to find out decimal equivalent of 11110101 , we need to take the 2's complement since the number is negative\n",
    "\n",
    "1's complement of 11110101  = 00001010\n",
    "\n",
    "2's complement of 11110101  = 00001010  +\n",
    "                                     1\n",
    "                              --------\n",
    "                              00001011\n",
    "\n",
    "    so this is 11.    \n",
    "    since the number is negative, the answer will be -11\n",
    "\"\"\"\n",
    "\n",
    "a = 10\n",
    "\n",
    "print(\"~ a =\", ~a)   "
   ]
  },
  {
   "cell_type": "code",
   "execution_count": 222,
   "id": "020103dd-23ef-4b46-8e74-3acf73680212",
   "metadata": {},
   "outputs": [
    {
     "name": "stdout",
     "output_type": "stream",
     "text": [
      "a >> 1 = 5\n",
      "b >> 1 = -5\n"
     ]
    }
   ],
   "source": [
    "# bitwise right shift \n",
    "\"\"\"\n",
    "The right shift (>>) operator shifts all the bits in a number to the right by the specified number of positions, \n",
    "and fills the empty bits with zeros on the left.\n",
    "\n",
    "In arithmetic right shift (which Python uses for signed integers):\n",
    "\n",
    "Shift bits to the right\n",
    "\n",
    "Fill the leftmost bits with the original sign bit (MSB) to preserve the sign.\n",
    "\n",
    "Example 1:\n",
    "a = 10 = 0000 1010 \n",
    "a >> 1 = 0000 0101 = 5\n",
    "\n",
    "Example 2:\n",
    "a = -10 = 1111 0110 (-10 will be represented as 2's complement of 10\n",
    "\n",
    "                      1's complement of 10 i.e. 0000 1010 = 1111 0101 \n",
    "                      2's complement 1111 0101 +\n",
    "                                             1\n",
    "                                    -----------\n",
    "                                     1111 0110)\n",
    "a >> 1 = 1111 1011 = -5 (Take 2's complement to find the decimal equivalent)\n",
    "                       1's complement of 0111 1011 = 0000 0100 +\n",
    "                                                             1\n",
    "                                                     ----------\n",
    "                                                     0000 0101 = -5 (0000 0101 indicates 5)\n",
    "\"\"\"\n",
    "\n",
    "a = 10\n",
    "b = -10\n",
    "\n",
    "print(\"a >> 1 =\", a >> 1)\n",
    "print(\"b >> 1 =\", b >> 1)"
   ]
  },
  {
   "cell_type": "code",
   "execution_count": 226,
   "id": "1be9d87a-4583-41a8-b61b-d95a23c83835",
   "metadata": {},
   "outputs": [
    {
     "name": "stdout",
     "output_type": "stream",
     "text": [
      "a << 1 = 20\n",
      "b << 1 = -20\n"
     ]
    }
   ],
   "source": [
    "# bitwise left shift \n",
    "\"\"\"\n",
    "The left shift (<<) operator shifts all the bits in a number to the left by the specified number of positions, \n",
    "and fills the empty bits with zeros on the right.\n",
    "Example 1:\n",
    "a = 10 = 0000 1010 \n",
    "a << 1 = 0001 0100 = 20\n",
    "\n",
    "Example 2:\n",
    "a = -10 = 1111 0110 (-10 will be represented as 2's complement of 10\n",
    "\n",
    "                      1's complement of 10 i.e. 0000 1010 = 1111 0101 \n",
    "                      2's complement 1111 0101 +\n",
    "                                             1\n",
    "                                    -----------\n",
    "                                     1111 0110)\n",
    "a << 1 = 1110 1100 =  (Take 2's complement to find the decimal equivalent)\n",
    "                       1's complement of 1110 1100 = 0001 0011 +\n",
    "                                                             1\n",
    "                                                     ----------\n",
    "                                                     0001 0100 = 20 (0001 0101 indicates 20)\n",
    "\"\"\"\n",
    "\n",
    "a = 10\n",
    "b = -10\n",
    "\n",
    "print(\"a << 1 =\", a << 1)\n",
    "print(\"b << 1 =\", b << 1)"
   ]
  },
  {
   "cell_type": "markdown",
   "id": "0d40f13b-3f0b-4aaa-bcd8-d2695f3635dd",
   "metadata": {},
   "source": [
    "# Assignment Operator"
   ]
  },
  {
   "cell_type": "code",
   "execution_count": 245,
   "id": "721f78f5-6f3e-4657-aaa6-3724c4a34eec",
   "metadata": {},
   "outputs": [
    {
     "name": "stdout",
     "output_type": "stream",
     "text": [
      "a :  3\n",
      "b :  5\n",
      "a + b :  8\n",
      "a += b :  8\n"
     ]
    }
   ],
   "source": [
    "a = 3\n",
    "b = 5\n",
    "\n",
    "print(\"a : \",a)\n",
    "print(\"b : \",b)\n",
    "\n",
    "print(\"a + b : \",a + b)"
   ]
  },
  {
   "cell_type": "code",
   "execution_count": null,
   "id": "36eca0e4-af5b-4ff9-9795-0df05dbd2641",
   "metadata": {},
   "outputs": [],
   "source": [
    "a += b\n",
    "print(\"a += b : \",a)"
   ]
  },
  {
   "cell_type": "code",
   "execution_count": 247,
   "id": "ceda7fb7-64f3-4dfd-a0ad-b216f16dfe23",
   "metadata": {},
   "outputs": [
    {
     "name": "stdout",
     "output_type": "stream",
     "text": [
      "a -= b :  -2\n"
     ]
    }
   ],
   "source": [
    "a = 3\n",
    "b = 5\n",
    "a -= b\n",
    "print(\"a -= b : \",a)"
   ]
  },
  {
   "cell_type": "code",
   "execution_count": 249,
   "id": "54be00d9-d766-4e15-9083-2bc6260f675d",
   "metadata": {},
   "outputs": [
    {
     "name": "stdout",
     "output_type": "stream",
     "text": [
      "a *= b :  15\n"
     ]
    }
   ],
   "source": [
    "a = 3\n",
    "b = 5\n",
    "a *= b\n",
    "print(\"a *= b : \",a)"
   ]
  },
  {
   "cell_type": "code",
   "execution_count": 251,
   "id": "662593c9-2d26-4a5c-83de-77ed0fa2ae9b",
   "metadata": {},
   "outputs": [
    {
     "name": "stdout",
     "output_type": "stream",
     "text": [
      "a /= b :  0.6\n"
     ]
    }
   ],
   "source": [
    "a = 3\n",
    "b = 5\n",
    "a /= b\n",
    "print(\"a /= b : \",a)"
   ]
  },
  {
   "cell_type": "code",
   "execution_count": 253,
   "id": "932714b7-de23-4157-adc8-3f5904f3b269",
   "metadata": {},
   "outputs": [
    {
     "name": "stdout",
     "output_type": "stream",
     "text": [
      "a //= b :  0\n"
     ]
    }
   ],
   "source": [
    "a = 3\n",
    "b = 5\n",
    "a //= b\n",
    "print(\"a //= b : \",a)"
   ]
  },
  {
   "cell_type": "code",
   "execution_count": 255,
   "id": "3905314f-94aa-4fb4-ae93-2db4032c522a",
   "metadata": {},
   "outputs": [
    {
     "name": "stdout",
     "output_type": "stream",
     "text": [
      "a *= b :  3\n"
     ]
    }
   ],
   "source": [
    "a = 3\n",
    "b = 5\n",
    "a %= b\n",
    "print(\"a *= b : \",a)"
   ]
  },
  {
   "cell_type": "code",
   "execution_count": 257,
   "id": "0d46ffce-4ab4-4aaa-b197-bb43e5a96a2e",
   "metadata": {},
   "outputs": [
    {
     "name": "stdout",
     "output_type": "stream",
     "text": [
      "a **= b :  243\n"
     ]
    }
   ],
   "source": [
    "a = 3\n",
    "b = 5\n",
    "\n",
    "a **= b\n",
    "\n",
    "print(\"a **= b : \",a)"
   ]
  },
  {
   "cell_type": "code",
   "execution_count": 259,
   "id": "3e2ab710-4315-4c47-9679-7c8024e4ab9b",
   "metadata": {},
   "outputs": [
    {
     "name": "stdout",
     "output_type": "stream",
     "text": [
      "a &= :  1\n"
     ]
    }
   ],
   "source": [
    "a = 3\n",
    "b = 5\n",
    "\n",
    "a &= b\n",
    "\n",
    "print(\"a &= : \", a)"
   ]
  },
  {
   "cell_type": "code",
   "execution_count": 261,
   "id": "e19046a3-e5e4-41f8-b8ab-f92bfd72f148",
   "metadata": {},
   "outputs": [
    {
     "name": "stdout",
     "output_type": "stream",
     "text": [
      "a | b :  7\n"
     ]
    }
   ],
   "source": [
    "a = 3\n",
    "b = 5\n",
    "\n",
    "a |= b\n",
    "\n",
    "print(\"a | b : \",a)"
   ]
  },
  {
   "cell_type": "code",
   "execution_count": 263,
   "id": "86add03f-f378-4061-aaef-9eb419b65e1e",
   "metadata": {},
   "outputs": [
    {
     "name": "stdout",
     "output_type": "stream",
     "text": [
      "a ^ b :  6\n"
     ]
    }
   ],
   "source": [
    "a = 3\n",
    "b = 5\n",
    "\n",
    "a ^= b\n",
    "\n",
    "print(\"a ^ b : \",a)"
   ]
  },
  {
   "cell_type": "code",
   "execution_count": 265,
   "id": "bbfda04b-2488-4ec6-9422-bb8e3cdb92d9",
   "metadata": {},
   "outputs": [
    {
     "name": "stdout",
     "output_type": "stream",
     "text": [
      "a >>= :  0\n"
     ]
    }
   ],
   "source": [
    "a = 3\n",
    "b = 5\n",
    "\n",
    "a >>= b\n",
    "\n",
    "print(\"a >>= : \",a)"
   ]
  },
  {
   "cell_type": "code",
   "execution_count": 267,
   "id": "3f1afd3a-b1b6-4ae6-bf3c-ca741e7e54e2",
   "metadata": {},
   "outputs": [
    {
     "name": "stdout",
     "output_type": "stream",
     "text": [
      "a <<= :  96\n"
     ]
    }
   ],
   "source": [
    "a = 3\n",
    "b = 5\n",
    "\n",
    "a <<= b\n",
    "\n",
    "print(\"a <<= : \",a)"
   ]
  },
  {
   "cell_type": "code",
   "execution_count": 271,
   "id": "d13a4fe8-85bb-4e00-aad5-518d4814d97b",
   "metadata": {},
   "outputs": [
    {
     "name": "stdout",
     "output_type": "stream",
     "text": [
      "5\n",
      "4\n",
      "3\n"
     ]
    }
   ],
   "source": [
    "\"\"\"The Walrus Operator in Python is a new assignment operator which is introduced in Python version 3.8 and higher. \n",
    "This operator is used to assign a value to a variable within an expression.\n",
    "\n",
    "Syntax: a := expression\n",
    "Example: In this code, we have a Python list of integers. We have used Python Walrus assignment operator within the Python while loop. \n",
    "The operator will solve the expression on the right-hand side and assign the value to the left-hand side operand ‘x’ and then execute the remaining code.\n",
    "\"\"\"\n",
    "\n",
    "a = [1, 2, 3, 4, 5]\n",
    "\n",
    "# walrus operator\n",
    "while(x := len(a)) > 2:\n",
    "    a.pop()\n",
    "    print(x)"
   ]
  },
  {
   "cell_type": "markdown",
   "id": "71e1a4e2-3094-4d66-b44b-3e554be5e4a9",
   "metadata": {},
   "source": [
    "# Memebership Operator"
   ]
  },
  {
   "cell_type": "code",
   "execution_count": 274,
   "id": "20caffdb-7453-4e1d-a543-f596d4881498",
   "metadata": {},
   "outputs": [
    {
     "name": "stdout",
     "output_type": "stream",
     "text": [
      "True\n",
      "False\n",
      "True\n"
     ]
    }
   ],
   "source": [
    "# in operator\n",
    "list1 = [1, 2, 3, 4, 5]\n",
    "str1 = \"Hello World\"\n",
    "dict1 = {1: \"Geeks\", 2:\"for\", 3:\"geeks\"}\n",
    "\n",
    "# using membership 'in' operator\n",
    "# checking an integer in a list\n",
    "print(2 in list1)\n",
    "\n",
    "# checking a character in a string\n",
    "print('O' in str1)\n",
    "\n",
    "# checking for a key in a dictionary\n",
    "print(3 in dict1)\n"
   ]
  },
  {
   "cell_type": "code",
   "execution_count": 276,
   "id": "02667aa8-ac06-4b19-8ede-63398ed38b6f",
   "metadata": {},
   "outputs": [
    {
     "name": "stdout",
     "output_type": "stream",
     "text": [
      "False\n",
      "True\n",
      "False\n"
     ]
    }
   ],
   "source": [
    "# not in operator\n",
    "list1 = [1, 2, 3, 4, 5]\n",
    "str1 = \"Hello World\"\n",
    "dict1 = {1: \"Geeks\", 2:\"for\", 3:\"geeks\"}\n",
    "\n",
    "# using membership 'not in' operator\n",
    "# checking an integer in a list\n",
    "print(2 not in list1)\n",
    "\n",
    "# checking a character in a string\n",
    "print('O' not in str1)\n",
    "\n",
    "# checking for a key in a dictionary\n",
    "print(3 not in dict1)\n"
   ]
  },
  {
   "cell_type": "code",
   "execution_count": 278,
   "id": "236585f7-7677-4711-8940-573614ab5bb1",
   "metadata": {},
   "outputs": [
    {
     "name": "stdout",
     "output_type": "stream",
     "text": [
      "True\n",
      "False\n",
      "False\n",
      "True\n",
      "False\n"
     ]
    }
   ],
   "source": [
    "# import module\n",
    "import operator\n",
    "\n",
    "# using operator.contain()\n",
    "# checking an integer in a list\n",
    "print(operator.contains([1, 2, 3, 4, 5], 2))\n",
    "\n",
    "# checking a character in a string\n",
    "print(operator.contains(\"Hello World\", 'O'))\n",
    "\n",
    "# checking an integer in aset\n",
    "print(operator.contains({1, 2, 3, 4, 5}, 6))\n",
    "\n",
    "# checking for a key in a dictionary\n",
    "print(operator.contains({1: \"Geeks\", 2:\"for\", 3:\"geeks\"}, 3))\n",
    "\n",
    "# checking for an integer in a tuple\n",
    "print(operator.contains((1, 2, 3, 4, 5), 9))"
   ]
  },
  {
   "cell_type": "markdown",
   "id": "32b0fb35-55b5-40ef-bce1-668633ede7e4",
   "metadata": {},
   "source": [
    "# Identity Operator"
   ]
  },
  {
   "cell_type": "code",
   "execution_count": 287,
   "id": "c8a03d31-9ead-44f3-ae01-2274a082cee1",
   "metadata": {},
   "outputs": [
    {
     "name": "stdout",
     "output_type": "stream",
     "text": [
      "True\n",
      "False\n",
      "False\n",
      "True\n",
      "False\n"
     ]
    }
   ],
   "source": [
    "# 'is' identity operator\n",
    "num1 = 5\n",
    "num2 = 5\n",
    "\n",
    "float1 = 3.4\n",
    "float2 = 3.4\n",
    "\n",
    "a = [1, 2, 3]\n",
    "b = [1, 2, 3]\n",
    "c = a\n",
    "\n",
    "s1 = \"hello world\"\n",
    "s2 = \"hello world\"\n",
    "\n",
    "print(num1 is num2)\n",
    "print(float1 is float2)\n",
    "print(a is b)\n",
    "print(a is c)\n",
    "print(s1 is s2)"
   ]
  },
  {
   "cell_type": "code",
   "execution_count": 289,
   "id": "e8ae5be1-2d46-4235-8176-7d80e017294c",
   "metadata": {},
   "outputs": [
    {
     "name": "stdout",
     "output_type": "stream",
     "text": [
      "False\n",
      "True\n",
      "False\n",
      "True\n",
      "False\n"
     ]
    }
   ],
   "source": [
    "# 'is not' identity operator\n",
    "num1 = 5\n",
    "num2 = 5\n",
    "\n",
    "a = [1, 2, 3]\n",
    "b = [1, 2, 3]\n",
    "c = a\n",
    "\n",
    "s1 = \"hello world\"\n",
    "s2 = \"hello world\"\n",
    "\n",
    "# using 'is not' identity operator on different datatypes\n",
    "print(num1 is not num2)\n",
    "print(a is not b)\n",
    "print(a is not c)\n",
    "print(s1 is not s2)\n",
    "print(s1 is not s1)"
   ]
  },
  {
   "cell_type": "markdown",
   "id": "6e2abe6d-3934-4af4-8214-280afcc2261d",
   "metadata": {},
   "source": [
    "# Strings"
   ]
  },
  {
   "cell_type": "code",
   "execution_count": 198,
   "id": "4822a30e-9bad-43c6-8330-c30547ecca4d",
   "metadata": {},
   "outputs": [
    {
     "name": "stdout",
     "output_type": "stream",
     "text": [
      "e\n"
     ]
    }
   ],
   "source": [
    "a = \"Hello, World!\"\n",
    "\n",
    "#access character at position at 1\n",
    "print(a[1])"
   ]
  },
  {
   "cell_type": "code",
   "execution_count": 200,
   "id": "67264bd8-d4d8-4cd6-8a09-c7cb40cef252",
   "metadata": {},
   "outputs": [
    {
     "name": "stdout",
     "output_type": "stream",
     "text": [
      "llo\n"
     ]
    }
   ],
   "source": [
    "#SubString \n",
    "print(a[2:5])"
   ]
  },
  {
   "cell_type": "code",
   "execution_count": 202,
   "id": "869f586e-f47f-44f0-bd44-d8a52cf53232",
   "metadata": {},
   "outputs": [
    {
     "name": "stdout",
     "output_type": "stream",
     "text": [
      "Hello, World!\n"
     ]
    }
   ],
   "source": [
    "#Remove whitespace from beginning or end\n",
    "a = \" Hello, World! \"\n",
    "print(a.strip())"
   ]
  },
  {
   "cell_type": "code",
   "execution_count": 204,
   "id": "232840f6-9d59-4162-9527-dd3b36fa3f94",
   "metadata": {},
   "outputs": [
    {
     "name": "stdout",
     "output_type": "stream",
     "text": [
      "13\n"
     ]
    }
   ],
   "source": [
    "# Find length of the string\n",
    "\n",
    "a = \"Hello, World!\"\n",
    "print(len(a))"
   ]
  },
  {
   "cell_type": "code",
   "execution_count": 206,
   "id": "f2a8b007-dd17-488e-b0c8-963d09a9d8bf",
   "metadata": {},
   "outputs": [
    {
     "name": "stdout",
     "output_type": "stream",
     "text": [
      "hello, world!\n"
     ]
    }
   ],
   "source": [
    "#convert to lower case\n",
    "print(a.lower())"
   ]
  },
  {
   "cell_type": "code",
   "execution_count": 208,
   "id": "9a9f087d-9b6d-4a6a-8034-adb8bfb63e83",
   "metadata": {},
   "outputs": [
    {
     "name": "stdout",
     "output_type": "stream",
     "text": [
      "HELLO, WORLD!\n"
     ]
    }
   ],
   "source": [
    "#convert to upper case\n",
    "print(a.upper())"
   ]
  },
  {
   "cell_type": "code",
   "execution_count": 210,
   "id": "0cc6af0e-4b75-4cd3-90bf-3658b7e09a2c",
   "metadata": {},
   "outputs": [
    {
     "name": "stdout",
     "output_type": "stream",
     "text": [
      "Hello, world!\n"
     ]
    }
   ],
   "source": [
    "print(a.capitalize())  #Converts the first character of the string to a capital (uppercase) letter"
   ]
  },
  {
   "cell_type": "code",
   "execution_count": 212,
   "id": "bc047312-5297-4298-813c-b58d49e58fc0",
   "metadata": {},
   "outputs": [
    {
     "name": "stdout",
     "output_type": "stream",
     "text": [
      "3\n"
     ]
    }
   ],
   "source": [
    "print(a.count('l'))  #Returns the number of occurrences of a substring in the string."
   ]
  },
  {
   "cell_type": "code",
   "execution_count": 214,
   "id": "6841a23a-3ea7-4d6f-80e5-a41ec0046dac",
   "metadata": {},
   "outputs": [
    {
     "name": "stdout",
     "output_type": "stream",
     "text": [
      "True\n"
     ]
    }
   ],
   "source": [
    "print(a.endswith('!'))"
   ]
  },
  {
   "cell_type": "code",
   "execution_count": 216,
   "id": "80015ccd-a04e-4acd-9ffe-47de953080fe",
   "metadata": {},
   "outputs": [
    {
     "name": "stdout",
     "output_type": "stream",
     "text": [
      "7\n"
     ]
    }
   ],
   "source": [
    "print(a.find(\"W\"))"
   ]
  },
  {
   "cell_type": "code",
   "execution_count": 218,
   "id": "f4033352-dd11-419b-a229-6beb8078c9a7",
   "metadata": {},
   "outputs": [
    {
     "name": "stdout",
     "output_type": "stream",
     "text": [
      "Jello, World!\n"
     ]
    }
   ],
   "source": [
    "#Replace a character with another\n",
    "print(a.replace(\"H\", \"J\"))"
   ]
  },
  {
   "cell_type": "code",
   "execution_count": 220,
   "id": "027b0e65-44b7-42b5-bfd7-afe36a09a4c8",
   "metadata": {},
   "outputs": [
    {
     "name": "stdout",
     "output_type": "stream",
     "text": [
      "['Hello', ' World!']\n"
     ]
    }
   ],
   "source": [
    "#Splitting\n",
    "b = a.split(\",\")\n",
    "print(b)"
   ]
  },
  {
   "cell_type": "code",
   "execution_count": 222,
   "id": "b65da4e6-a47e-4cbe-8a1a-e4ce3d6365d5",
   "metadata": {},
   "outputs": [
    {
     "name": "stdout",
     "output_type": "stream",
     "text": [
      "True\n"
     ]
    }
   ],
   "source": [
    "s = \"abc123\"\n",
    "\n",
    "print(s.isalnum())  #Checks whether all the characters in a given string is alphanumeric or not"
   ]
  },
  {
   "cell_type": "code",
   "execution_count": 224,
   "id": "2a6032e8-ebd2-4dd3-8ffb-ad8294531b0b",
   "metadata": {},
   "outputs": [
    {
     "name": "stdout",
     "output_type": "stream",
     "text": [
      "False\n"
     ]
    }
   ],
   "source": [
    "print(s.isalpha()) #Returns “True” if all characters in the string are alphabets"
   ]
  },
  {
   "cell_type": "code",
   "execution_count": 226,
   "id": "e0a17f9e-71b6-4b67-b606-72e738eff3df",
   "metadata": {},
   "outputs": [
    {
     "name": "stdout",
     "output_type": "stream",
     "text": [
      "False\n"
     ]
    }
   ],
   "source": [
    "print(s.isdigit()) #Returns “True” if all characters in the string are alphabets"
   ]
  },
  {
   "cell_type": "code",
   "execution_count": 228,
   "id": "f40abbf3-e714-4f3f-9b6b-17de0be5e291",
   "metadata": {},
   "outputs": [
    {
     "name": "stdout",
     "output_type": "stream",
     "text": [
      "True\n"
     ]
    }
   ],
   "source": [
    "print(s.islower())  #Checks if all characters in the string are lowercase"
   ]
  },
  {
   "cell_type": "code",
   "execution_count": 230,
   "id": "64d9ff0a-5bdb-4d58-b037-afc7493b55bc",
   "metadata": {},
   "outputs": [
    {
     "name": "stdout",
     "output_type": "stream",
     "text": [
      "False\n"
     ]
    }
   ],
   "source": [
    "print(s.isspace())  #Returns “True” if all characters in the string are whitespace characters"
   ]
  },
  {
   "cell_type": "code",
   "execution_count": 232,
   "id": "e546ea04-3f53-4764-8a48-ff63f963e903",
   "metadata": {},
   "outputs": [
    {
     "name": "stdout",
     "output_type": "stream",
     "text": [
      "False\n"
     ]
    }
   ],
   "source": [
    "print(s.isupper())  #Checks if all characters in the string are uppercase"
   ]
  },
  {
   "cell_type": "code",
   "execution_count": 234,
   "id": "de6e3727-e14e-4c62-aa08-bced8cc7c852",
   "metadata": {},
   "outputs": [
    {
     "name": "stdout",
     "output_type": "stream",
     "text": [
      "Hello world from Python\n"
     ]
    }
   ],
   "source": [
    "list1 = ['Hello', 'world', 'from', 'Python']\n",
    "res = ' '.join(list1)\n",
    "print(res) "
   ]
  },
  {
   "cell_type": "code",
   "execution_count": 236,
   "id": "60ac6f31-be6f-4a2c-a5ef-b31aca65aa6c",
   "metadata": {},
   "outputs": [
    {
     "name": "stdout",
     "output_type": "stream",
     "text": [
      "True\n"
     ]
    }
   ],
   "source": [
    "print(s.startswith('a'))"
   ]
  },
  {
   "cell_type": "code",
   "execution_count": 82,
   "id": "0cebed79-f0ed-4f50-828f-cde8eb21379b",
   "metadata": {},
   "outputs": [
    {
     "name": "stdout",
     "output_type": "stream",
     "text": [
      "helloworld\n"
     ]
    }
   ],
   "source": [
    "s1 = \"hello\"\n",
    "s2 = \"world\"\n",
    "print(s1 + s2)"
   ]
  },
  {
   "cell_type": "code",
   "execution_count": 84,
   "id": "b636aed4-c9ef-4e5f-8790-73f2247f5890",
   "metadata": {},
   "outputs": [
    {
     "name": "stdout",
     "output_type": "stream",
     "text": [
      "hellohellohello\n"
     ]
    }
   ],
   "source": [
    "print(s1 * 3)"
   ]
  },
  {
   "cell_type": "markdown",
   "id": "5845f1e3-1cca-4e94-81c3-0dbf4c678c87",
   "metadata": {},
   "source": [
    "# Lists"
   ]
  },
  {
   "cell_type": "code",
   "execution_count": 91,
   "id": "d79b0d33-e9e8-44ec-82dc-5bdcbeec7a3b",
   "metadata": {},
   "outputs": [
    {
     "name": "stdout",
     "output_type": "stream",
     "text": [
      "['apple', 'banana', 'cherry']\n"
     ]
    }
   ],
   "source": [
    "fruits = [\"apple\", \"banana\", \"cherry\"]\n",
    "print(fruits)"
   ]
  },
  {
   "cell_type": "code",
   "execution_count": 93,
   "id": "05924f7f-b5c5-4b46-b2f1-c2c48af54ba7",
   "metadata": {},
   "outputs": [
    {
     "name": "stdout",
     "output_type": "stream",
     "text": [
      "banana\n",
      "cherry\n"
     ]
    }
   ],
   "source": [
    "#Access an element from list using index\n",
    "print(fruits[1])\n",
    "print(fruits[-1])"
   ]
  },
  {
   "cell_type": "code",
   "execution_count": 95,
   "id": "f8391c10-55bd-45fd-85ed-f75c8d0d1e92",
   "metadata": {},
   "outputs": [
    {
     "name": "stdout",
     "output_type": "stream",
     "text": [
      "['apple', 'kiwi', 'cherry']\n"
     ]
    }
   ],
   "source": [
    "#Change the list element\n",
    "fruits[1] = \"kiwi\"\n",
    "print(fruits)"
   ]
  },
  {
   "cell_type": "code",
   "execution_count": 97,
   "id": "5c692215-3a41-4305-82cf-0e696f48ac17",
   "metadata": {},
   "outputs": [
    {
     "name": "stdout",
     "output_type": "stream",
     "text": [
      "apple\n",
      "kiwi\n",
      "cherry\n"
     ]
    }
   ],
   "source": [
    "#Access all the elements of the list\n",
    "for x in fruits:\n",
    "  print(x)"
   ]
  },
  {
   "cell_type": "code",
   "execution_count": 99,
   "id": "686bdf4f-ddd0-4a73-8552-805b659d5c96",
   "metadata": {},
   "outputs": [
    {
     "name": "stdout",
     "output_type": "stream",
     "text": [
      "Yes, 'apple' is in the fruits list\n"
     ]
    }
   ],
   "source": [
    "#check if an item exists in the list\n",
    "if \"apple\" in fruits:\n",
    "  print(\"Yes, 'apple' is in the fruits list\")"
   ]
  },
  {
   "cell_type": "code",
   "execution_count": 101,
   "id": "502a538f-d5d6-4bcb-a95e-b9ae29fccc8a",
   "metadata": {},
   "outputs": [
    {
     "name": "stdout",
     "output_type": "stream",
     "text": [
      "3\n"
     ]
    }
   ],
   "source": [
    "#Find length of the list\n",
    "print(len(fruits))"
   ]
  },
  {
   "cell_type": "code",
   "execution_count": 103,
   "id": "994ec18c-90dd-465b-b13d-50b07ac65306",
   "metadata": {},
   "outputs": [
    {
     "name": "stdout",
     "output_type": "stream",
     "text": [
      "['apple', 'kiwi', 'cherry']\n"
     ]
    }
   ],
   "source": [
    "myList = fruits.copy()\n",
    "print(myList)"
   ]
  },
  {
   "cell_type": "code",
   "execution_count": 105,
   "id": "d3bc097d-8bdc-4d40-a591-1123941cba4c",
   "metadata": {},
   "outputs": [
    {
     "name": "stdout",
     "output_type": "stream",
     "text": [
      "['apple', 'kiwi', 'cherry', 'orange']\n"
     ]
    }
   ],
   "source": [
    "#Add item at the end of the list\n",
    "fruits.append(\"orange\")\n",
    "print(fruits)"
   ]
  },
  {
   "cell_type": "code",
   "execution_count": 107,
   "id": "1f814007-4d51-44da-9c4a-0fa3e61e87e1",
   "metadata": {},
   "outputs": [
    {
     "name": "stdout",
     "output_type": "stream",
     "text": [
      "['apple', 'mango', 'kiwi', 'cherry', 'orange']\n"
     ]
    }
   ],
   "source": [
    "#Add item at the specified position\n",
    "fruits.insert(1, \"mango\")\n",
    "print(fruits)"
   ]
  },
  {
   "cell_type": "code",
   "execution_count": 109,
   "id": "75cc7d78-50e3-4f8e-b1e5-8df502c32361",
   "metadata": {},
   "outputs": [
    {
     "name": "stdout",
     "output_type": "stream",
     "text": [
      "['apple', 'mango', 'kiwi', 'orange']\n"
     ]
    }
   ],
   "source": [
    "#remove element at the specified position\n",
    "fruits.remove(\"cherry\")\n",
    "print(fruits)"
   ]
  },
  {
   "cell_type": "code",
   "execution_count": 111,
   "id": "bed0b467-f1a8-4af3-891f-8bd4f6f4b496",
   "metadata": {},
   "outputs": [
    {
     "name": "stdout",
     "output_type": "stream",
     "text": [
      "['apple', 'mango', 'kiwi']\n"
     ]
    }
   ],
   "source": [
    "#Remove last element\n",
    "fruits.pop()\n",
    "print(fruits)"
   ]
  },
  {
   "cell_type": "code",
   "execution_count": 113,
   "id": "4d5bee32-78de-4803-8925-57718b0ecfc8",
   "metadata": {},
   "outputs": [
    {
     "name": "stdout",
     "output_type": "stream",
     "text": [
      "['mango', 'kiwi']\n"
     ]
    }
   ],
   "source": [
    "#Remove an element from the specified position\n",
    "del fruits[0]\n",
    "print(fruits)"
   ]
  },
  {
   "cell_type": "code",
   "execution_count": 115,
   "id": "7c7f352d-a9c1-4a0a-a00e-ac9f7e97ef4e",
   "metadata": {},
   "outputs": [
    {
     "name": "stdout",
     "output_type": "stream",
     "text": [
      "[]\n"
     ]
    }
   ],
   "source": [
    "#empty the list\n",
    "fruits.clear()\n",
    "print(fruits)"
   ]
  },
  {
   "cell_type": "code",
   "execution_count": 117,
   "id": "454ff836-cf83-4afa-81e1-a6980f8c808c",
   "metadata": {},
   "outputs": [
    {
     "name": "stdout",
     "output_type": "stream",
     "text": [
      "['orange', 'banana', 'watermelon', 'apple', 'kiwi', 'cherry']\n"
     ]
    }
   ],
   "source": [
    "fruits = ['orange', 'banana', 'watermelon']\n",
    "\n",
    "fruits.extend(myList)\n",
    "print(fruits)"
   ]
  },
  {
   "cell_type": "code",
   "execution_count": 119,
   "id": "7fb52101-1202-4c7b-8d1b-0d92d3b60b19",
   "metadata": {},
   "outputs": [
    {
     "name": "stdout",
     "output_type": "stream",
     "text": [
      "5\n"
     ]
    }
   ],
   "source": [
    "print(fruits.index(\"cherry\"))"
   ]
  },
  {
   "cell_type": "code",
   "execution_count": 121,
   "id": "e34bbb84-3eb1-4dc4-9190-a5f1ab80574f",
   "metadata": {},
   "outputs": [
    {
     "name": "stdout",
     "output_type": "stream",
     "text": [
      "['cherry', 'kiwi', 'apple', 'watermelon', 'banana', 'orange']\n"
     ]
    }
   ],
   "source": [
    "fruits.reverse()\n",
    "print(fruits)"
   ]
  },
  {
   "cell_type": "code",
   "execution_count": 123,
   "id": "10eefbfd-89c6-4c0d-ac77-f03d6b34ce7f",
   "metadata": {},
   "outputs": [
    {
     "name": "stdout",
     "output_type": "stream",
     "text": [
      "['apple', 'banana', 'cherry', 'kiwi', 'orange', 'watermelon']\n"
     ]
    }
   ],
   "source": [
    "fruits.sort()\n",
    "print(fruits)"
   ]
  },
  {
   "cell_type": "code",
   "execution_count": 129,
   "id": "53fb541e-eb07-4e6a-aee9-f994f70ebf23",
   "metadata": {},
   "outputs": [
    {
     "name": "stdout",
     "output_type": "stream",
     "text": [
      "[4, 2, 8, 1, 6]\n",
      "8\n",
      "1\n",
      "21\n"
     ]
    }
   ],
   "source": [
    "nums = [4,2,8,1,6]\n",
    "print(nums)\n",
    "\n",
    "print(max(nums))\n",
    "print(min(nums))\n",
    "print(sum(nums))"
   ]
  },
  {
   "cell_type": "code",
   "execution_count": 131,
   "id": "789d6165-9b97-4323-a181-a6cbe22f5e04",
   "metadata": {},
   "outputs": [
    {
     "name": "stdout",
     "output_type": "stream",
     "text": [
      "[4, 2, 8, 1, 6, 4, 2, 8, 1, 6]\n"
     ]
    }
   ],
   "source": [
    "print(nums * 2)"
   ]
  },
  {
   "cell_type": "code",
   "execution_count": 139,
   "id": "6e28a3fb-7d20-44a2-a516-53eee959848d",
   "metadata": {},
   "outputs": [
    {
     "name": "stdout",
     "output_type": "stream",
     "text": [
      "False\n"
     ]
    }
   ],
   "source": [
    "nums = [0,1,2,3]\n",
    "\n",
    "print(all(nums))   # returns \"True\" if all the elements of the supplied iterable are true or if there are no elements"
   ]
  },
  {
   "cell_type": "code",
   "execution_count": 143,
   "id": "f0927182-5be3-4186-b4bd-b994a6b887f0",
   "metadata": {},
   "outputs": [
    {
     "name": "stdout",
     "output_type": "stream",
     "text": [
      "True\n"
     ]
    }
   ],
   "source": [
    "print(any(nums))  # returns \"True\" if any elements of the supplied iterable is true. If the iterable is empty, it returns \"False\""
   ]
  },
  {
   "cell_type": "code",
   "execution_count": 338,
   "id": "61284900-f572-4bc5-a4f0-a5868c58bc53",
   "metadata": {},
   "outputs": [
    {
     "name": "stdout",
     "output_type": "stream",
     "text": [
      "['abc', 7, 9, 3.4, 'x']\n"
     ]
    }
   ],
   "source": [
    "mixedList = [\"abc\" , 7, 9 , 3.4 , \"x\"]\n",
    "\n",
    "print(mixedList)"
   ]
  },
  {
   "cell_type": "code",
   "execution_count": 340,
   "id": "8f7f3d74-8c0b-40f5-9524-4354940b640e",
   "metadata": {},
   "outputs": [
    {
     "name": "stdout",
     "output_type": "stream",
     "text": [
      "[[2, 5, 1], [6, 8, 0], [10, 5, 2]]\n"
     ]
    }
   ],
   "source": [
    "nestedList = [[2,5,1] , [6,8,0], [10,5,2]]\n",
    "\n",
    "print(nestedList)"
   ]
  },
  {
   "cell_type": "markdown",
   "id": "1e547e67-f12a-4aef-acba-6a8d7826df77",
   "metadata": {},
   "source": [
    "# Tuples"
   ]
  },
  {
   "cell_type": "code",
   "execution_count": 148,
   "id": "1990654f-7ac1-4fa3-95fa-24f35f6149ed",
   "metadata": {},
   "outputs": [
    {
     "name": "stdout",
     "output_type": "stream",
     "text": [
      "(0, 1, 2, 3, 2, 3, 1, 3, 2)\n",
      "('Python', 'C', 'Java', 'C++')\n"
     ]
    }
   ],
   "source": [
    "# immutable\n",
    "tuple1 = (0, 1, 2, 3, 2, 3, 1, 3, 2) \n",
    "tuple2 = ('Python', 'C', 'Java', 'C++') \n",
    "\n",
    "print(tuple1)\n",
    "print(tuple2)"
   ]
  },
  {
   "cell_type": "code",
   "execution_count": 186,
   "id": "55a5b020-9dc5-4481-894d-d07324f360d9",
   "metadata": {},
   "outputs": [
    {
     "name": "stdout",
     "output_type": "stream",
     "text": [
      "Python\n",
      "C\n",
      "Java\n",
      "C++\n"
     ]
    }
   ],
   "source": [
    "for item in tuple2:\n",
    "    print(item)"
   ]
  },
  {
   "cell_type": "code",
   "execution_count": 152,
   "id": "88665114-517b-46f5-97fa-f8053896bd0f",
   "metadata": {},
   "outputs": [
    {
     "name": "stdout",
     "output_type": "stream",
     "text": [
      "2\n"
     ]
    }
   ],
   "source": [
    "print(tuple1[2])"
   ]
  },
  {
   "cell_type": "code",
   "execution_count": 156,
   "id": "9c8189c5-e91c-428e-af06-39c341dcdb51",
   "metadata": {},
   "outputs": [
    {
     "name": "stdout",
     "output_type": "stream",
     "text": [
      "C++\n"
     ]
    }
   ],
   "source": [
    "print(tuple2[-1])"
   ]
  },
  {
   "cell_type": "code",
   "execution_count": 150,
   "id": "3f939b77-c14c-4378-8d32-fd0074b789e7",
   "metadata": {},
   "outputs": [
    {
     "name": "stdout",
     "output_type": "stream",
     "text": [
      "3\n"
     ]
    }
   ],
   "source": [
    "# count the appearance of 3 \n",
    "print(tuple1.count(3))"
   ]
  },
  {
   "cell_type": "code",
   "execution_count": 160,
   "id": "6c9dabda-0c47-47b6-b6a7-eee44da5a51a",
   "metadata": {},
   "outputs": [
    {
     "name": "stdout",
     "output_type": "stream",
     "text": [
      "2\n"
     ]
    }
   ],
   "source": [
    "print(tuple2.index(\"Java\"))"
   ]
  },
  {
   "cell_type": "code",
   "execution_count": 164,
   "id": "46901c48-a1f2-4fdb-9f2c-4c11e2cf0226",
   "metadata": {},
   "outputs": [],
   "source": [
    "# Tuples are immutable\n",
    "# tuple1[0] = 5 "
   ]
  },
  {
   "cell_type": "code",
   "execution_count": 348,
   "id": "5e53b384-6255-4f33-b5f4-9b0d858d8ca5",
   "metadata": {},
   "outputs": [
    {
     "name": "stdout",
     "output_type": "stream",
     "text": [
      "3\n",
      "0\n",
      "17\n",
      "9\n"
     ]
    }
   ],
   "source": [
    "print(max(tuple1))\n",
    "print(min(tuple1))\n",
    "print(sum(tuple1))\n",
    "print(len(tuple1))"
   ]
  },
  {
   "cell_type": "code",
   "execution_count": 350,
   "id": "d23491d4-bc71-43ce-ae41-87f830610080",
   "metadata": {},
   "outputs": [
    {
     "name": "stdout",
     "output_type": "stream",
     "text": [
      "[0, 1, 1, 2, 2, 2, 3, 3, 3]\n"
     ]
    }
   ],
   "source": [
    "print(sorted(tuple1))"
   ]
  },
  {
   "cell_type": "code",
   "execution_count": 184,
   "id": "e4d75cc8-f5b1-47a6-a883-d42f4e00613d",
   "metadata": {},
   "outputs": [
    {
     "name": "stdout",
     "output_type": "stream",
     "text": [
      "(1, 2, 2)\n",
      "<class 'tuple'>\n"
     ]
    }
   ],
   "source": [
    "#Tuples can be declared without paranthesis also\n",
    "myTuple = 1,2,2\n",
    "print(myTuple)\n",
    "print(type(myTuple))"
   ]
  },
  {
   "cell_type": "code",
   "execution_count": 176,
   "id": "d63580b6-78f2-408a-a401-ec184124b7fc",
   "metadata": {},
   "outputs": [
    {
     "name": "stdout",
     "output_type": "stream",
     "text": [
      "hello\n",
      "<class 'str'>\n",
      "('hello',)\n",
      "<class 'tuple'>\n"
     ]
    }
   ],
   "source": [
    "# if we delcare single element, it is considered as string. hence we need to add a comma after the element\n",
    "myTuple1 = (\"hello\")\n",
    "myTuple2 = (\"hello\",)  # or myTuple2 = \"hello\",\n",
    "\n",
    "print(myTuple1)\n",
    "print(type(myTuple1))\n",
    "\n",
    "print(myTuple2)\n",
    "print(type(myTuple2))"
   ]
  },
  {
   "cell_type": "code",
   "execution_count": 334,
   "id": "25a4b939-ef4d-4cf7-852f-bb3b7583c13a",
   "metadata": {},
   "outputs": [
    {
     "name": "stdout",
     "output_type": "stream",
     "text": [
      "('hello', [2, 4, 6], 8)\n"
     ]
    }
   ],
   "source": [
    "myTuple = (\"hello\", [2,4,6], 8)\n",
    "print(myTuple)"
   ]
  },
  {
   "cell_type": "markdown",
   "id": "27cf1059-4f7f-47ce-8a7e-6b7dc835e1d5",
   "metadata": {},
   "source": [
    "# Sets"
   ]
  },
  {
   "cell_type": "code",
   "execution_count": 360,
   "id": "3dc496dd-4870-4e30-b1e6-80cb0fc711e2",
   "metadata": {},
   "outputs": [
    {
     "name": "stdout",
     "output_type": "stream",
     "text": [
      "{'apple', 'banana', 'cherry'}\n"
     ]
    }
   ],
   "source": [
    "#unordered. Duplicates not allowed. Unchangeble(Once a set is created, you cannot change its items, but you can add new items.)\n",
    "mySet = {\"apple\", \"banana\", \"cherry\"}\n",
    "print(mySet)"
   ]
  },
  {
   "cell_type": "code",
   "execution_count": 362,
   "id": "640af0d8-655c-4d12-9317-743230325361",
   "metadata": {},
   "outputs": [
    {
     "name": "stdout",
     "output_type": "stream",
     "text": [
      "3\n"
     ]
    }
   ],
   "source": [
    "print(len(mySet))"
   ]
  },
  {
   "cell_type": "code",
   "execution_count": 364,
   "id": "6dcfbf02-f0ee-4504-9536-a97a2c455e4e",
   "metadata": {},
   "outputs": [
    {
     "name": "stdout",
     "output_type": "stream",
     "text": [
      "apple\n",
      "banana\n",
      "cherry\n"
     ]
    }
   ],
   "source": [
    "for x in mySet:\n",
    "  print(x)"
   ]
  },
  {
   "cell_type": "code",
   "execution_count": 366,
   "id": "6f56c1cd-556c-4206-ab95-b7d5442c3ecf",
   "metadata": {},
   "outputs": [
    {
     "name": "stdout",
     "output_type": "stream",
     "text": [
      "True\n"
     ]
    }
   ],
   "source": [
    "print(\"banana\" in mySet)"
   ]
  },
  {
   "cell_type": "code",
   "execution_count": 368,
   "id": "7bea318e-6618-4580-a278-1e7e7df9c868",
   "metadata": {},
   "outputs": [
    {
     "name": "stdout",
     "output_type": "stream",
     "text": [
      "{'orange', 'apple', 'banana', 'cherry'}\n"
     ]
    }
   ],
   "source": [
    "#Once a set is created, you cannot change its items, but you can add new items.\n",
    "\n",
    "mySet.add(\"orange\")\n",
    "\n",
    "print(mySet)"
   ]
  },
  {
   "cell_type": "code",
   "execution_count": 370,
   "id": "a1ae837d-fe18-4400-90a4-1756d920efe1",
   "metadata": {},
   "outputs": [
    {
     "name": "stdout",
     "output_type": "stream",
     "text": [
      "{'apple', 'papaya', 'banana', 'cherry', 'pineapple', 'mango', 'orange'}\n"
     ]
    }
   ],
   "source": [
    "tropical = {\"pineapple\", \"mango\", \"papaya\"}\n",
    "\n",
    "mySet.update(tropical)\n",
    "\n",
    "print(mySet)"
   ]
  },
  {
   "cell_type": "code",
   "execution_count": 372,
   "id": "0ae81d97-bc48-481c-8781-41342b9f7b05",
   "metadata": {},
   "outputs": [
    {
     "name": "stdout",
     "output_type": "stream",
     "text": [
      "{'apple', 'papaya', 'cherry', 'pineapple', 'mango', 'orange'}\n"
     ]
    }
   ],
   "source": [
    "mySet.remove(\"banana\")   #If the item to remove does not exist, remove() will raise an error.\n",
    "\n",
    "print(mySet)"
   ]
  },
  {
   "cell_type": "code",
   "execution_count": 374,
   "id": "d8548700-a807-466e-93c8-d0191a63607a",
   "metadata": {},
   "outputs": [
    {
     "name": "stdout",
     "output_type": "stream",
     "text": [
      "{'apple', 'papaya', 'cherry', 'pineapple', 'mango', 'orange'}\n"
     ]
    }
   ],
   "source": [
    "mySet.discard(\"banana\")\n",
    "\n",
    "print(mySet)"
   ]
  },
  {
   "cell_type": "code",
   "execution_count": 376,
   "id": "24232465-37ae-409f-9cba-ccea0f887ddd",
   "metadata": {},
   "outputs": [
    {
     "name": "stdout",
     "output_type": "stream",
     "text": [
      "apple\n",
      "{'papaya', 'cherry', 'pineapple', 'mango', 'orange'}\n"
     ]
    }
   ],
   "source": [
    "x = mySet.pop()  #this method will remove a random item, so you cannot be sure what item that gets removed. The return value of the pop() method is the removed item.\n",
    "\n",
    "print(x)\n",
    "\n",
    "print(mySet)"
   ]
  },
  {
   "cell_type": "code",
   "execution_count": 378,
   "id": "f5bb8285-4698-4ebb-afc5-133ab9b903ac",
   "metadata": {},
   "outputs": [
    {
     "name": "stdout",
     "output_type": "stream",
     "text": [
      "set()\n"
     ]
    }
   ],
   "source": [
    "mySet.clear()\n",
    "\n",
    "print(mySet)"
   ]
  },
  {
   "cell_type": "code",
   "execution_count": 380,
   "id": "66cfecb3-b736-4ebb-a4bb-99debf7c310e",
   "metadata": {},
   "outputs": [],
   "source": [
    "del mySet"
   ]
  },
  {
   "cell_type": "code",
   "execution_count": 306,
   "id": "bced27a3-6125-4373-b652-08f9d8ed7455",
   "metadata": {},
   "outputs": [
    {
     "name": "stdout",
     "output_type": "stream",
     "text": [
      "{'abc', 34, True, 40, 'xyz'}\n"
     ]
    }
   ],
   "source": [
    "set1 = {\"abc\", 34, True, 40, \"xyz\"}\n",
    "print(set1)"
   ]
  },
  {
   "cell_type": "code",
   "execution_count": 382,
   "id": "11ebfcd4-cc19-43b2-8a55-e970be862066",
   "metadata": {},
   "outputs": [
    {
     "name": "stdout",
     "output_type": "stream",
     "text": [
      "{1, 'c', 2, 'b', 3, 'a'}\n"
     ]
    }
   ],
   "source": [
    "#Joining\n",
    "set1 = {\"a\", \"b\", \"c\"}\n",
    "set2 = {1, 2, 3}\n",
    "\n",
    "set3 = set1.union(set2)\n",
    "print(set3)"
   ]
  },
  {
   "cell_type": "code",
   "execution_count": 384,
   "id": "5dffb5bc-3b8b-4359-a39d-7e64773d8e94",
   "metadata": {},
   "outputs": [
    {
     "name": "stdout",
     "output_type": "stream",
     "text": [
      "{1, 'c', 2, 'b', 3, 'a'}\n"
     ]
    }
   ],
   "source": [
    "#Joining\n",
    "set1 = {\"a\", \"b\", \"c\"}\n",
    "set2 = {1, 2, 3}\n",
    "\n",
    "set3 = set1 | set2\n",
    "print(set3)"
   ]
  },
  {
   "cell_type": "code",
   "execution_count": 386,
   "id": "d3787c60-7d90-4cc0-9176-76748080122d",
   "metadata": {},
   "outputs": [
    {
     "name": "stdout",
     "output_type": "stream",
     "text": [
      "{1, 2, 3, 'apple', 'bananas', 'cherry', 'John', 'c', 'b', 'Elena', 'a'}\n"
     ]
    }
   ],
   "source": [
    "set1 = {\"a\", \"b\", \"c\"}\n",
    "set2 = {1, 2, 3}\n",
    "set3 = {\"John\", \"Elena\"}\n",
    "set4 = {\"apple\", \"bananas\", \"cherry\"}\n",
    "\n",
    "myset = set1.union(set2, set3, set4)\n",
    "print(myset)"
   ]
  },
  {
   "cell_type": "code",
   "execution_count": 388,
   "id": "260bc529-d80d-4229-a674-db8cf1f56f88",
   "metadata": {},
   "outputs": [
    {
     "name": "stdout",
     "output_type": "stream",
     "text": [
      "{1, 2, 3, 'apple', 'bananas', 'cherry', 'John', 'c', 'b', 'Elena', 'a'}\n"
     ]
    }
   ],
   "source": [
    "set1 = {\"a\", \"b\", \"c\"}\n",
    "set2 = {1, 2, 3}\n",
    "set3 = {\"John\", \"Elena\"}\n",
    "set4 = {\"apple\", \"bananas\", \"cherry\"}\n",
    "\n",
    "myset = set1 | set2 | set3 |set4\n",
    "print(myset)"
   ]
  },
  {
   "cell_type": "code",
   "execution_count": 390,
   "id": "8bca4359-04ac-45ad-9caf-10b06b00de00",
   "metadata": {},
   "outputs": [
    {
     "name": "stdout",
     "output_type": "stream",
     "text": [
      "{1, 2, 3, 'c', 'b', 'a'}\n"
     ]
    }
   ],
   "source": [
    "#Join a set with a tuple:\n",
    "\n",
    "x = {\"a\", \"b\", \"c\"}\n",
    "y = (1, 2, 3)\n",
    "\n",
    "z = x.union(y)\n",
    "print(z)"
   ]
  },
  {
   "cell_type": "code",
   "execution_count": 392,
   "id": "9ad030ea-537f-4c06-8217-c74fe0229ec9",
   "metadata": {},
   "outputs": [
    {
     "name": "stdout",
     "output_type": "stream",
     "text": [
      "{'apple'}\n"
     ]
    }
   ],
   "source": [
    "set1 = {\"apple\", \"banana\", \"cherry\"}\n",
    "set2 = {\"google\", \"microsoft\", \"apple\"}\n",
    "\n",
    "set3 = set1.intersection(set2)\n",
    "print(set3)"
   ]
  },
  {
   "cell_type": "code",
   "execution_count": 394,
   "id": "e8f8ff92-9bd7-48ad-86bf-b978e1dafefb",
   "metadata": {},
   "outputs": [
    {
     "name": "stdout",
     "output_type": "stream",
     "text": [
      "{'apple'}\n"
     ]
    }
   ],
   "source": [
    "set1 = {\"apple\", \"banana\", \"cherry\"}\n",
    "set2 = {\"google\", \"microsoft\", \"apple\"}\n",
    "\n",
    "set3 = set1 & set2\n",
    "print(set3)"
   ]
  },
  {
   "cell_type": "code",
   "execution_count": 396,
   "id": "d943b4d5-8e88-4f59-a369-53c28dbb0051",
   "metadata": {},
   "outputs": [
    {
     "name": "stdout",
     "output_type": "stream",
     "text": [
      "{'apple'}\n"
     ]
    }
   ],
   "source": [
    "#The intersection_update() method will also keep ONLY the duplicates, but it will change the original set instead of returning a new set.\n",
    "set1 = {\"apple\", \"banana\", \"cherry\"}\n",
    "set2 = {\"google\", \"microsoft\", \"apple\"}\n",
    "\n",
    "set1.intersection_update(set2)\n",
    "\n",
    "print(set1)"
   ]
  },
  {
   "cell_type": "code",
   "execution_count": 400,
   "id": "0b9dbdb4-68d4-4964-bb0f-a633eeba8406",
   "metadata": {},
   "outputs": [
    {
     "name": "stdout",
     "output_type": "stream",
     "text": [
      "{False, 1, 'apple'}\n"
     ]
    }
   ],
   "source": [
    "#The values True and 1 are considered the same value. The same goes for False and 0.\n",
    "set1 = {\"apple\", 1,  \"banana\", 0, \"cherry\"}\n",
    "set2 = {False, \"google\", 1, \"apple\", 2, True}\n",
    "\n",
    "set3 = set1.intersection(set2)\n",
    "\n",
    "print(set3)"
   ]
  },
  {
   "cell_type": "code",
   "execution_count": 402,
   "id": "ee26c8b1-d82a-4540-95af-770efa57daca",
   "metadata": {},
   "outputs": [
    {
     "name": "stdout",
     "output_type": "stream",
     "text": [
      "{'banana', 'cherry'}\n"
     ]
    }
   ],
   "source": [
    "#The difference() method will return a new set that will contain only the items from the first set that are not present in the other set.\n",
    "set1 = {\"apple\", \"banana\", \"cherry\"}\n",
    "set2 = {\"google\", \"microsoft\", \"apple\"}\n",
    "\n",
    "set3 = set1.difference(set2)\n",
    "\n",
    "print(set3)"
   ]
  },
  {
   "cell_type": "code",
   "execution_count": 404,
   "id": "a8613175-760f-404c-9a0e-49da3371364f",
   "metadata": {},
   "outputs": [
    {
     "name": "stdout",
     "output_type": "stream",
     "text": [
      "{'banana', 'cherry'}\n"
     ]
    }
   ],
   "source": [
    "set1 = {\"apple\", \"banana\", \"cherry\"}\n",
    "set2 = {\"google\", \"microsoft\", \"apple\"}\n",
    "\n",
    "set3 = set1 - set2\n",
    "print(set3)"
   ]
  },
  {
   "cell_type": "code",
   "execution_count": 408,
   "id": "efd74166-5fca-4ee7-8c87-0f28edecb846",
   "metadata": {},
   "outputs": [
    {
     "name": "stdout",
     "output_type": "stream",
     "text": [
      "{'banana', 'cherry'}\n"
     ]
    }
   ],
   "source": [
    "#The difference_update() method will also keep the items from the first set that are not in the other set, but it will change the original set instead of returning a new set.\n",
    "set1 = {\"apple\", \"banana\", \"cherry\"}\n",
    "set2 = {\"google\", \"microsoft\", \"apple\"}\n",
    "\n",
    "set1.difference_update(set2)\n",
    "\n",
    "print(set1)"
   ]
  },
  {
   "cell_type": "code",
   "execution_count": 410,
   "id": "10d9ae0b-ddad-44ed-97e4-6e60eb24f163",
   "metadata": {},
   "outputs": [
    {
     "name": "stdout",
     "output_type": "stream",
     "text": [
      "{'cherry', 'google', 'banana', 'microsoft'}\n"
     ]
    }
   ],
   "source": [
    "#The symmetric_difference() method will keep only the elements that are NOT present in both sets.\n",
    "\n",
    "set1 = {\"apple\", \"banana\", \"cherry\"}\n",
    "set2 = {\"google\", \"microsoft\", \"apple\"}\n",
    "\n",
    "set3 = set1.symmetric_difference(set2)\n",
    "\n",
    "print(set3)"
   ]
  },
  {
   "cell_type": "code",
   "execution_count": 412,
   "id": "4fb10a80-bb43-45d6-8c80-bb073861b056",
   "metadata": {},
   "outputs": [
    {
     "name": "stdout",
     "output_type": "stream",
     "text": [
      "{'cherry', 'google', 'banana', 'microsoft'}\n"
     ]
    }
   ],
   "source": [
    "#You can use the ^ operator instead of the symmetric_difference() method, and you will get the same result.\n",
    "\n",
    "set1 = {\"apple\", \"banana\", \"cherry\"}\n",
    "set2 = {\"google\", \"microsoft\", \"apple\"}\n",
    "\n",
    "set3 = set1 ^ set2\n",
    "print(set3)"
   ]
  },
  {
   "cell_type": "code",
   "execution_count": 414,
   "id": "0cad1bc7-b50a-4639-a808-33d1155feceb",
   "metadata": {},
   "outputs": [
    {
     "name": "stdout",
     "output_type": "stream",
     "text": [
      "{'cherry', 'google', 'banana', 'microsoft'}\n"
     ]
    }
   ],
   "source": [
    "#The symmetric_difference_update() method will also keep all but the duplicates, but it will change the original set instead of returning a new set.\n",
    "\n",
    "set1 = {\"apple\", \"banana\", \"cherry\"}\n",
    "set2 = {\"google\", \"microsoft\", \"apple\"}\n",
    "\n",
    "set1.symmetric_difference_update(set2)\n",
    "\n",
    "print(set1)"
   ]
  },
  {
   "cell_type": "code",
   "execution_count": 416,
   "id": "a7b29c17-400f-4598-b2c4-cd830e99aab1",
   "metadata": {},
   "outputs": [
    {
     "name": "stdout",
     "output_type": "stream",
     "text": [
      "{'apple', 'banana', 'cherry'}\n"
     ]
    }
   ],
   "source": [
    "fruits = {\"apple\", \"banana\", \"cherry\"}\n",
    "\n",
    "x = fruits.copy()\n",
    "\n",
    "print(x)"
   ]
  },
  {
   "cell_type": "code",
   "execution_count": 418,
   "id": "232fa788-ef69-4d6d-8630-6043229103b2",
   "metadata": {},
   "outputs": [
    {
     "name": "stdout",
     "output_type": "stream",
     "text": [
      "True\n"
     ]
    }
   ],
   "source": [
    "#Return True if no items in set x is present in set y:\n",
    "\n",
    "x = {\"apple\", \"banana\", \"cherry\"}\n",
    "y = {\"google\", \"microsoft\", \"facebook\"}\n",
    "\n",
    "z = x.isdisjoint(y)\n",
    "\n",
    "print(z)"
   ]
  },
  {
   "cell_type": "code",
   "execution_count": 420,
   "id": "d6896668-d585-4ce9-a79d-ad4500bd92ac",
   "metadata": {},
   "outputs": [
    {
     "name": "stdout",
     "output_type": "stream",
     "text": [
      "True\n"
     ]
    }
   ],
   "source": [
    "#Return True if all items in set x are present in set y:\n",
    "\n",
    "x = {\"a\", \"b\", \"c\"}\n",
    "y = {\"f\", \"e\", \"d\", \"c\", \"b\", \"a\"}\n",
    "\n",
    "z = x.issubset(y)\n",
    "\n",
    "print(z)"
   ]
  },
  {
   "cell_type": "code",
   "execution_count": 422,
   "id": "1dd68b28-b532-47f7-b104-17c9d726e274",
   "metadata": {},
   "outputs": [
    {
     "name": "stdout",
     "output_type": "stream",
     "text": [
      "True\n"
     ]
    }
   ],
   "source": [
    "#Return True if all items set y are present in set x:\n",
    "\n",
    "x = {\"f\", \"e\", \"d\", \"c\", \"b\", \"a\"}\n",
    "y = {\"a\", \"b\", \"c\"}\n",
    "\n",
    "z = x.issuperset(y)\n",
    "\n",
    "print(z)"
   ]
  },
  {
   "cell_type": "markdown",
   "id": "9eabc5da-e101-4b66-b594-91c2a40fa8fe",
   "metadata": {},
   "source": [
    "# Dictionary"
   ]
  },
  {
   "cell_type": "code",
   "execution_count": 316,
   "id": "fb0cbdc0-b0bf-40da-835b-8341cea51f36",
   "metadata": {},
   "outputs": [
    {
     "name": "stdout",
     "output_type": "stream",
     "text": [
      "{'Name': 'David', 'Age': '19', 'Country': 'India'}\n"
     ]
    }
   ],
   "source": [
    "dict1 = {'Name': 'David', 'Age': '19', 'Country': 'India'}\n",
    "\n",
    "print(dict1)"
   ]
  },
  {
   "cell_type": "code",
   "execution_count": 318,
   "id": "26e57b65-d230-4a84-bea8-63b4ab0a66ec",
   "metadata": {},
   "outputs": [
    {
     "name": "stdout",
     "output_type": "stream",
     "text": [
      "David\n"
     ]
    }
   ],
   "source": [
    "print(dict1[\"Name\"]) # Access value using the key"
   ]
  },
  {
   "cell_type": "code",
   "execution_count": 320,
   "id": "db00e329-d70f-4114-b8c1-ed35717cb64e",
   "metadata": {},
   "outputs": [
    {
     "name": "stdout",
     "output_type": "stream",
     "text": [
      "{'Name': 'David', 'Age': 23, 'Country': 'India'}\n"
     ]
    }
   ],
   "source": [
    "dict1[\"Age\"] = 23  #Change value using the key\n",
    "\n",
    "print(dict1)"
   ]
  },
  {
   "cell_type": "code",
   "execution_count": 322,
   "id": "659a1a68-dce1-497d-bdfb-c85d50e6e47a",
   "metadata": {},
   "outputs": [
    {
     "name": "stdout",
     "output_type": "stream",
     "text": [
      "David\n"
     ]
    }
   ],
   "source": [
    "print(dict1.get('Name'))"
   ]
  },
  {
   "cell_type": "code",
   "execution_count": 324,
   "id": "5adf1ba8-6540-434e-ad42-12ad3c804cb2",
   "metadata": {},
   "outputs": [
    {
     "name": "stdout",
     "output_type": "stream",
     "text": [
      "None\n"
     ]
    }
   ],
   "source": [
    "# print(dict1['Gender'])  # This throws an error if the key is not found\n",
    "\n",
    "print(dict1.get('Gender')) # But this returns None if the key is not found"
   ]
  },
  {
   "cell_type": "code",
   "execution_count": 326,
   "id": "fd2f5fe0-91ef-4b9b-9840-4579924779ab",
   "metadata": {},
   "outputs": [
    {
     "name": "stdout",
     "output_type": "stream",
     "text": [
      "Name : David\n",
      "Age : 23\n",
      "Country : India\n"
     ]
    }
   ],
   "source": [
    "for key, value in dict1.items():\n",
    "    print(key, \":\", value)"
   ]
  },
  {
   "cell_type": "code",
   "execution_count": 328,
   "id": "bb57f13c-c999-41ec-b278-820e2fb69c56",
   "metadata": {},
   "outputs": [
    {
     "name": "stdout",
     "output_type": "stream",
     "text": [
      "Name\n",
      "Age\n",
      "Country\n"
     ]
    }
   ],
   "source": [
    "for key in dict1.keys():\n",
    "    print(key)  "
   ]
  },
  {
   "cell_type": "code",
   "execution_count": 332,
   "id": "4da70e44-b3dc-4873-9a69-3ef6e4be8fce",
   "metadata": {},
   "outputs": [
    {
     "name": "stdout",
     "output_type": "stream",
     "text": [
      "Keys : dict_keys(['Name', 'Age', 'Country'])\n",
      "Values : dict_values(['David', 23, 'India'])\n"
     ]
    }
   ],
   "source": [
    "print(\"Keys :\", dict1.keys())\n",
    "print(\"Values :\", dict1.values())"
   ]
  },
  {
   "cell_type": "code",
   "execution_count": 342,
   "id": "47e5e2cc-1904-4076-afba-112c7a7db011",
   "metadata": {},
   "outputs": [
    {
     "name": "stdout",
     "output_type": "stream",
     "text": [
      "David\n",
      "23\n",
      "India\n"
     ]
    }
   ],
   "source": [
    "for value in dict1.values():\n",
    "    print(value) "
   ]
  },
  {
   "cell_type": "code",
   "execution_count": 301,
   "id": "ebd6a8b4-1d17-4f12-b70d-cf3d7635e006",
   "metadata": {},
   "outputs": [
    {
     "name": "stdout",
     "output_type": "stream",
     "text": [
      "{'Name': 'David', 'Age': 23}\n"
     ]
    }
   ],
   "source": [
    "dict1.pop(\"Country\")\n",
    "\n",
    "print(dict1)"
   ]
  },
  {
   "cell_type": "code",
   "execution_count": 303,
   "id": "df2475f4-055d-4b9e-a248-7a4bae1e7a89",
   "metadata": {},
   "outputs": [
    {
     "name": "stdout",
     "output_type": "stream",
     "text": [
      "{}\n"
     ]
    }
   ],
   "source": [
    "dict1.clear()\n",
    "\n",
    "print(dict1)"
   ]
  },
  {
   "cell_type": "code",
   "execution_count": 305,
   "id": "b1b70ddf-f98e-43c2-8183-a88e5338dd8f",
   "metadata": {},
   "outputs": [
    {
     "name": "stdout",
     "output_type": "stream",
     "text": [
      "{1: 1, 2: 4, 3: 9, 4: 16, 5: 25}\n"
     ]
    }
   ],
   "source": [
    "squares = {1:1, 2:4, 3:9, 4:16, 5:25}\n",
    "\n",
    "print(squares)"
   ]
  },
  {
   "cell_type": "code",
   "execution_count": 307,
   "id": "a14b38f5-f69e-4ac0-8795-10c464d95c0c",
   "metadata": {},
   "outputs": [
    {
     "name": "stdout",
     "output_type": "stream",
     "text": [
      "{1: 1, 2: 4, 3: 9, 4: 16}\n"
     ]
    }
   ],
   "source": [
    "del squares[5]\n",
    "print(squares)"
   ]
  },
  {
   "cell_type": "code",
   "execution_count": 309,
   "id": "2ce94d0d-b4a8-4c95-9bc7-70a64722ef5f",
   "metadata": {},
   "outputs": [],
   "source": [
    "del squares"
   ]
  },
  {
   "cell_type": "code",
   "execution_count": 311,
   "id": "cc8214ce-92e4-485a-bcf0-e306165a547e",
   "metadata": {},
   "outputs": [
    {
     "name": "stdout",
     "output_type": "stream",
     "text": [
      "{1: 1, 2: 4, 3: 9, 4: 16, 5: 25}\n",
      "1 in squares ::  True\n",
      "6 in squares ::  False\n"
     ]
    }
   ],
   "source": [
    "squares = {1:1, 2:4, 3:9, 4:16, 5:25}\n",
    "\n",
    "print(squares)\n",
    "\n",
    "print(\"1 in squares :: \", 1 in squares)\n",
    "print(\"6 in squares :: \", 6 in squares)"
   ]
  },
  {
   "cell_type": "markdown",
   "id": "fd4d9c27-16fe-4b38-9a51-fff7680610ab",
   "metadata": {},
   "source": [
    "# Conditional Statements"
   ]
  },
  {
   "cell_type": "code",
   "execution_count": 358,
   "id": "1257d2bc-ae5e-482a-9330-e825ed9fd3ff",
   "metadata": {},
   "outputs": [
    {
     "name": "stdout",
     "output_type": "stream",
     "text": [
      "The value is zero\n"
     ]
    }
   ],
   "source": [
    "a = 0\n",
    "if a == 0:\n",
    "    print(\"The value is zero\")"
   ]
  },
  {
   "cell_type": "code",
   "execution_count": 360,
   "id": "62fce28f-82f5-4292-b85d-c878a43ea6b6",
   "metadata": {},
   "outputs": [
    {
     "name": "stdout",
     "output_type": "stream",
     "text": [
      "20 is greater than 10\n"
     ]
    }
   ],
   "source": [
    "a = 10\n",
    "b = 20\n",
    "if a > b :\n",
    "    print(a , \"is greater than\" , b)\n",
    "else :\n",
    "   print(b , \"is greater than\" , a)"
   ]
  },
  {
   "cell_type": "code",
   "execution_count": 364,
   "id": "7f8a0fc6-d948-47dd-ba83-77b4dec3b96f",
   "metadata": {},
   "outputs": [
    {
     "name": "stdout",
     "output_type": "stream",
     "text": [
      "-2  is negative\n"
     ]
    }
   ],
   "source": [
    "x = -2\n",
    "\n",
    "if x == 0:\n",
    "    print(x, \" is zero\")\n",
    "elif x < 0:\n",
    "    print(x, \" is negative\")\n",
    "else:\n",
    "    print(x, \" is positive\")"
   ]
  },
  {
   "cell_type": "markdown",
   "id": "eb0051ce-f18d-4e1d-8084-16796ce01349",
   "metadata": {},
   "source": [
    "# Loops"
   ]
  },
  {
   "cell_type": "code",
   "execution_count": 367,
   "id": "314007c5-2556-4e01-ae3a-5a9a4f0b2793",
   "metadata": {},
   "outputs": [
    {
     "name": "stdout",
     "output_type": "stream",
     "text": [
      "0\n",
      "1\n",
      "2\n",
      "3\n",
      "4\n"
     ]
    }
   ],
   "source": [
    "for i in range(5):\n",
    "    print(i)"
   ]
  },
  {
   "cell_type": "code",
   "execution_count": 371,
   "id": "9c252ae0-3535-4808-9b75-aa0160c7c2e8",
   "metadata": {},
   "outputs": [
    {
     "name": "stdout",
     "output_type": "stream",
     "text": [
      "1\n",
      "2\n"
     ]
    }
   ],
   "source": [
    "i = 1\n",
    "\n",
    "while i < 3:\n",
    "    print(i)\n",
    "    i += 1"
   ]
  },
  {
   "cell_type": "markdown",
   "id": "f1bd1eb2-a81e-4ba2-be2a-2e1edbf6e83b",
   "metadata": {},
   "source": [
    "# Controlling Loops"
   ]
  },
  {
   "cell_type": "code",
   "execution_count": 381,
   "id": "bc810905-fb64-4c6e-8d39-96e2ae94c80f",
   "metadata": {},
   "outputs": [
    {
     "name": "stdout",
     "output_type": "stream",
     "text": [
      "1\n",
      "2\n"
     ]
    }
   ],
   "source": [
    "i = 1\n",
    "\n",
    "while i > 0:\n",
    "    if i == 3:\n",
    "        break\n",
    "    print(i)\n",
    "    i += 1"
   ]
  },
  {
   "cell_type": "code",
   "execution_count": 8,
   "id": "12abf6ed-71ba-4715-ac6e-87a8f3a86ba6",
   "metadata": {},
   "outputs": [
    {
     "name": "stdout",
     "output_type": "stream",
     "text": [
      "0\n",
      "1\n",
      "2\n",
      "4\n"
     ]
    }
   ],
   "source": [
    "for i in range(5):\n",
    "    if i == 3:\n",
    "        continue\n",
    "    print(i)"
   ]
  },
  {
   "cell_type": "markdown",
   "id": "f029f24f-a02e-4d01-923b-23998df0f7c8",
   "metadata": {},
   "source": [
    "# user input"
   ]
  },
  {
   "cell_type": "code",
   "execution_count": 22,
   "id": "ae3ec3b0-cfd6-4bf6-8aa1-657da3e875d1",
   "metadata": {},
   "outputs": [
    {
     "name": "stdin",
     "output_type": "stream",
     "text": [
      "Enter a string ::  hello\n"
     ]
    },
    {
     "name": "stdout",
     "output_type": "stream",
     "text": [
      "hello\n"
     ]
    }
   ],
   "source": [
    "s = input(\"Enter a string :: \")\n",
    "\n",
    "print(s)"
   ]
  },
  {
   "cell_type": "code",
   "execution_count": 18,
   "id": "cec0935f-2ee5-411e-8987-ba0c7dff0e7c",
   "metadata": {},
   "outputs": [
    {
     "name": "stdin",
     "output_type": "stream",
     "text": [
      "Enter a number ::  4\n"
     ]
    },
    {
     "name": "stdout",
     "output_type": "stream",
     "text": [
      "4\n"
     ]
    }
   ],
   "source": [
    "a = int(input(\"Enter a number :: \"))\n",
    "\n",
    "print(a)"
   ]
  },
  {
   "cell_type": "code",
   "execution_count": 80,
   "id": "6c121881-345e-4da7-abd8-ecbf28113948",
   "metadata": {},
   "outputs": [
    {
     "name": "stdin",
     "output_type": "stream",
     "text": [
      "Enter a decimal number:  4\n"
     ]
    },
    {
     "name": "stdout",
     "output_type": "stream",
     "text": [
      "4.0\n"
     ]
    }
   ],
   "source": [
    "b = float(input(\"Enter a decimal number: \"))\n",
    "print(b)"
   ]
  },
  {
   "cell_type": "code",
   "execution_count": 26,
   "id": "919b5095-6a53-44dd-b531-78b51d63c370",
   "metadata": {},
   "outputs": [
    {
     "name": "stdin",
     "output_type": "stream",
     "text": [
      "Enter how many numbers ??  5\n",
      "Enter a number ::  2\n",
      "Enter a number ::  3\n",
      "Enter a number ::  10\n",
      "Enter a number ::  8\n",
      "Enter a number ::  4\n"
     ]
    },
    {
     "name": "stdout",
     "output_type": "stream",
     "text": [
      "[2, 3, 10, 8, 4]\n"
     ]
    }
   ],
   "source": [
    "list1 = []\n",
    "n = int(input(\"Enter how many numbers ?? \"))\n",
    "\n",
    "for i in range(n):\n",
    "    list1.append(int(input(\"Enter a number :: \")))\n",
    "    \n",
    "print(list1)"
   ]
  },
  {
   "cell_type": "code",
   "execution_count": 70,
   "id": "cd05ebe6-0664-4c43-9e3b-0fce8935e3a1",
   "metadata": {},
   "outputs": [
    {
     "name": "stdin",
     "output_type": "stream",
     "text": [
      " 1 5 2 4 8\n"
     ]
    },
    {
     "name": "stdout",
     "output_type": "stream",
     "text": [
      "[1, 5, 2, 4, 8]\n"
     ]
    }
   ],
   "source": [
    "list1 = list(map(int, input().split(' ')))\n",
    "    \n",
    "print(list1)"
   ]
  },
  {
   "cell_type": "code",
   "execution_count": 72,
   "id": "d1c69719-ecb8-41a4-a44d-83b3e28bb90c",
   "metadata": {},
   "outputs": [
    {
     "name": "stdin",
     "output_type": "stream",
     "text": [
      " 10,20,30,40\n"
     ]
    },
    {
     "name": "stdout",
     "output_type": "stream",
     "text": [
      "[10, 20, 30, 40]\n"
     ]
    }
   ],
   "source": [
    "list1 = list(map(int, input().split(',')))\n",
    "    \n",
    "print(list1)"
   ]
  },
  {
   "cell_type": "code",
   "execution_count": 76,
   "id": "57c0d909-4842-4073-a7db-589dd011a2fe",
   "metadata": {},
   "outputs": [
    {
     "name": "stdin",
     "output_type": "stream",
     "text": [
      "What is your name?\n",
      " John\n"
     ]
    },
    {
     "name": "stdout",
     "output_type": "stream",
     "text": [
      "John\n"
     ]
    }
   ],
   "source": [
    "name = input('What is your name?\\n')     # \\n  - line break\n",
    "print(name) "
   ]
  },
  {
   "cell_type": "code",
   "execution_count": 149,
   "id": "37878e60-72c2-4594-a2b4-c8faf1b55ffb",
   "metadata": {},
   "outputs": [
    {
     "name": "stdin",
     "output_type": "stream",
     "text": [
      " a b\n"
     ]
    },
    {
     "name": "stdout",
     "output_type": "stream",
     "text": [
      "a\n",
      "b\n"
     ]
    }
   ],
   "source": [
    "#For strings\n",
    "x, y = input().split()\n",
    "\n",
    "print(x)\n",
    "print(y)"
   ]
  },
  {
   "cell_type": "code",
   "execution_count": 153,
   "id": "9e553c24-b270-41cd-8857-c04e1303c5c8",
   "metadata": {},
   "outputs": [
    {
     "name": "stdin",
     "output_type": "stream",
     "text": [
      " 3 5\n"
     ]
    },
    {
     "name": "stdout",
     "output_type": "stream",
     "text": [
      "3\n",
      "5\n"
     ]
    }
   ],
   "source": [
    "#For int\n",
    "x, y = map(int, input().split())\n",
    "\n",
    "print(x)\n",
    "print(y)"
   ]
  },
  {
   "cell_type": "markdown",
   "id": "bde3949e-01ab-4a33-b6fb-4b310b61c706",
   "metadata": {},
   "source": [
    "# Output"
   ]
  },
  {
   "cell_type": "code",
   "execution_count": 87,
   "id": "47f61d78-7f0c-4773-97f6-289abfa0435a",
   "metadata": {},
   "outputs": [
    {
     "name": "stdout",
     "output_type": "stream",
     "text": [
      "Hello, my name is Alice and I am 25 years old.\n"
     ]
    }
   ],
   "source": [
    "name = \"Alice\"\n",
    "age = 25\n",
    "\n",
    "print(\"Hello, my name is\", name, \"and I am\", age, \"years old.\")\n"
   ]
  },
  {
   "cell_type": "code",
   "execution_count": 89,
   "id": "6281bbc8-50d3-4e3e-b05b-fbad78ba506c",
   "metadata": {},
   "outputs": [
    {
     "name": "stdout",
     "output_type": "stream",
     "text": [
      "Python \n",
      " is very simple.\n"
     ]
    }
   ],
   "source": [
    "print(\"Python \\n is very simple.\")"
   ]
  },
  {
   "cell_type": "code",
   "execution_count": 95,
   "id": "b6713df8-1039-40ce-ab1f-558e66afc28e",
   "metadata": {},
   "outputs": [
    {
     "name": "stdout",
     "output_type": "stream",
     "text": [
      "Python is a simple programming language\n",
      "Python is a simple programming language.It is user friendly.\n"
     ]
    }
   ],
   "source": [
    "# without end parameter. by default it is set to \\n. so next print statement will be displyed in new line\n",
    "print (\"Python is a simple programming language\")\n",
    "\n",
    "# The end keyword is used to specify the content that is to be printed at the end of the execution of the print() function\n",
    "print (\"Python is a simple programming language\", end= \".\")\n",
    "print(\"It is user friendly.\")"
   ]
  },
  {
   "cell_type": "code",
   "execution_count": 103,
   "id": "6a515543-ed1e-44c6-97ac-a1409bffe6d8",
   "metadata": {},
   "outputs": [
    {
     "name": "stdout",
     "output_type": "stream",
     "text": [
      "12 12 2022\n",
      "12-12-2022\n"
     ]
    }
   ],
   "source": [
    "# The print() function can accept any number of positional arguments. To separate these positional arguments, the keyword argument “sep” is used.\n",
    "a = 12\n",
    "b = 12\n",
    "c = 2022\n",
    "print(a, b, c) # by default it is space seperated\n",
    "print(a, b, c, sep=\"-\")"
   ]
  },
  {
   "cell_type": "code",
   "execution_count": 121,
   "id": "ed49fe6b-0e4b-452a-9823-3ce61b0a8df4",
   "metadata": {},
   "outputs": [
    {
     "name": "stdout",
     "output_type": "stream",
     "text": [
      "Num1 :  1 \n",
      "Num2 :    5.33\n",
      "Total students : 240, Boys : 120\n",
      "    031\n",
      " 3.561E+02\n"
     ]
    }
   ],
   "source": [
    "# string modulo operator(%)\n",
    "\n",
    "print(\"Num1 : %2d \" % (1)) # %2d is used to format an integer so it takes up at least 2 spaces, and is right aligned by default.\n",
    "print(\"Num2 : %7.2f\" % (05.3333)) # 7 means total minimum width of the output, .2 is the no of digits to display after the decimal point.\n",
    "\n",
    "print(\"Total students : %3d, Boys : %2d\" % (240, 120))   # print integer value\n",
    "\n",
    "print(\"%7.3o\" % (25))   # print octal value\n",
    "\n",
    "print(\"%10.3E\" % (356.08977))   # print exponential value\n"
   ]
  },
  {
   "cell_type": "code",
   "execution_count": 129,
   "id": "b037cb7a-c509-45ac-979a-8f3a2654fc11",
   "metadata": {},
   "outputs": [
    {
     "name": "stdout",
     "output_type": "stream",
     "text": [
      "I love Python and \"Java!\"\n",
      "Hello World!!\n",
      "Hello World\n"
     ]
    }
   ],
   "source": [
    "# Positional formatting with format() method\n",
    "\n",
    "# Using indexed placeholders for string formatting\n",
    "print(\"I love {0} and \\\"{1}!\\\"\".format(\"Python\", \"Java\"))  \n",
    "\n",
    "# {0} is replaced by the first argument 'Hello'\n",
    "print(\"{0} World!!\".format(\"Hello\"))\n",
    "\n",
    "# Formatting with placeholders, {0} replaced by 'World'\n",
    "print(\"Hello {0}\".format(\"World\"))"
   ]
  },
  {
   "cell_type": "code",
   "execution_count": 135,
   "id": "208a77bf-5fcb-46c9-8e0f-c4c9e4d14e52",
   "metadata": {},
   "outputs": [
    {
     "name": "stdout",
     "output_type": "stream",
     "text": [
      "Python is very simple and easy to understand.\n"
     ]
    }
   ],
   "source": [
    "# Mixing positional and named arguments\n",
    "template = \"Python is {0} {1} and {other}.\"\n",
    "print(template.format(\"very\", \"simple\", other=\"easy to understand\"))"
   ]
  },
  {
   "cell_type": "code",
   "execution_count": 137,
   "id": "83ddd82b-204a-4682-a62f-3551c47f576e",
   "metadata": {},
   "outputs": [
    {
     "name": "stdout",
     "output_type": "stream",
     "text": [
      "Center aligned: \n",
      "#############I love Python##############\n",
      "left aligned: \n",
      "I love Python---------------------------\n",
      "right aligned: \n",
      "---------------------------I love Python\n"
     ]
    }
   ],
   "source": [
    "s = \"I love Python\"\n",
    "\n",
    "# Printing the center aligned string with fillchr\n",
    "print(\"Center aligned: \")\n",
    "print(s.center(40, '#'))\n",
    "\n",
    "# Printing the left aligned string with \"-\" padding\n",
    "print(\"left aligned: \")\n",
    "print(s.ljust(40, '-'))\n",
    "\n",
    "# Printing the right aligned string with \"-\" padding\n",
    "print(\"right aligned: \")\n",
    "print(s.rjust(40, '-'))\n"
   ]
  },
  {
   "cell_type": "code",
   "execution_count": 155,
   "id": "1191d38c-b891-4e0c-8f48-311bad572e0e",
   "metadata": {},
   "outputs": [
    {
     "name": "stdout",
     "output_type": "stream",
     "text": [
      "Hello World!!!\n"
     ]
    }
   ],
   "source": [
    "val = \"Hello\"\n",
    "print(f\"{val} World!!!\")"
   ]
  },
  {
   "cell_type": "markdown",
   "id": "6da5ef77-19fe-4d0f-a8e9-cbab7b3ad18c",
   "metadata": {},
   "source": [
    "# Exception handling"
   ]
  },
  {
   "cell_type": "code",
   "execution_count": 164,
   "id": "3e31deff-7e44-42ee-9b0d-73d1e6b85385",
   "metadata": {},
   "outputs": [
    {
     "name": "stdout",
     "output_type": "stream",
     "text": [
      "division by zero\n",
      "Done!!!!\n"
     ]
    }
   ],
   "source": [
    "a , b = 10, 0\n",
    "\n",
    "try:\n",
    "    res = a / b\n",
    "except Exception as e:\n",
    "    print(e)\n",
    "else:\n",
    "    print(res)\n",
    "finally:\n",
    "    print(\"Done!!!!\")"
   ]
  },
  {
   "cell_type": "markdown",
   "id": "f5c28642-9296-428d-b429-2f7852a3a429",
   "metadata": {},
   "source": [
    "# Match Statement"
   ]
  },
  {
   "cell_type": "code",
   "execution_count": 426,
   "id": "5755a272-34d3-49fb-baf0-4df90cbf756d",
   "metadata": {},
   "outputs": [
    {
     "name": "stdout",
     "output_type": "stream",
     "text": [
      "Thursday\n"
     ]
    }
   ],
   "source": [
    "day = 4\n",
    "match day:\n",
    "  case 1:\n",
    "    print(\"Monday\")\n",
    "  case 2:\n",
    "    print(\"Tuesday\")\n",
    "  case 3:\n",
    "    print(\"Wednesday\")\n",
    "  case 4:\n",
    "    print(\"Thursday\")\n",
    "  case 5:\n",
    "    print(\"Friday\")\n",
    "  case 6:\n",
    "    print(\"Saturday\")\n",
    "  case 7:\n",
    "    print(\"Sunday\")"
   ]
  },
  {
   "cell_type": "code",
   "execution_count": 428,
   "id": "985fc7ac-bb8e-4e4e-a6cf-92f1ee7d7fcf",
   "metadata": {},
   "outputs": [
    {
     "name": "stdout",
     "output_type": "stream",
     "text": [
      "Looking forward to the Weekend\n"
     ]
    }
   ],
   "source": [
    "#Use the underscore character _ as the last case value if you want a code block to execute when there are not other matches:\n",
    "\n",
    "day = 4\n",
    "match day:\n",
    "  case 6:\n",
    "    print(\"Today is Saturday\")\n",
    "  case 7:\n",
    "    print(\"Today is Sunday\")\n",
    "  case _:\n",
    "    print(\"Looking forward to the Weekend\")"
   ]
  },
  {
   "cell_type": "code",
   "execution_count": 430,
   "id": "6bdef9e8-1f8c-4922-b9ba-6e21afc79691",
   "metadata": {},
   "outputs": [
    {
     "name": "stdout",
     "output_type": "stream",
     "text": [
      "Today is a weekday\n"
     ]
    }
   ],
   "source": [
    "#Use the pipe character | as an or operator in the case evaluation to check for more than one value match in one case:\n",
    "\n",
    "day = 4\n",
    "match day:\n",
    "  case 1 | 2 | 3 | 4 | 5:\n",
    "    print(\"Today is a weekday\")\n",
    "  case 6 | 7:\n",
    "    print(\"I love weekends!\")"
   ]
  },
  {
   "cell_type": "code",
   "execution_count": 432,
   "id": "a6d9fcb1-392a-442d-81ac-9622e62db339",
   "metadata": {},
   "outputs": [
    {
     "name": "stdout",
     "output_type": "stream",
     "text": [
      "A weekday in May\n"
     ]
    }
   ],
   "source": [
    "#You can add if statements in the case evaluation as an extra condition-check:\n",
    "\n",
    "month = 5\n",
    "day = 4\n",
    "match day:\n",
    "  case 1 | 2 | 3 | 4 | 5 if month == 4:\n",
    "    print(\"A weekday in April\")\n",
    "  case 1 | 2 | 3 | 4 | 5 if month == 5:\n",
    "    print(\"A weekday in May\")\n",
    "  case _:\n",
    "    print(\"No match\")"
   ]
  },
  {
   "cell_type": "markdown",
   "id": "a8d011ce-01af-4253-bd98-d44fa3906bad",
   "metadata": {},
   "source": [
    "# Functions"
   ]
  },
  {
   "cell_type": "code",
   "execution_count": 437,
   "id": "4ca35faf-eaac-4526-b185-2bbad10b7cdb",
   "metadata": {},
   "outputs": [
    {
     "name": "stdout",
     "output_type": "stream",
     "text": [
      "Hello from a function\n"
     ]
    }
   ],
   "source": [
    "def my_function():\n",
    "  print(\"Hello from a function\")\n",
    "\n",
    "my_function()"
   ]
  },
  {
   "cell_type": "code",
   "execution_count": 439,
   "id": "669a2455-0584-44e6-ad57-523c6fe0d770",
   "metadata": {},
   "outputs": [
    {
     "name": "stdout",
     "output_type": "stream",
     "text": [
      "John Smith\n"
     ]
    }
   ],
   "source": [
    "def my_function(fname, lname):\n",
    "  print(fname + \" \" + lname)\n",
    "\n",
    "my_function(\"John\", \"Smith\")"
   ]
  },
  {
   "cell_type": "code",
   "execution_count": 443,
   "id": "7aa5692a-7077-4865-a37e-06ec735f0b48",
   "metadata": {},
   "outputs": [
    {
     "name": "stdout",
     "output_type": "stream",
     "text": [
      "The youngest child is Bob\n"
     ]
    }
   ],
   "source": [
    "#If the number of arguments is unknown, add a * before the parameter name:\n",
    "def my_function(*kids):\n",
    "  print(\"The youngest child is \" + kids[2])\n",
    "\n",
    "my_function(\"Alex\", \"Alice\", \"Bob\")"
   ]
  },
  {
   "cell_type": "code",
   "execution_count": 445,
   "id": "2535f107-6b7f-4b8b-b203-fd0e79c0fc73",
   "metadata": {},
   "outputs": [
    {
     "name": "stdout",
     "output_type": "stream",
     "text": [
      "The youngest child is Jay\n"
     ]
    }
   ],
   "source": [
    "def my_function(child3, child2, child1):\n",
    "  print(\"The youngest child is \" + child3)\n",
    "\n",
    "my_function(child1 = \"Emily\", child2 = \"Jack\", child3 = \"Jay\")"
   ]
  },
  {
   "cell_type": "code",
   "execution_count": 453,
   "id": "161f3517-1958-41f4-a463-9e51fee0885c",
   "metadata": {},
   "outputs": [
    {
     "name": "stdout",
     "output_type": "stream",
     "text": [
      "His last name is Roy\n"
     ]
    }
   ],
   "source": [
    "\"\"\"If you do not know how many keyword arguments that will be passed into your function, add two asterisk: ** before the parameter name \n",
    "in the function definition.\n",
    "This way the function will receive a dictionary of arguments, and can access the items accordingly:\n",
    "If the number of keyword arguments is unknown, add a double ** before the parameter name: \"\"\"\n",
    "\n",
    "def my_function(**kid):\n",
    "  print(\"His last name is \" + kid[\"lname\"])\n",
    "\n",
    "my_function(fname = \"Teena\", lname = \"Roy\")"
   ]
  },
  {
   "cell_type": "code",
   "execution_count": 459,
   "id": "b1c3c2ed-47fd-4b6c-a161-09ec60748417",
   "metadata": {},
   "outputs": [
    {
     "name": "stdout",
     "output_type": "stream",
     "text": [
      "I am from Sweden\n",
      "I am from Sri Lanka\n",
      "I am from India\n",
      "I am from Brazil\n"
     ]
    }
   ],
   "source": [
    "#Default Parameter Value\n",
    "def my_function(country = \"India\"):\n",
    "  print(\"I am from \" + country)\n",
    "\n",
    "my_function(\"Sweden\")\n",
    "my_function(\"Sri Lanka\")\n",
    "my_function()\n",
    "my_function(\"Brazil\")"
   ]
  },
  {
   "cell_type": "code",
   "execution_count": 463,
   "id": "b5d19965-8c77-42fe-b1cf-a74d3f73494b",
   "metadata": {},
   "outputs": [
    {
     "name": "stdout",
     "output_type": "stream",
     "text": [
      "apple\n",
      "banana\n",
      "cherry\n"
     ]
    }
   ],
   "source": [
    "\"\"\"Passing a List as an Argument\n",
    "You can send any data types of argument to a function (string, number, list, dictionary etc.), and it will be treated as the same data type inside \n",
    "the function.\n",
    "\n",
    "E.g. if you send a List as an argument, it will still be a List when it reaches the function:\"\"\"\n",
    "\n",
    "def my_function(food):\n",
    "  for x in food:\n",
    "    print(x)\n",
    "\n",
    "fruits = [\"apple\", \"banana\", \"cherry\"]\n",
    "\n",
    "my_function(fruits)"
   ]
  },
  {
   "cell_type": "code",
   "execution_count": 465,
   "id": "64529f90-1b5f-4607-9647-827a0419f5fd",
   "metadata": {},
   "outputs": [
    {
     "name": "stdout",
     "output_type": "stream",
     "text": [
      "15\n",
      "25\n",
      "45\n"
     ]
    }
   ],
   "source": [
    "#Return Values : To let a function return a value, use the return statement:\n",
    "\n",
    "def my_function(x):\n",
    "  return 5 * x\n",
    "\n",
    "print(my_function(3))\n",
    "print(my_function(5))\n",
    "print(my_function(9))"
   ]
  },
  {
   "cell_type": "code",
   "execution_count": 467,
   "id": "293fddc7-1df1-47bf-88d3-cc01aabcceae",
   "metadata": {},
   "outputs": [],
   "source": [
    "#The pass Statement : function definitions cannot be empty, but if you for some reason have a function definition with no content, put in the pass statement to avoid getting an error.\n",
    "\n",
    "def myfunction():\n",
    "  pass"
   ]
  },
  {
   "cell_type": "code",
   "execution_count": 1,
   "id": "9fcc2b04-d8a6-48b1-ba15-9bf77515815d",
   "metadata": {},
   "outputs": [
    {
     "name": "stdout",
     "output_type": "stream",
     "text": [
      "The factorial of 5 is: 120\n"
     ]
    }
   ],
   "source": [
    "#Python also accepts function recursion, which means a defined function can call itself.\n",
    "\n",
    "def factorial(n):\n",
    "    if n == 0 or n == 1:\n",
    "        return 1\n",
    "    else:\n",
    "        return n * factorial(n - 1)\n",
    "\n",
    "num = 5\n",
    "\n",
    "if num < 0:\n",
    "    print(\"Factorial is not defined for negative numbers.\")\n",
    "else:\n",
    "    result = factorial(num)\n",
    "    print(f\"The factorial of {num} is: {result}\")"
   ]
  },
  {
   "cell_type": "markdown",
   "id": "a6a024f5-b568-4960-a5ef-0864fda759d1",
   "metadata": {},
   "source": [
    "# Lambda functions"
   ]
  },
  {
   "cell_type": "code",
   "execution_count": 3,
   "id": "da3ccf27-c37e-4ded-aede-cba74d693f76",
   "metadata": {},
   "outputs": [
    {
     "name": "stdout",
     "output_type": "stream",
     "text": [
      "15\n"
     ]
    }
   ],
   "source": [
    "x = lambda a : a + 10\n",
    "print(x(5))"
   ]
  },
  {
   "cell_type": "code",
   "execution_count": 6,
   "id": "88740f59-52c1-4a7e-99e6-0fc5ddf56d40",
   "metadata": {},
   "outputs": [
    {
     "name": "stdout",
     "output_type": "stream",
     "text": [
      "30\n"
     ]
    }
   ],
   "source": [
    "x = lambda a, b : a * b\n",
    "print(x(5, 6))"
   ]
  },
  {
   "cell_type": "code",
   "execution_count": 10,
   "id": "ea3a4860-ffa3-4650-be60-c181608b821b",
   "metadata": {},
   "outputs": [
    {
     "name": "stdout",
     "output_type": "stream",
     "text": [
      "22\n"
     ]
    }
   ],
   "source": [
    "\"\"\"The power of lambda is better shown when you use them as an anonymous function inside another function.\n",
    "\n",
    "Say you have a function definition that takes one argument, and that argument will be multiplied with an unknown number:\"\"\"\n",
    "\n",
    "def myfunc(n):\n",
    "  return lambda a : a * n\n",
    "\n",
    "mydoubler = myfunc(2)\n",
    "\n",
    "print(mydoubler(11))"
   ]
  },
  {
   "cell_type": "markdown",
   "id": "77b123cd-ff1e-45bb-817e-8eab0a89b6b8",
   "metadata": {},
   "source": [
    "# Class and Objects"
   ]
  },
  {
   "cell_type": "code",
   "execution_count": 13,
   "id": "ecb2a6e6-1db4-40a7-8f21-ac7fbd1b06cf",
   "metadata": {},
   "outputs": [
    {
     "name": "stdout",
     "output_type": "stream",
     "text": [
      "John\n",
      "36\n"
     ]
    }
   ],
   "source": [
    "class Person:\n",
    "  def __init__(self, name, age):\n",
    "    self.name = name\n",
    "    self.age = age\n",
    "\n",
    "p1 = Person(\"John\", 36)\n",
    "\n",
    "print(p1.name)\n",
    "print(p1.age)"
   ]
  },
  {
   "cell_type": "code",
   "execution_count": 17,
   "id": "66752620-9605-4d2e-a524-76b687b03211",
   "metadata": {},
   "outputs": [
    {
     "name": "stdout",
     "output_type": "stream",
     "text": [
      "<__main__.Person object at 0x000001820A6DA6F0>\n"
     ]
    }
   ],
   "source": [
    "#The string representation of an object WITHOUT the __str__() function:\n",
    "\n",
    "class Person:\n",
    "  def __init__(self, name, age):\n",
    "    self.name = name\n",
    "    self.age = age\n",
    "\n",
    "p1 = Person(\"John\", 36)\n",
    "\n",
    "print(p1)"
   ]
  },
  {
   "cell_type": "code",
   "execution_count": 15,
   "id": "e322fdd8-f6e9-4912-9224-1c2a3cb5debb",
   "metadata": {},
   "outputs": [
    {
     "name": "stdout",
     "output_type": "stream",
     "text": [
      "John(36)\n"
     ]
    }
   ],
   "source": [
    "\"\"\"The __str__() function controls what should be returned when the class object is represented as a string.\n",
    "\n",
    "If the __str__() function is not set, the string representation of the object is returned will be the address of the object. So if we want to print \n",
    "all the instances vlaues of the object we can to so by overriding __str__() function. \"\"\"\n",
    "\n",
    "class Person:\n",
    "  def __init__(self, name, age):\n",
    "    self.name = name\n",
    "    self.age = age\n",
    "\n",
    "  def __str__(self):\n",
    "    return f\"{self.name}({self.age})\"\n",
    "\n",
    "p1 = Person(\"John\", 36)\n",
    "\n",
    "print(p1)"
   ]
  },
  {
   "cell_type": "code",
   "execution_count": 19,
   "id": "33e1cd8e-1df3-4606-b48e-5b4a99d8dcfa",
   "metadata": {},
   "outputs": [
    {
     "name": "stdout",
     "output_type": "stream",
     "text": [
      "Hello my name is John\n"
     ]
    }
   ],
   "source": [
    "class Person:\n",
    "  def __init__(self, name, age):\n",
    "    self.name = name\n",
    "    self.age = age\n",
    "\n",
    "  def myfunc(self):\n",
    "    print(\"Hello my name is \" + self.name)\n",
    "\n",
    "p1 = Person(\"John\", 36)\n",
    "p1.myfunc()"
   ]
  },
  {
   "cell_type": "code",
   "execution_count": 37,
   "id": "9faeb44f-b329-4d76-9801-d90ceebc3077",
   "metadata": {},
   "outputs": [
    {
     "name": "stdout",
     "output_type": "stream",
     "text": [
      "40\n"
     ]
    }
   ],
   "source": [
    "p1.age = 40\n",
    "print(p1.age)"
   ]
  },
  {
   "cell_type": "code",
   "execution_count": 39,
   "id": "9e926054-d587-4110-aa61-2cd1a87b36e3",
   "metadata": {},
   "outputs": [],
   "source": [
    "#You can delete properties on objects by using the del keyword:\n",
    "del p1.age"
   ]
  },
  {
   "cell_type": "code",
   "execution_count": 41,
   "id": "ff21cfc8-78f9-483f-9b49-449f11285f6b",
   "metadata": {},
   "outputs": [],
   "source": [
    "#You can delete objects by using the del keyword:\n",
    "\n",
    "del p1"
   ]
  },
  {
   "cell_type": "markdown",
   "id": "425ec3e1-20c1-412d-afef-19be00c97338",
   "metadata": {},
   "source": [
    "# Inheritance"
   ]
  },
  {
   "cell_type": "code",
   "execution_count": 44,
   "id": "cdd7c048-bbb4-4f6c-bb63-0d1a6bd13a37",
   "metadata": {},
   "outputs": [
    {
     "name": "stdout",
     "output_type": "stream",
     "text": [
      "John Doe\n"
     ]
    }
   ],
   "source": [
    "class Person:\n",
    "  def __init__(self, fname, lname):\n",
    "    self.firstname = fname\n",
    "    self.lastname = lname\n",
    "\n",
    "  def printname(self):\n",
    "    print(self.firstname, self.lastname)\n",
    "\n",
    "x = Person(\"John\", \"Doe\")\n",
    "x.printname()"
   ]
  },
  {
   "cell_type": "code",
   "execution_count": 50,
   "id": "fb964913-58be-4e0e-b6a5-b383402804ae",
   "metadata": {},
   "outputs": [
    {
     "name": "stdout",
     "output_type": "stream",
     "text": [
      "Welcome Glen Jackson to the class of 2019\n"
     ]
    }
   ],
   "source": [
    "class Student(Person):\n",
    "  def __init__(self, fname, lname, year):\n",
    "    super().__init__(fname, lname)\n",
    "    self.graduationyear = year\n",
    "\n",
    "  def welcome(self):\n",
    "    print(\"Welcome\", self.firstname, self.lastname, \"to the class of\", self.graduationyear)\n",
    "\n",
    "x = Student(\"Glen\", \"Jackson\", 2019)\n",
    "x.welcome()"
   ]
  }
 ],
 "metadata": {
  "kernelspec": {
   "display_name": "Python [conda env:base] *",
   "language": "python",
   "name": "conda-base-py"
  },
  "language_info": {
   "codemirror_mode": {
    "name": "ipython",
    "version": 3
   },
   "file_extension": ".py",
   "mimetype": "text/x-python",
   "name": "python",
   "nbconvert_exporter": "python",
   "pygments_lexer": "ipython3",
   "version": "3.12.7"
  }
 },
 "nbformat": 4,
 "nbformat_minor": 5
}
