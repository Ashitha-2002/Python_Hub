{
 "cells": [
  {
   "cell_type": "code",
   "execution_count": null,
   "id": "e1b61591-6377-4a3b-b466-978e8d0a9110",
   "metadata": {},
   "outputs": [],
   "source": []
  }
 ],
 "metadata": {
  "kernelspec": {
   "display_name": "",
   "name": ""
  },
  "language_info": {
   "name": ""
  }
 },
 "nbformat": 4,
 "nbformat_minor": 5
}
