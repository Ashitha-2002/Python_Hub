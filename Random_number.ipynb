{
 "cells": [
  {
   "cell_type": "code",
   "execution_count": 1,
   "id": "e1b61591-6377-4a3b-b466-978e8d0a9110",
   "metadata": {},
   "outputs": [
    {
     "name": "stdout",
     "output_type": "stream",
     "text": [
      "------Guess random number game-------\n",
      "*********************************************************\n"
     ]
    },
    {
     "name": "stdin",
     "output_type": "stream",
     "text": [
      "Guess a number between 1 and 100 :  45\n"
     ]
    },
    {
     "name": "stdout",
     "output_type": "stream",
     "text": [
      "You're wrong!!!!\n",
      "Entered number is greater than guessing number.\n",
      "You have 4 more chances to guess\n",
      "*********************************************************\n"
     ]
    },
    {
     "name": "stdin",
     "output_type": "stream",
     "text": [
      "Guess a number between 1 and 100 :  35\n"
     ]
    },
    {
     "name": "stdout",
     "output_type": "stream",
     "text": [
      "You're wrong!!!!\n",
      "Entered number is greater than guessing number.\n",
      "You have 3 more chances to guess\n",
      "*********************************************************\n"
     ]
    },
    {
     "name": "stdin",
     "output_type": "stream",
     "text": [
      "Guess a number between 1 and 100 :  20\n"
     ]
    },
    {
     "name": "stdout",
     "output_type": "stream",
     "text": [
      "You're wrong!!!!\n",
      "Entered number is lesser than guessing number.\n",
      "You have 2 more chances to guess\n",
      "*********************************************************\n"
     ]
    },
    {
     "name": "stdin",
     "output_type": "stream",
     "text": [
      "Guess a number between 1 and 100 :  25\n"
     ]
    },
    {
     "name": "stdout",
     "output_type": "stream",
     "text": [
      "You're wrong!!!!\n",
      "Entered number is greater than guessing number.\n",
      "You have 1 more chances to guess\n",
      "*********************************************************\n"
     ]
    },
    {
     "name": "stdin",
     "output_type": "stream",
     "text": [
      "Guess a number between 1 and 100 :  23\n"
     ]
    },
    {
     "name": "stdout",
     "output_type": "stream",
     "text": [
      "Congratulations!!!!! You won the game\n"
     ]
    }
   ],
   "source": [
    "import random\n",
    "randomNumber = random.randint(1,100)\n",
    "MaxChance = 5\n",
    "chanceNumber = 0\n",
    "\n",
    "print(\"------Guess random number game-------\")\n",
    "while(1) :\n",
    "    if chanceNumber == MaxChance :\n",
    "        print(\"Your chance is over.Better luck next time\")\n",
    "        print(\"The number to guess was : \", randomNumber)\n",
    "        break\n",
    "    print(\"*********************************************************\")\n",
    "    userNumber = int(input(\"Guess a number between 1 and 100 : \"))\n",
    "    chanceNumber += 1\n",
    "    \n",
    "    if userNumber == randomNumber :\n",
    "        print(\"Congratulations!!!!! You won the game\")\n",
    "        break\n",
    "    elif userNumber < randomNumber :\n",
    "        print(\"You're wrong!!!!\")\n",
    "        print(\"Entered number is lesser than guessing number.\")\n",
    "        print(\"You have\", MaxChance - chanceNumber, \"more chances to guess\")\n",
    "    else :\n",
    "        print(\"You're wrong!!!!\")\n",
    "        print(\"Entered number is greater than guessing number.\")\n",
    "        print(\"You have\", MaxChance - chanceNumber, \"more chances to guess\")"
   ]
  },
  {
   "cell_type": "code",
   "execution_count": null,
   "id": "f58aefa6-a085-4f80-b452-75ea7ce19ed3",
   "metadata": {},
   "outputs": [],
   "source": []
  }
 ],
 "metadata": {
  "kernelspec": {
   "display_name": "Python [conda env:base] *",
   "language": "python",
   "name": "conda-base-py"
  },
  "language_info": {
   "codemirror_mode": {
    "name": "ipython",
    "version": 3
   },
   "file_extension": ".py",
   "mimetype": "text/x-python",
   "name": "python",
   "nbconvert_exporter": "python",
   "pygments_lexer": "ipython3",
   "version": "3.12.7"
  }
 },
 "nbformat": 4,
 "nbformat_minor": 5
}
