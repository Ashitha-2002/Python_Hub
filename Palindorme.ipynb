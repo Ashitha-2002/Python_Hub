{
 "cells": [
  {
   "cell_type": "code",
   "execution_count": 1,
   "id": "afc5a98e-1f2b-418d-98c2-9b68f73bab2f",
   "metadata": {},
   "outputs": [
    {
     "name": "stdin",
     "output_type": "stream",
     "text": [
      "Enter a number :  121\n"
     ]
    },
    {
     "name": "stdout",
     "output_type": "stream",
     "text": [
      "Entered number is palindrome\n"
     ]
    }
   ],
   "source": [
    "num = int(input(\"Enter a number : \"))\n",
    "temp = num\n",
    "rev = 0\n",
    "while num > 0:\n",
    "    rem = num % 10\n",
    "    rev = (rev * 10) + rem\n",
    "    num = num // 10\n",
    "if rev == temp:\n",
    "    print(\"Entered number is palindrome\")\n",
    "else:\n",
    "    print(\"Entered number is not palindrome\")"
   ]
  },
  {
   "cell_type": "code",
   "execution_count": null,
   "id": "5d03f8ba-45bf-4fbc-bb28-8798ab7492a7",
   "metadata": {},
   "outputs": [],
   "source": []
  }
 ],
 "metadata": {
  "kernelspec": {
   "display_name": "Python [conda env:base] *",
   "language": "python",
   "name": "conda-base-py"
  },
  "language_info": {
   "codemirror_mode": {
    "name": "ipython",
    "version": 3
   },
   "file_extension": ".py",
   "mimetype": "text/x-python",
   "name": "python",
   "nbconvert_exporter": "python",
   "pygments_lexer": "ipython3",
   "version": "3.12.7"
  }
 },
 "nbformat": 4,
 "nbformat_minor": 5
}
