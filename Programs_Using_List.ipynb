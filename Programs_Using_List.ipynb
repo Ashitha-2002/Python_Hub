{
 "cells": [
  {
   "cell_type": "code",
   "execution_count": 1,
   "id": "ecfd1f64-74b9-48a3-b714-18d86c97c1ca",
   "metadata": {},
   "outputs": [
    {
     "name": "stdin",
     "output_type": "stream",
     "text": [
      "Enter the size :  5\n",
      "Enter a number : 2\n",
      "Enter a number : 7\n",
      "Enter a number : 1\n",
      "Enter a number : 8\n",
      "Enter a number : 5\n"
     ]
    },
    {
     "name": "stdout",
     "output_type": "stream",
     "text": [
      "[2, 7, 1, 8, 5]\n",
      "Second largest element in the list is : 7\n"
     ]
    }
   ],
   "source": [
    "numList = []\n",
    "n = int(input(\"Enter the size : \"))\n",
    "for i in range(n):\n",
    "    numList.append(int(input(\"Enter a number :\")))\n",
    "print(numList)\n",
    "numList.sort()\n",
    "print(\"Second largest element in the list is :\",numList[-2])"
   ]
  },
  {
   "cell_type": "code",
   "execution_count": 66,
   "id": "efd58c05-46b1-4747-8a99-f9e2ceafa406",
   "metadata": {},
   "outputs": [
    {
     "name": "stdin",
     "output_type": "stream",
     "text": [
      "Enter the size of the list :  6\n",
      "Enter a number :  9\n",
      "Enter a number :  4\n",
      "Enter a number :  1\n",
      "Enter a number :  0\n",
      "Enter a number :  -5\n",
      "Enter a number :  3\n"
     ]
    },
    {
     "name": "stdout",
     "output_type": "stream",
     "text": [
      "List is :  [9, 4, 1, 0, -5, 3]\n",
      "Second largest element of the list is :  4\n"
     ]
    }
   ],
   "source": [
    "list1 = []\n",
    "n = int(input(\"Enter the size of the list : \"))\n",
    "for i in range(n) :\n",
    "    list1.append(int(input(\"Enter a number : \")))\n",
    "largest = list1[0]\n",
    "secondLargest = 0\n",
    "for i in list1 :\n",
    "    if i > largest:\n",
    "        secondLargest = largest\n",
    "        largest = i\n",
    "    elif i > secondLargest and (i < largest or i < 0):\n",
    "        secondLargest = i\n",
    "\n",
    "print(\"List is : \",list1)\n",
    "print(\"Second largest element of the list is : \",secondLargest)"
   ]
  },
  {
   "cell_type": "code",
   "execution_count": 62,
   "id": "69956720-6ed9-4b3d-bc2d-c312ffecacf3",
   "metadata": {},
   "outputs": [
    {
     "name": "stdout",
     "output_type": "stream",
     "text": [
      "[3, 4, 5]\n"
     ]
    }
   ],
   "source": [
    "def find_single_occurrence(input_list):\n",
    "    single_occurrence_items = []\n",
    "    for i in range(len(input_list)):\n",
    "        count = 0\n",
    "        for j in range(len(input_list)):\n",
    "            if input_list[j] == input_list[i]:\n",
    "                count += 1\n",
    "        if count == 1:\n",
    "            single_occurrence_items.append(input_list[i])\n",
    "    return single_occurrence_items\n",
    "\n",
    "my_list = [1, 2, 3, 2, 4, 1, 5,1]\n",
    "result = find_single_occurrence(my_list)\n",
    "print(result) "
   ]
  },
  {
   "cell_type": "code",
   "execution_count": 10,
   "id": "2e17dcec-4ca0-429c-ac93-7a6384bd59c5",
   "metadata": {},
   "outputs": [
    {
     "name": "stdin",
     "output_type": "stream",
     "text": [
      "Enter the size of the list :  7\n",
      "Enter a number :  4\n",
      "Enter a number :  0\n",
      "Enter a number :  -4\n",
      "Enter a number :  12\n",
      "Enter a number :  6\n",
      "Enter a number :  -14\n",
      "Enter a number :  7\n"
     ]
    },
    {
     "name": "stdout",
     "output_type": "stream",
     "text": [
      "List is :  [4, 0, -4, 12, 6, -14, 7]\n",
      "Second largest element of the list is :  7\n"
     ]
    }
   ],
   "source": [
    "list1 = []\n",
    "n = int(input(\"Enter the size of the list : \"))\n",
    "for i in range(n) :\n",
    "    list1.append(int(input(\"Enter a number : \")))\n",
    "largest = secondLargest = 0\n",
    "for i in list1 :\n",
    "    if i > largest:\n",
    "        secondLargest = largest\n",
    "        largest = i\n",
    "    elif i > secondLargest and i < largest:\n",
    "        secondLargest = i\n",
    "        \n",
    "print(\"List is : \",list1)\n",
    "print(\"Second largest element of the list is : \",secondLargest)"
   ]
  },
  {
   "cell_type": "code",
   "execution_count": 3,
   "id": "7ba8cf57-6b71-4475-b159-31b6b283781f",
   "metadata": {},
   "outputs": [
    {
     "name": "stdin",
     "output_type": "stream",
     "text": [
      "Enter the size :  6\n",
      "Enter a number : 0\n",
      "Enter a number : -2\n",
      "Enter a number : -5\n",
      "Enter a number : 3\n",
      "Enter a number : -8\n",
      "Enter a number : 6\n"
     ]
    },
    {
     "name": "stdout",
     "output_type": "stream",
     "text": [
      "Original List [0, -2, -5, 3, -8, 6]\n",
      "Even List :  [0, -2, -8, 6]\n",
      "Odd List :  [-5, 3]\n"
     ]
    }
   ],
   "source": [
    "numList = []\n",
    "evenList = []\n",
    "oddList = []\n",
    "n = int(input(\"Enter the size : \"))\n",
    "for i in range(n):\n",
    "    numList.append(int(input(\"Enter a number :\")))\n",
    "print(\"Original List\" ,numList)\n",
    "\n",
    "for i in numList:\n",
    "    if i % 2 == 0:\n",
    "        evenList.append(i)\n",
    "    else:\n",
    "        oddList.append(i)\n",
    "        \n",
    "print(\"Even List : \",evenList)\n",
    "print(\"Odd List : \",oddList)"
   ]
  },
  {
   "cell_type": "code",
   "execution_count": 5,
   "id": "5e7764af-e1cf-404a-a00c-ac7423beaeea",
   "metadata": {},
   "outputs": [
    {
     "name": "stdout",
     "output_type": "stream",
     "text": [
      "[101, 105, 108]\n",
      "['John', 'Delma', 'Jim']\n",
      "['Manager', 'Sales', 'Accountant']\n",
      "(101, 'John', 'Manager')\n",
      "(105, 'Delma', 'Sales')\n",
      "(108, 'Jim', 'Accountant')\n"
     ]
    }
   ],
   "source": [
    "empNo = [101, 105, 108]\n",
    "empNames = [\"John\", \"Delma\", \"Jim\"]\n",
    "empRoles = [\"Manager\", \"Sales\", \"Accountant\"]\n",
    "print(empNo)\n",
    "print(empNames)\n",
    "print(empRoles)\n",
    "empDetails = zip(empNo, empNames, empRoles)\n",
    "for record in empDetails:\n",
    "    print(record)"
   ]
  },
  {
   "cell_type": "code",
   "execution_count": 32,
   "id": "bfbbc2f8-31ef-43a2-9fcf-33cd2321b833",
   "metadata": {},
   "outputs": [
    {
     "name": "stdout",
     "output_type": "stream",
     "text": [
      "Original String\n",
      " Department of Computer Science Mangalore University Mangalagangothri Dakshina Kannada\n",
      "List after splitting\n",
      " ['Department', 'of', 'Computer', 'Science', 'Mangalore', 'University', 'Mangalagangothri', 'Dakshina']\n",
      "University index : 5\n"
     ]
    }
   ],
   "source": [
    "txt = \"Department of Computer Science Mangalore University Mangalagangothri Dakshina Kannada\"\n",
    "list1= []\n",
    "temp = ''\n",
    "for char in txt:\n",
    "    if char == ' ':\n",
    "        list1.append(temp)\n",
    "        temp = ''\n",
    "    else:\n",
    "        temp += char\n",
    "\n",
    "print(\"Original String\\n\", txt)\n",
    "print(\"List after splitting\\n\" ,list1)\n",
    "        \n",
    "for i in range(len(list1)):\n",
    "    if list1[i] == 'University':\n",
    "        print(\"University index :\", index)"
   ]
  },
  {
   "cell_type": "code",
   "execution_count": 30,
   "id": "2c6a7353-da21-4b75-8e3f-10915247fe6a",
   "metadata": {},
   "outputs": [
    {
     "name": "stdout",
     "output_type": "stream",
     "text": [
      "Original String\n",
      " Department of Computer Science Mangalore University Mangalagangothri Dakshina Kannada\n",
      "List after splitting\n",
      " ['Department', 'of', 'Computer', 'Science', 'Mangalore', 'University', 'Mangalagangothri', 'Dakshina', 'Kannada']\n",
      "University index : 5\n"
     ]
    }
   ],
   "source": [
    "txt = \"Department of Computer Science Mangalore University Mangalagangothri Dakshina Kannada\"\n",
    "list1 = list(map(str, txt.split(' ')))\n",
    "        \n",
    "print(\"Original String\\n\", txt)\n",
    "print(\"List after splitting\\n\" ,list1)\n",
    "print(\"University index :\", list1.index(\"University\"))"
   ]
  },
  {
   "cell_type": "code",
   "execution_count": 34,
   "id": "1df5aec8-bfaa-40ae-a51a-d4f901647456",
   "metadata": {},
   "outputs": [
    {
     "name": "stdin",
     "output_type": "stream",
     "text": [
      "Enter the size :  6\n",
      "Enter a number : 20\n",
      "Enter a number : 12\n",
      "Enter a number : 6\n",
      "Enter a number : -3\n",
      "Enter a number : 0\n",
      "Enter a number : 53\n"
     ]
    },
    {
     "name": "stdout",
     "output_type": "stream",
     "text": [
      "Original List :  [20, 12, 6, -3, 0, 53]\n",
      "1.Insert\n",
      "2.Remove\n",
      "3.Append\n",
      "4.Len\n",
      "5.Pop\n",
      "6.Clear\n",
      "7.Exit\n"
     ]
    },
    {
     "name": "stdin",
     "output_type": "stream",
     "text": [
      "Enter a choice :  1\n",
      "Enter a value to insert :  22\n",
      "Enter index :  1\n"
     ]
    },
    {
     "name": "stdout",
     "output_type": "stream",
     "text": [
      "List after insertion :  [20, 22, 12, 6, -3, 0, 53]\n",
      "1.Insert\n",
      "2.Remove\n",
      "3.Append\n",
      "4.Len\n",
      "5.Pop\n",
      "6.Clear\n",
      "7.Exit\n"
     ]
    },
    {
     "name": "stdin",
     "output_type": "stream",
     "text": [
      "Enter a choice :  2\n",
      "Enter a value to delete :  12\n"
     ]
    },
    {
     "name": "stdout",
     "output_type": "stream",
     "text": [
      "List after removing element :  [20, 22, 6, -3, 0, 53]\n",
      "1.Insert\n",
      "2.Remove\n",
      "3.Append\n",
      "4.Len\n",
      "5.Pop\n",
      "6.Clear\n",
      "7.Exit\n"
     ]
    },
    {
     "name": "stdin",
     "output_type": "stream",
     "text": [
      "Enter a choice :  3\n",
      "Enter a value to append :  8\n"
     ]
    },
    {
     "name": "stdout",
     "output_type": "stream",
     "text": [
      "List after appending a element :  [20, 22, 6, -3, 0, 53, 8]\n",
      "1.Insert\n",
      "2.Remove\n",
      "3.Append\n",
      "4.Len\n",
      "5.Pop\n",
      "6.Clear\n",
      "7.Exit\n"
     ]
    },
    {
     "name": "stdin",
     "output_type": "stream",
     "text": [
      "Enter a choice :  4\n"
     ]
    },
    {
     "name": "stdout",
     "output_type": "stream",
     "text": [
      "Length of the list :  7\n",
      "1.Insert\n",
      "2.Remove\n",
      "3.Append\n",
      "4.Len\n",
      "5.Pop\n",
      "6.Clear\n",
      "7.Exit\n"
     ]
    },
    {
     "name": "stdin",
     "output_type": "stream",
     "text": [
      "Enter a choice :  5\n"
     ]
    },
    {
     "name": "stdout",
     "output_type": "stream",
     "text": [
      "poped element :  8\n",
      "List after poping last element :  [20, 22, 6, -3, 0, 53]\n",
      "1.Insert\n",
      "2.Remove\n",
      "3.Append\n",
      "4.Len\n",
      "5.Pop\n",
      "6.Clear\n",
      "7.Exit\n"
     ]
    },
    {
     "name": "stdin",
     "output_type": "stream",
     "text": [
      "Enter a choice :  6\n"
     ]
    },
    {
     "name": "stdout",
     "output_type": "stream",
     "text": [
      "List after clear() :  None\n",
      "1.Insert\n",
      "2.Remove\n",
      "3.Append\n",
      "4.Len\n",
      "5.Pop\n",
      "6.Clear\n",
      "7.Exit\n"
     ]
    },
    {
     "name": "stdin",
     "output_type": "stream",
     "text": [
      "Enter a choice :  7\n"
     ]
    }
   ],
   "source": [
    "list1 = [] \n",
    "n = int(input(\"Enter the size : \")) \n",
    "for i in range(n): \n",
    "    list1.append(int(input(\"Enter a number :\"))) \n",
    "print(\"Original List : \",list1) \n",
    "while(1):\n",
    "    print(\"1.Insert\\n2.Remove\\n3.Append\\n4.Len\\n5.Pop\\n6.Clear\\n7.Exit\")\n",
    "    ch = int(input(\"Enter a choice : \"))\n",
    "    if ch == 1:\n",
    "        ele = int(input(\"Enter a value to insert : \"))\n",
    "        index = int(input(\"Enter index : \"))\n",
    "        list1.insert(index, ele)\n",
    "        print(\"List after insertion : \", list1)\n",
    "    elif ch == 2:\n",
    "        ele = int(input(\"Enter a value to delete : \"))\n",
    "        if ele in list1:\n",
    "            list1.remove(ele)\n",
    "            print(\"List after removing element : \", list1)\n",
    "        else:\n",
    "            print(\"Entered element does not exist in the list\")\n",
    "    elif ch == 3:\n",
    "        ele = int(input(\"Enter a value to append : \"))\n",
    "        list1.append(ele)\n",
    "        print(\"List after appending a element : \", list1)\n",
    "    elif ch == 4:\n",
    "        print(\"Length of the list : \", len(list1))\n",
    "    elif ch == 5:\n",
    "        if len(list1) == 0:\n",
    "            print(\"Cannot pop as list is empty\")\n",
    "        else:\n",
    "            print(\"poped element : \", list1.pop())\n",
    "            print(\"List after poping last element : \", list1)\n",
    "    elif ch == 6:\n",
    "        print(\"List after clear() : \", list1.clear())\n",
    "    elif ch == 7:\n",
    "        break\n",
    "    else:\n",
    "        print(\"Invalid choice. please eneter a valid choice\")"
   ]
  },
  {
   "cell_type": "code",
   "execution_count": null,
   "id": "7ba66af9-ed51-4d29-80cb-44c5c7e67abe",
   "metadata": {},
   "outputs": [],
   "source": []
  }
 ],
 "metadata": {
  "kernelspec": {
   "display_name": "Python [conda env:base] *",
   "language": "python",
   "name": "conda-base-py"
  },
  "language_info": {
   "codemirror_mode": {
    "name": "ipython",
    "version": 3
   },
   "file_extension": ".py",
   "mimetype": "text/x-python",
   "name": "python",
   "nbconvert_exporter": "python",
   "pygments_lexer": "ipython3",
   "version": "3.12.7"
  }
 },
 "nbformat": 4,
 "nbformat_minor": 5
}
