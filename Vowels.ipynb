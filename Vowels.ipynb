{
 "cells": [
  {
   "cell_type": "code",
   "execution_count": 1,
   "id": "a2397967-9070-4323-99f9-ac19e4055e36",
   "metadata": {},
   "outputs": [
    {
     "name": "stdin",
     "output_type": "stream",
     "text": [
      "Enter a string :  welcome\n"
     ]
    },
    {
     "name": "stdout",
     "output_type": "stream",
     "text": [
      "Vowles in the string : \n",
      "e o e "
     ]
    }
   ],
   "source": [
    "str1 = input(\"Enter a string : \")\n",
    "print(\"Vowles in the string : \")\n",
    "for char in str1 :\n",
    "    if char.lower() in 'aeiou' : \n",
    "        print(char, end = \" \") "
   ]
  },
  {
   "cell_type": "code",
   "execution_count": 3,
   "id": "879f59f5-e7c2-4e29-8555-fa5d2941a8ab",
   "metadata": {},
   "outputs": [
    {
     "name": "stdin",
     "output_type": "stream",
     "text": [
      "Enter a string :  welcome\n"
     ]
    },
    {
     "name": "stdout",
     "output_type": "stream",
     "text": [
      "Vowles in the string : \n",
      "e o "
     ]
    }
   ],
   "source": [
    "str1 = input(\"Enter a string : \")\n",
    "print(\"Vowles in the string : \")\n",
    "for char in 'aeiou':\n",
    "    if char in str1:\n",
    "        print(char, end = \" \") "
   ]
  },
  {
   "cell_type": "code",
   "execution_count": 5,
   "id": "24efaac0-f06d-4bf7-a867-03cd285c5540",
   "metadata": {},
   "outputs": [
    {
     "name": "stdin",
     "output_type": "stream",
     "text": [
      "Enter a string :  hello\n"
     ]
    },
    {
     "name": "stdout",
     "output_type": "stream",
     "text": [
      "Vowel Count =  2\n"
     ]
    }
   ],
   "source": [
    "str1 = input(\"Enter a string : \")\n",
    "vowelCount = 0\n",
    "for char in str1 :\n",
    "    if char.lower() in 'aeiou' :\n",
    "        vowelCount += 1\n",
    "print(\"Vowel Count = \", vowelCount)"
   ]
  },
  {
   "cell_type": "code",
   "execution_count": 7,
   "id": "a1b811e2-165b-4990-b33f-44abf05b9a76",
   "metadata": {},
   "outputs": [
    {
     "name": "stdin",
     "output_type": "stream",
     "text": [
      "Enter a string :  welcome to mangalore\n"
     ]
    },
    {
     "name": "stdout",
     "output_type": "stream",
     "text": [
      "a Occured 2 times\n",
      "e Occured 3 times\n",
      "i Occured 0 times\n",
      "o Occured 3 times\n",
      "u Occured 0 times\n"
     ]
    }
   ],
   "source": [
    "str1 = input(\"Enter a string : \")\n",
    "aCount = 0\n",
    "eCount = 0\n",
    "iCount = 0\n",
    "oCount = 0\n",
    "uCount = 0\n",
    "for char in str1 :\n",
    "    if char.lower() == 'a' : \n",
    "        aCount += 1\n",
    "    elif char.lower() == 'e' :\n",
    "        eCount += 1\n",
    "    elif char.lower() == 'i' :\n",
    "        iCount += 1\n",
    "    elif char.lower() == 'o' :\n",
    "        oCount += 1\n",
    "    elif char.lower() == 'u' :\n",
    "        uCount += 1\n",
    "print(\"a Occured\",aCount, \"times\")\n",
    "print(\"e Occured\",eCount, \"times\")\n",
    "print(\"i Occured\",iCount, \"times\")\n",
    "print(\"o Occured\",oCount, \"times\")\n",
    "print(\"u Occured\",uCount, \"times\")"
   ]
  },
  {
   "cell_type": "code",
   "execution_count": null,
   "id": "a090a52d-f3f5-40ff-be25-ec9be289ea2b",
   "metadata": {},
   "outputs": [],
   "source": []
  }
 ],
 "metadata": {
  "kernelspec": {
   "display_name": "Python [conda env:base] *",
   "language": "python",
   "name": "conda-base-py"
  },
  "language_info": {
   "codemirror_mode": {
    "name": "ipython",
    "version": 3
   },
   "file_extension": ".py",
   "mimetype": "text/x-python",
   "name": "python",
   "nbconvert_exporter": "python",
   "pygments_lexer": "ipython3",
   "version": "3.12.7"
  }
 },
 "nbformat": 4,
 "nbformat_minor": 5
}
