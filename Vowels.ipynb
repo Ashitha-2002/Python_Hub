{
 "cells": [
  {
   "cell_type": "code",
   "execution_count": null,
   "id": "a2397967-9070-4323-99f9-ac19e4055e36",
   "metadata": {},
   "outputs": [],
   "source": []
  }
 ],
 "metadata": {
  "kernelspec": {
   "display_name": "",
   "name": ""
  },
  "language_info": {
   "name": ""
  }
 },
 "nbformat": 4,
 "nbformat_minor": 5
}
