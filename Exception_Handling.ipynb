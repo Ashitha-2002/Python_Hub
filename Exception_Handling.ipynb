{
 "cells": [
  {
   "cell_type": "code",
   "execution_count": 5,
   "id": "be9d9ca5-1138-4070-8217-3bc8715975ca",
   "metadata": {},
   "outputs": [
    {
     "name": "stdout",
     "output_type": "stream",
     "text": [
      "1. Division\n",
      "2. Print List\n",
      "3. Concatenate string\n",
      "4. Exit\n"
     ]
    },
    {
     "name": "stdin",
     "output_type": "stream",
     "text": [
      "Enter a choice ::  1\n",
      "Enter a number ::  5\n",
      "Enter a number ::  0\n"
     ]
    },
    {
     "name": "stdout",
     "output_type": "stream",
     "text": [
      "Zero Division Error\n",
      "Division function\n",
      "1. Division\n",
      "2. Print List\n",
      "3. Concatenate string\n",
      "4. Exit\n"
     ]
    },
    {
     "name": "stdin",
     "output_type": "stream",
     "text": [
      "Enter a choice ::  2\n",
      "Enter size of list :  3\n",
      "Enter a element ::  5\n",
      "Enter a element ::  1\n",
      "Enter a element ::  8\n"
     ]
    },
    {
     "name": "stdout",
     "output_type": "stream",
     "text": [
      "List elements are : \n",
      "5\n",
      "1\n",
      "8\n",
      "list index out of range\n",
      "1. Division\n",
      "2. Print List\n",
      "3. Concatenate string\n",
      "4. Exit\n"
     ]
    },
    {
     "name": "stdin",
     "output_type": "stream",
     "text": [
      "Enter a choice ::  3\n",
      "Enter a string ::  hello\n",
      "Enter a string ::  5\n"
     ]
    },
    {
     "name": "stdout",
     "output_type": "stream",
     "text": [
      "can only concatenate str (not \"int\") to str\n",
      "1. Division\n",
      "2. Print List\n",
      "3. Concatenate string\n",
      "4. Exit\n"
     ]
    },
    {
     "name": "stdin",
     "output_type": "stream",
     "text": [
      "Enter a choice ::  4\n"
     ]
    }
   ],
   "source": [
    "def div(a , b):\n",
    "    try:\n",
    "        res = a / b\n",
    "        print(\"Result : \", res)\n",
    "    except ZeroDivisionError:\n",
    "        print(\"Zero Division Error\")\n",
    "    finally:\n",
    "        print(\"Division function\")\n",
    "def numList(lst):\n",
    "    print(\"List elements are : \")\n",
    "    try:\n",
    "        for i in range(5):\n",
    "            print(lst[i])\n",
    "    except IndexError as e:\n",
    "        print(e)\n",
    "\n",
    "def concatenateStr(str1, str2):\n",
    "    try:\n",
    "        res = str1 + str2\n",
    "        print(\"Concatenated string :: \", res)\n",
    "    except TypeError as e:\n",
    "        print(e)\n",
    "\n",
    "while(1):\n",
    "    print(\"1. Division\\n2. Print List\\n3. Concatenate string\\n4. Exit\")\n",
    "    ch = input(\"Enter a choice :: \")\n",
    "    if ch == \"1\":\n",
    "        a = int(input(\"Enter a number :: \"))\n",
    "        b = int(input(\"Enter a number :: \"))\n",
    "        div(a, b)\n",
    "    elif ch == \"2\":\n",
    "        lst = []\n",
    "        n = int(input(\"Enter size of list : \"))\n",
    "        for i in range(n):\n",
    "            lst.append(int(input(\"Enter a element :: \")))\n",
    "        numList(lst)\n",
    "    elif ch == \"3\":\n",
    "        str1 = input(\"Enter a string :: \")\n",
    "        str2 = int(input(\"Enter a string :: \"))\n",
    "        concatenateStr(str1, str2)\n",
    "    elif ch == \"4\":\n",
    "        break\n",
    "    else:\n",
    "        print(\"Invalid choice. Please enter a valid choice\")\n"
   ]
  },
  {
   "cell_type": "code",
   "execution_count": 1,
   "id": "81ffc6ca-6854-49f8-bc60-9a7fc379b7f2",
   "metadata": {},
   "outputs": [
    {
     "name": "stdin",
     "output_type": "stream",
     "text": [
      "Enter number of elements of list ::  5\n",
      "Enter an integer ::  4\n",
      "Enter an integer ::  5\n",
      "Enter an integer ::  -3\n"
     ]
    },
    {
     "name": "stdout",
     "output_type": "stream",
     "text": [
      "-3 is not integer\n"
     ]
    },
    {
     "name": "stdin",
     "output_type": "stream",
     "text": [
      "Enter an integer ::  6\n",
      "Enter an integer ::  1\n"
     ]
    },
    {
     "name": "stdout",
     "output_type": "stream",
     "text": [
      "The list is ::  [4, 5, 6, 1]\n"
     ]
    }
   ],
   "source": [
    "class customException(Exception):\n",
    "    pass\n",
    "class example:\n",
    "    def __init__(self):\n",
    "        self.myList = [] \n",
    "    def createListOfIntegers(self, value):\n",
    "        try:\n",
    "            if value >= 0:\n",
    "                self.myList.append(value)\n",
    "            else:\n",
    "                raise customException()\n",
    "        except customException as e:\n",
    "            print(f\"{value} is not integer\")        \n",
    "    def displayList(self):\n",
    "        print(\"The list is :: \", self.myList)          \n",
    "ob = example()\n",
    "n = int(input(\"Enter number of elements of list :: \"))\n",
    "for i in range(n):\n",
    "    value = int(input(\"Enter an integer :: \"))\n",
    "    ob.createListOfIntegers(value)\n",
    "ob.displayList()        \n"
   ]
  }
 ],
 "metadata": {
  "kernelspec": {
   "display_name": "Python [conda env:base] *",
   "language": "python",
   "name": "conda-base-py"
  },
  "language_info": {
   "codemirror_mode": {
    "name": "ipython",
    "version": 3
   },
   "file_extension": ".py",
   "mimetype": "text/x-python",
   "name": "python",
   "nbconvert_exporter": "python",
   "pygments_lexer": "ipython3",
   "version": "3.12.7"
  }
 },
 "nbformat": 4,
 "nbformat_minor": 5
}
