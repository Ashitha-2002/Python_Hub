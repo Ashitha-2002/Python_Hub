{
 "cells": [
  {
   "cell_type": "markdown",
   "id": "839ef5b3-1021-47d4-9847-2df93168e8a6",
   "metadata": {},
   "source": [
    "### Basic Math Operations"
   ]
  },
  {
   "cell_type": "code",
   "execution_count": 86,
   "id": "86621bed-6c02-4c88-9bea-c2ffa3f6f81e",
   "metadata": {},
   "outputs": [
    {
     "name": "stdout",
     "output_type": "stream",
     "text": [
      "1. Addition\n",
      "2. Substraction\n",
      "3. Multiplication\n",
      "4. Division\n",
      "5. Exit\n"
     ]
    },
    {
     "name": "stdin",
     "output_type": "stream",
     "text": [
      "Enter your choice :  1\n",
      "Enter the first number :  3\n",
      "Enter the second number :  5\n"
     ]
    },
    {
     "name": "stdout",
     "output_type": "stream",
     "text": [
      "The sum of given two numbers is :  8.0\n",
      "1. Addition\n",
      "2. Substraction\n",
      "3. Multiplication\n",
      "4. Division\n",
      "5. Exit\n"
     ]
    },
    {
     "name": "stdin",
     "output_type": "stream",
     "text": [
      "Enter your choice :  2\n",
      "Enter the first number :  6\n",
      "Enter the second number :  15\n"
     ]
    },
    {
     "name": "stdout",
     "output_type": "stream",
     "text": [
      "The difference of given two numbers is :  -9.0\n",
      "1. Addition\n",
      "2. Substraction\n",
      "3. Multiplication\n",
      "4. Division\n",
      "5. Exit\n"
     ]
    },
    {
     "name": "stdin",
     "output_type": "stream",
     "text": [
      "Enter your choice :  3\n",
      "Enter the first number :  5\n",
      "Enter the second number :  5\n"
     ]
    },
    {
     "name": "stdout",
     "output_type": "stream",
     "text": [
      "The product of given two numbers is :  25.0\n",
      "1. Addition\n",
      "2. Substraction\n",
      "3. Multiplication\n",
      "4. Division\n",
      "5. Exit\n"
     ]
    },
    {
     "name": "stdin",
     "output_type": "stream",
     "text": [
      "Enter your choice :  4\n",
      "Enter the first number :  5\n",
      "Enter the second number :  2\n"
     ]
    },
    {
     "name": "stdout",
     "output_type": "stream",
     "text": [
      "The quotient of given two numbers is :  2.5\n",
      "1. Addition\n",
      "2. Substraction\n",
      "3. Multiplication\n",
      "4. Division\n",
      "5. Exit\n"
     ]
    },
    {
     "name": "stdin",
     "output_type": "stream",
     "text": [
      "Enter your choice :  5\n"
     ]
    }
   ],
   "source": [
    "def addition(num1, num2) :\n",
    "    return num1 + num2\n",
    "def substraction(num1, num2) :\n",
    "    return num1 - num2\n",
    "def multiplication(num1, num2) :\n",
    "    return num1 * num2\n",
    "def division(num1, num2) :\n",
    "    return num1 / num2\n",
    "\n",
    "while(1) :\n",
    "    print(\"1. Addition\\n2. Substraction\\n3. Multiplication\\n4. Division\\n5. Exit\")\n",
    "    choice = int(input(\"Enter your choice : \"))\n",
    "    \n",
    "    if choice == 1:\n",
    "        n1 = float(input(\"Enter the first number : \"))\n",
    "        n2 = float(input(\"Enter the second number : \"))\n",
    "        print(\"The sum of given two numbers is : \",addition(n1,n2))\n",
    "    elif choice == 2:\n",
    "        n1 = float(input(\"Enter the first number : \"))\n",
    "        n2 = float(input(\"Enter the second number : \"))\n",
    "        print(\"The difference of given two numbers is : \",substraction(n1,n2))\n",
    "    elif choice == 3:\n",
    "        n1 = float(input(\"Enter the first number : \"))\n",
    "        n2 = float(input(\"Enter the second number : \"))\n",
    "        print(\"The product of given two numbers is : \",multiplication(n1,n2))\n",
    "    elif choice == 4:\n",
    "        n1 = float(input(\"Enter the first number : \"))\n",
    "        n2 = float(input(\"Enter the second number : \"))\n",
    "        print(\"The quotient of given two numbers is : \",division(n1,n2))\n",
    "    elif choice == 5:\n",
    "        break\n",
    "    else :\n",
    "        print(\"Invalid choice. Please enter valid option\")"
   ]
  },
  {
   "cell_type": "code",
   "execution_count": 89,
   "id": "16d00d13-ac9e-40e6-9186-a99b3ef26645",
   "metadata": {},
   "outputs": [
    {
     "name": "stdout",
     "output_type": "stream",
     "text": [
      "1. Addition\n",
      "2. Substraction\n",
      "3. Multiplication\n",
      "4. Division\n",
      "5. Exit\n"
     ]
    },
    {
     "name": "stdin",
     "output_type": "stream",
     "text": [
      "Enter your choice :  1\n",
      "Enter how many numbers you want to add ?  3\n",
      "Enter a number :  10\n",
      "Enter a number :  20\n",
      "Enter a number :  50\n"
     ]
    },
    {
     "name": "stdout",
     "output_type": "stream",
     "text": [
      "The sum of given two numbers is :  80.0\n",
      "1. Addition\n",
      "2. Substraction\n",
      "3. Multiplication\n",
      "4. Division\n",
      "5. Exit\n"
     ]
    },
    {
     "name": "stdin",
     "output_type": "stream",
     "text": [
      "Enter your choice :  2\n",
      "Enter how many numbers you want to substract ?  5\n",
      "Enter a number :  10\n",
      "Enter a number :  5\n",
      "Enter a number :  2\n",
      "Enter a number :  1\n",
      "Enter a number :  1\n"
     ]
    },
    {
     "name": "stdout",
     "output_type": "stream",
     "text": [
      "The difference of given two numbers is :  1.0\n",
      "1. Addition\n",
      "2. Substraction\n",
      "3. Multiplication\n",
      "4. Division\n",
      "5. Exit\n"
     ]
    },
    {
     "name": "stdin",
     "output_type": "stream",
     "text": [
      "Enter your choice :  3\n",
      "Enter how many numbers you want to multiply ?  4\n",
      "Enter a number :  5\n",
      "Enter a number :  4\n",
      "Enter a number :  5\n",
      "Enter a number :  3\n"
     ]
    },
    {
     "name": "stdout",
     "output_type": "stream",
     "text": [
      "The product of given two numbers is :  300.0\n",
      "1. Addition\n",
      "2. Substraction\n",
      "3. Multiplication\n",
      "4. Division\n",
      "5. Exit\n"
     ]
    },
    {
     "name": "stdin",
     "output_type": "stream",
     "text": [
      "Enter your choice :  4\n",
      "Enter how many numbers you want to divide ?  3\n",
      "Enter a number :  10\n",
      "Enter a number :  2\n",
      "Enter a number :  3\n"
     ]
    },
    {
     "name": "stdout",
     "output_type": "stream",
     "text": [
      "The quotient of given two numbers is :  1.6666666666666667\n",
      "1. Addition\n",
      "2. Substraction\n",
      "3. Multiplication\n",
      "4. Division\n",
      "5. Exit\n"
     ]
    },
    {
     "name": "stdin",
     "output_type": "stream",
     "text": [
      "Enter your choice :  5\n"
     ]
    }
   ],
   "source": [
    "def addition(list1) :\n",
    "    sum1 = 0\n",
    "    for i in list1:\n",
    "        sum1 += i\n",
    "    return sum1\n",
    "def substraction(list1) :\n",
    "    diff = list1[0]\n",
    "    for i in range(1, len(list1)):\n",
    "        diff -= list1[i]\n",
    "    return diff\n",
    "def multiplication(list1) :\n",
    "    mul = 1\n",
    "    for i in list1:\n",
    "        mul *= i\n",
    "    return mul\n",
    "def division(list1) :\n",
    "    div = list1[0]\n",
    "    for i in range(1, len(list1)):\n",
    "        div /= list1[i]\n",
    "    return div\n",
    "\n",
    "while(1) :\n",
    "    print(\"1. Addition\\n2. Substraction\\n3. Multiplication\\n4. Division\\n5. Exit\")\n",
    "    choice = int(input(\"Enter your choice : \"))\n",
    "    \n",
    "    if choice == 1:\n",
    "        numList = []\n",
    "        n = int(input(\"Enter how many numbers you want to add ? \"))\n",
    "        for i in range(n) :\n",
    "            numList.append(float(input(\"Enter a number : \")))\n",
    "                      \n",
    "        print(\"The sum of given two numbers is : \",addition(numList))\n",
    "    elif choice == 2:\n",
    "        numList = []\n",
    "        n = int(input(\"Enter how many numbers you want to substract ? \"))\n",
    "        for i in range(n) :\n",
    "            numList.append(float(input(\"Enter a number : \")))\n",
    "        print(\"The difference of given two numbers is : \",substraction(numList))\n",
    "    elif choice == 3:\n",
    "        numList = []\n",
    "        n = int(input(\"Enter how many numbers you want to multiply ? \"))\n",
    "        for i in range(n) :\n",
    "            numList.append(float(input(\"Enter a number : \")))\n",
    "        print(\"The product of given two numbers is : \",multiplication(numList))\n",
    "    elif choice == 4:\n",
    "        numList = []\n",
    "        n = int(input(\"Enter how many numbers you want to divide ? \"))\n",
    "        for i in range(n) :\n",
    "            numList.append(float(input(\"Enter a number : \")))\n",
    "        print(\"The quotient of given two numbers is : \",division(numList))\n",
    "    elif choice == 5:\n",
    "        break\n",
    "    else :\n",
    "        print(\"Invalid choice. Please enter valid option\")"
   ]
  },
  {
   "cell_type": "markdown",
   "id": "235c5bd9-60f5-4da4-b38d-6d7b5b8c8d94",
   "metadata": {},
   "source": [
    "### Even or Odd"
   ]
  },
  {
   "cell_type": "code",
   "execution_count": null,
   "id": "f583951f-0785-48bf-b1c6-e0e1741b6c14",
   "metadata": {},
   "outputs": [],
   "source": [
    "num = int(input(\"Enter a number: \"))\n",
    "print(\"Even\" if num % 2 == 0 else \"Odd\")"
   ]
  },
  {
   "cell_type": "markdown",
   "id": "cd547c64-7841-47a4-9719-f333e8b2385b",
   "metadata": {},
   "source": [
    "### Factorial"
   ]
  },
  {
   "cell_type": "code",
   "execution_count": 12,
   "id": "b9d091de-b161-4251-8174-8c30195feca9",
   "metadata": {},
   "outputs": [
    {
     "name": "stdin",
     "output_type": "stream",
     "text": [
      "Enter a number :  5\n"
     ]
    },
    {
     "name": "stdout",
     "output_type": "stream",
     "text": [
      "Factorial of 5 is 120\n"
     ]
    }
   ],
   "source": [
    "n = int(input(\"Enter a number : \"))\n",
    "fact = 1\n",
    "for i in range(1 , n+1):\n",
    "    fact *= i\n",
    "print(\"Factorial of\",n,\"is\",fact)"
   ]
  },
  {
   "cell_type": "code",
   "execution_count": 56,
   "id": "7dcc4d78-7e4e-4d2f-8871-30ee5e0501f9",
   "metadata": {},
   "outputs": [
    {
     "name": "stdin",
     "output_type": "stream",
     "text": [
      "Enter a number:  4\n"
     ]
    },
    {
     "name": "stdout",
     "output_type": "stream",
     "text": [
      "Factorial: 24\n"
     ]
    }
   ],
   "source": [
    "def factorial(n):\n",
    "    return 1 if n == 0 else n * factorial(n-1)\n",
    "\n",
    "num = int(input(\"Enter a number: \"))\n",
    "print(\"Factorial:\", factorial(num))"
   ]
  },
  {
   "cell_type": "markdown",
   "id": "8230a298-90bf-4602-8d6e-27ed2fc9de04",
   "metadata": {},
   "source": [
    "### Fibonacci"
   ]
  },
  {
   "cell_type": "code",
   "execution_count": 14,
   "id": "b4606eb9-bcba-4a14-88fa-ffd9111b65d4",
   "metadata": {},
   "outputs": [
    {
     "name": "stdin",
     "output_type": "stream",
     "text": [
      "Enter the range :  10\n"
     ]
    },
    {
     "name": "stdout",
     "output_type": "stream",
     "text": [
      "0 1 1 2 3 5 8 13 21 34 "
     ]
    }
   ],
   "source": [
    "num = int(input(\"Enter the range : \"))\n",
    "f1 = 0\n",
    "f2 = 1\n",
    "for i in range(num):\n",
    "    print(f1, end = \" \")\n",
    "    f3 = f1 + f2\n",
    "    f1 = f2\n",
    "    f2 = f3"
   ]
  },
  {
   "cell_type": "code",
   "execution_count": 34,
   "id": "3003ade2-4f44-4074-a5c3-083170538693",
   "metadata": {},
   "outputs": [
    {
     "name": "stdin",
     "output_type": "stream",
     "text": [
      "Enter the range :  10\n"
     ]
    },
    {
     "name": "stdout",
     "output_type": "stream",
     "text": [
      "0 1 1 2 3 5 8 13 21 34 55 89 "
     ]
    }
   ],
   "source": [
    "num = int(input(\"Enter the range : \"))\n",
    "f1 = 0\n",
    "f2 = 1\n",
    "print(f1, end = ' ')\n",
    "print(f2, end = ' ')\n",
    "for i in range(num):\n",
    "    f3 = f1 + f2\n",
    "    f1 = f2\n",
    "    f2 = f3\n",
    "    print(f3, end = \" \")"
   ]
  },
  {
   "cell_type": "markdown",
   "id": "faebc3c7-c723-4fae-8b1d-a2f6c228e3dc",
   "metadata": {},
   "source": [
    "### Prime "
   ]
  },
  {
   "cell_type": "code",
   "execution_count": 58,
   "id": "c3617789-85f7-43f1-bf10-e9920dde747e",
   "metadata": {},
   "outputs": [
    {
     "name": "stdin",
     "output_type": "stream",
     "text": [
      "Enter a number ::  8\n"
     ]
    },
    {
     "name": "stdout",
     "output_type": "stream",
     "text": [
      "Not Prime\n"
     ]
    }
   ],
   "source": [
    "n = int(input(\"Enter a number :: \"))\n",
    "\n",
    "count = 0\n",
    "\n",
    "if n > 1:\n",
    "    for i in range(1,n + 1):\n",
    "       if n % i == 0:\n",
    "           count += 1\n",
    "    \n",
    "    if count == 2:\n",
    "        print(\"Prime\")\n",
    "    else:\n",
    "        print(\"Not Prime\")\n",
    "else: \n",
    "    print(\"Not Prime\")"
   ]
  },
  {
   "cell_type": "code",
   "execution_count": 62,
   "id": "6d8d28da-9321-4fa6-96cc-a5f6fcce66e4",
   "metadata": {},
   "outputs": [
    {
     "name": "stdin",
     "output_type": "stream",
     "text": [
      "Enter a number ::  3\n"
     ]
    },
    {
     "name": "stdout",
     "output_type": "stream",
     "text": [
      "Prime\n"
     ]
    }
   ],
   "source": [
    "n = int(input(\"Enter a number :: \"))\n",
    "\n",
    "if n > 1:\n",
    "    for i in range(2, n // 2 + 1):\n",
    "       if n % i == 0:\n",
    "           print(\"Not Prime\")\n",
    "           break\n",
    "    else:\n",
    "        print(\"Prime\")\n",
    "else:\n",
    "    print(\"Not Prime\")"
   ]
  },
  {
   "cell_type": "markdown",
   "id": "2f87b2f0-e88b-4dbb-9ff9-87ecd8f727ef",
   "metadata": {},
   "source": [
    "### Palindrome"
   ]
  },
  {
   "cell_type": "code",
   "execution_count": 10,
   "id": "67ea0926-11fe-4d41-ab58-834610fd18b8",
   "metadata": {},
   "outputs": [
    {
     "name": "stdin",
     "output_type": "stream",
     "text": [
      "Enter a number :  121\n"
     ]
    },
    {
     "name": "stdout",
     "output_type": "stream",
     "text": [
      "Entered number is palindrome\n"
     ]
    }
   ],
   "source": [
    "num = int(input(\"Enter a number : \"))\n",
    "temp = num\n",
    "rev = 0\n",
    "while num > 0:\n",
    "    rem = num % 10\n",
    "    rev = (rev * 10) + rem\n",
    "    num = num // 10\n",
    "if rev == temp:\n",
    "    print(\"Entered number is palindrome\")\n",
    "else:\n",
    "    print(\"Entered number is not palindrome\")"
   ]
  },
  {
   "cell_type": "markdown",
   "id": "eb378d84-8e8b-4846-8f3c-e9b401af5110",
   "metadata": {},
   "source": [
    "### Sum of natural Numbers"
   ]
  },
  {
   "cell_type": "code",
   "execution_count": 65,
   "id": "363f5416-4271-4d3c-970a-fbd57456d403",
   "metadata": {},
   "outputs": [
    {
     "name": "stdin",
     "output_type": "stream",
     "text": [
      "Enter how many natural numbers :  10\n"
     ]
    },
    {
     "name": "stdout",
     "output_type": "stream",
     "text": [
      "Natural numbers are\n",
      "1 2 3 4 5 6 7 8 9 10 \n",
      "Sum is :  55\n"
     ]
    }
   ],
   "source": [
    "numSum = 0\n",
    "i = 1\n",
    "num = int(input(\"Enter how many natural numbers : \"))\n",
    "print(\"Natural numbers are\")\n",
    "while i <= num:\n",
    "    print(i, end = \" \")\n",
    "    numSum += i\n",
    "    i += 1\n",
    "print(\"\\nSum is : \",numSum)"
   ]
  },
  {
   "cell_type": "markdown",
   "id": "7601179a-33e9-488e-a87d-d5271161da77",
   "metadata": {},
   "source": [
    "### Sum of series 1 + 1/1! + 1/2! + 1/3! + ....  "
   ]
  },
  {
   "cell_type": "code",
   "execution_count": 67,
   "id": "a11fb4f1-99d1-442a-9d6c-806e4f1e95f1",
   "metadata": {},
   "outputs": [
    {
     "name": "stdin",
     "output_type": "stream",
     "text": [
      "Enter the value of n :  5\n"
     ]
    },
    {
     "name": "stdout",
     "output_type": "stream",
     "text": [
      "Sum of series is : 2.72\n"
     ]
    }
   ],
   "source": [
    "n = int(input(\"Enter the value of n : \"))\n",
    "sumOfSeries = 1\n",
    "\n",
    "for i in range(1,n+1) :\n",
    "    fact = 1\n",
    "    for j in range(1, i+1) :\n",
    "            fact *= j\n",
    "    sumOfSeries += 1 / fact\n",
    "print(\"Sum of series is : {:.2f}\".format(sumOfSeries))"
   ]
  },
  {
   "cell_type": "markdown",
   "id": "e036f6ec-081c-4540-bc40-8081b8cd7f0e",
   "metadata": {},
   "source": [
    "### Solve a Quadratic Equation"
   ]
  },
  {
   "cell_type": "code",
   "execution_count": 2,
   "id": "907455b0-45ea-49f6-8530-d997637a70a4",
   "metadata": {},
   "outputs": [
    {
     "name": "stdin",
     "output_type": "stream",
     "text": [
      "Enter the value of a :  4\n",
      "Enter the value of b :  3\n",
      "Enter the value of c :  1\n"
     ]
    },
    {
     "name": "stdout",
     "output_type": "stream",
     "text": [
      "Quadratic equation has no real roots\n",
      "Root1 =  -0.375 + 0.33 i\n",
      "Root2 =  -0.375 - 0.33 i\n"
     ]
    }
   ],
   "source": [
    "import math\n",
    "\n",
    "def quadraticEquation(a, b, c) :\n",
    "    discriminant = b ** 2 - 4 * a * c\n",
    "    if discriminant == 0:\n",
    "        root = -b / (2 * a)\n",
    "        print(\"Quadratic equation has two real, identical roots\")\n",
    "        print(\"Root = \", root)\n",
    "    elif discriminant > 0:\n",
    "        root1 = (-b + math.sqrt(discriminant) ) / (2 * a)\n",
    "        root2 = (-b - math.sqrt(discriminant) ) / (2 * a)\n",
    "        print(\"Quadratic equation has two real, distinct (different) roots\")\n",
    "        print(\"Root1 = {:.2f}\".format(root1))\n",
    "        print(\"Root2 = {:.2f}\".format(root2))\n",
    "    else:\n",
    "        positveSqrt = math.sqrt(abs(discriminant))\n",
    "        print(\"Quadratic equation has no real roots\")\n",
    "        print(\"Root1 = \", -b / (2 * a) , \"+ {:.2f}\".format(positveSqrt / (2 * a)), \"i\")\n",
    "        print(\"Root2 = \", -b / (2 * a) , \"- {:.2f}\".format(positveSqrt / (2 * a)), \"i\")\n",
    "        \n",
    "a = float(input(\"Enter the value of a : \"))\n",
    "b = float(input(\"Enter the value of b : \"))\n",
    "c = float(input(\"Enter the value of c : \"))\n",
    "quadraticEquation(a,b,c)"
   ]
  },
  {
   "cell_type": "markdown",
   "id": "844cd1ab-b673-42cf-882a-203ed6e25892",
   "metadata": {},
   "source": [
    "### Armstrong"
   ]
  },
  {
   "cell_type": "code",
   "execution_count": 83,
   "id": "d5a19ab2-426a-4ca9-ba48-8025e6429436",
   "metadata": {},
   "outputs": [
    {
     "name": "stdin",
     "output_type": "stream",
     "text": [
      "Enter a number :  4058\n"
     ]
    },
    {
     "name": "stdout",
     "output_type": "stream",
     "text": [
      "Not an armstrong number\n"
     ]
    }
   ],
   "source": [
    "num = int(input(\"Enter a number : \"))\n",
    "\n",
    "n = num\n",
    "sum1 = 0\n",
    "while num > 0:\n",
    "    digit = num % 10\n",
    "    sum1 += digit ** 3\n",
    "    num //= 10\n",
    "\n",
    "if sum1 == n:\n",
    "    print(\"Armstrong number\")\n",
    "else:\n",
    "    print(\"Not an armstrong number\")"
   ]
  },
  {
   "cell_type": "code",
   "execution_count": null,
   "id": "c9b72373-9424-4a66-85c0-c105c1fa0bd8",
   "metadata": {},
   "outputs": [],
   "source": []
  }
 ],
 "metadata": {
  "kernelspec": {
   "display_name": "Python [conda env:base] *",
   "language": "python",
   "name": "conda-base-py"
  },
  "language_info": {
   "codemirror_mode": {
    "name": "ipython",
    "version": 3
   },
   "file_extension": ".py",
   "mimetype": "text/x-python",
   "name": "python",
   "nbconvert_exporter": "python",
   "pygments_lexer": "ipython3",
   "version": "3.12.7"
  }
 },
 "nbformat": 4,
 "nbformat_minor": 5
}
