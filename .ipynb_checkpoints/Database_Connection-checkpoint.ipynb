{
 "cells": [
  {
   "cell_type": "code",
   "execution_count": 7,
   "id": "163d9799-b5e1-459d-a200-8fa829c04f2a",
   "metadata": {},
   "outputs": [
    {
     "name": "stdout",
     "output_type": "stream",
     "text": [
      "\n",
      "--- MENU ---\n",
      "1. Connect to a database\n",
      "2. Create a table\n",
      "3. Insert values to the table\n",
      "4. Display table values\n",
      "5. Delete a row by ID\n",
      "6. Update a value by ID\n",
      "7. Delete the entire table\n",
      "8. Exit\n"
     ]
    },
    {
     "name": "stdin",
     "output_type": "stream",
     "text": [
      "Enter your choice:  1\n"
     ]
    },
    {
     "name": "stdout",
     "output_type": "stream",
     "text": [
      "Database opened successfully.\n",
      "\n",
      "--- MENU ---\n",
      "1. Connect to a database\n",
      "2. Create a table\n",
      "3. Insert values to the table\n",
      "4. Display table values\n",
      "5. Delete a row by ID\n",
      "6. Update a value by ID\n",
      "7. Delete the entire table\n",
      "8. Exit\n"
     ]
    },
    {
     "name": "stdin",
     "output_type": "stream",
     "text": [
      "Enter your choice:  2\n"
     ]
    },
    {
     "name": "stdout",
     "output_type": "stream",
     "text": [
      "Table created successfully.\n",
      "\n",
      "--- MENU ---\n",
      "1. Connect to a database\n",
      "2. Create a table\n",
      "3. Insert values to the table\n",
      "4. Display table values\n",
      "5. Delete a row by ID\n",
      "6. Update a value by ID\n",
      "7. Delete the entire table\n",
      "8. Exit\n"
     ]
    },
    {
     "name": "stdin",
     "output_type": "stream",
     "text": [
      "Enter your choice:  3\n",
      "How many records do you want to insert?  4\n",
      "Enter ID:  1\n",
      "Enter Name:  Paul\n",
      "Enter Age:  32\n",
      "Enter Address:  California\n",
      "Enter Salary:  105000\n",
      "Enter ID:  2\n",
      "Enter Name:  Allen\n",
      "Enter Age:  25\n",
      "Enter Address:  Texas\n",
      "Enter Salary:  67800\n",
      "Enter ID:  3\n",
      "Enter Name:  Teddy\n",
      "Enter Age:  23\n",
      "Enter Address:  Norway\n",
      "Enter Salary:  46700\n",
      "Enter ID:  4\n",
      "Enter Name:  Mark\n",
      "Enter Age:  25\n",
      "Enter Address:  50000\n",
      "Enter Salary:  50000\n"
     ]
    },
    {
     "name": "stdout",
     "output_type": "stream",
     "text": [
      "Records added successfully.\n",
      "\n",
      "--- MENU ---\n",
      "1. Connect to a database\n",
      "2. Create a table\n",
      "3. Insert values to the table\n",
      "4. Display table values\n",
      "5. Delete a row by ID\n",
      "6. Update a value by ID\n",
      "7. Delete the entire table\n",
      "8. Exit\n"
     ]
    },
    {
     "name": "stdin",
     "output_type": "stream",
     "text": [
      "Enter your choice:  6\n",
      "Enter the ID of the row to update:  4\n",
      "Enter the column to update (NAME, AGE, ADDRESS, SALARY):  Address\n",
      "Enter the new value:  Rich-Mond\n"
     ]
    },
    {
     "name": "stdout",
     "output_type": "stream",
     "text": [
      "Row updated successfully.\n",
      "   ID   NAME  AGE     ADDRESS    SALARY\n",
      "0   1   Paul   32  California  105000.0\n",
      "1   2  Allen   25       Texas   67800.0\n",
      "2   3  Teddy   23      Norway   46700.0\n",
      "3   4   Mark   25   Rich-Mond   50000.0\n",
      "\n",
      "--- MENU ---\n",
      "1. Connect to a database\n",
      "2. Create a table\n",
      "3. Insert values to the table\n",
      "4. Display table values\n",
      "5. Delete a row by ID\n",
      "6. Update a value by ID\n",
      "7. Delete the entire table\n",
      "8. Exit\n"
     ]
    },
    {
     "name": "stdin",
     "output_type": "stream",
     "text": [
      "Enter your choice:  4\n"
     ]
    },
    {
     "name": "stdout",
     "output_type": "stream",
     "text": [
      "   ID   NAME  AGE     ADDRESS    SALARY\n",
      "0   1   Paul   32  California  105000.0\n",
      "1   2  Allen   25       Texas   67800.0\n",
      "2   3  Teddy   23      Norway   46700.0\n",
      "3   4   Mark   25   Rich-Mond   50000.0\n",
      "\n",
      "--- MENU ---\n",
      "1. Connect to a database\n",
      "2. Create a table\n",
      "3. Insert values to the table\n",
      "4. Display table values\n",
      "5. Delete a row by ID\n",
      "6. Update a value by ID\n",
      "7. Delete the entire table\n",
      "8. Exit\n"
     ]
    },
    {
     "name": "stdin",
     "output_type": "stream",
     "text": [
      "Enter your choice:  5\n",
      "Enter the ID of the row to delete:  4\n"
     ]
    },
    {
     "name": "stdout",
     "output_type": "stream",
     "text": [
      "Row deleted successfully.\n",
      "\n",
      "--- MENU ---\n",
      "1. Connect to a database\n",
      "2. Create a table\n",
      "3. Insert values to the table\n",
      "4. Display table values\n",
      "5. Delete a row by ID\n",
      "6. Update a value by ID\n",
      "7. Delete the entire table\n",
      "8. Exit\n"
     ]
    },
    {
     "name": "stdin",
     "output_type": "stream",
     "text": [
      "Enter your choice:  7\n"
     ]
    },
    {
     "name": "stdout",
     "output_type": "stream",
     "text": [
      "Table deleted successfully.\n",
      "\n",
      "--- MENU ---\n",
      "1. Connect to a database\n",
      "2. Create a table\n",
      "3. Insert values to the table\n",
      "4. Display table values\n",
      "5. Delete a row by ID\n",
      "6. Update a value by ID\n",
      "7. Delete the entire table\n",
      "8. Exit\n"
     ]
    },
    {
     "name": "stdin",
     "output_type": "stream",
     "text": [
      "Enter your choice:  8\n"
     ]
    },
    {
     "name": "stdout",
     "output_type": "stream",
     "text": [
      "Database connection closed.\n",
      "Exiting...\n"
     ]
    }
   ],
   "source": [
    "import pandas as pd\n",
    "import sqlite3\n",
    "\n",
    "conn = None \n",
    "\n",
    "while True:\n",
    "    print(\"\\n--- MENU ---\")\n",
    "    print(\"1. Connect to a database\")\n",
    "    print(\"2. Create a table\")\n",
    "    print(\"3. Insert values to the table\")\n",
    "    print(\"4. Display table values\")\n",
    "    print(\"5. Delete a row by ID\")\n",
    "    print(\"6. Update a value by ID\")\n",
    "    print(\"7. Delete the entire table\")\n",
    "    print(\"8. Exit\")\n",
    "\n",
    "    ch = input(\"Enter your choice: \")\n",
    "\n",
    "    if ch == \"1\":\n",
    "        conn = sqlite3.connect('test.db')\n",
    "        print(\"Database opened successfully.\")\n",
    "\n",
    "    elif ch == \"2\":\n",
    "        if conn:\n",
    "            try:\n",
    "                conn.execute('''CREATE TABLE COMPANY\n",
    "                             (ID INT PRIMARY KEY NOT NULL,\n",
    "                              NAME TEXT NOT NULL,\n",
    "                              AGE INT NOT NULL,\n",
    "                              ADDRESS CHAR(50),\n",
    "                              SALARY REAL);''')\n",
    "                print(\"Table created successfully.\")\n",
    "            except Exception as e:\n",
    "                print(\"Error creating table:\", e)\n",
    "        else:\n",
    "            print(\"Please connect to a database first (Option 1).\")\n",
    "\n",
    "    elif ch == \"3\":\n",
    "        if conn:\n",
    "            try:\n",
    "                n = int(input(\"How many records do you want to insert? \"))\n",
    "                for _ in range(n):\n",
    "                    id = int(input(\"Enter ID: \"))\n",
    "                    name = input(\"Enter Name: \")\n",
    "                    age = int(input(\"Enter Age: \"))\n",
    "                    address = input(\"Enter Address: \")\n",
    "                    salary = float(input(\"Enter Salary: \"))\n",
    "                    conn.execute(\"INSERT INTO COMPANY (ID, NAME, AGE, ADDRESS, SALARY) VALUES (?, ?, ?, ?, ?)\",\n",
    "                                 (id, name, age, address, salary))\n",
    "                conn.commit()\n",
    "                print(\"Records added successfully.\")\n",
    "            except Exception as e:\n",
    "                print(\"Error inserting records:\", e)\n",
    "        else:\n",
    "            print(\"Please connect to a database first (Option 1).\")\n",
    "\n",
    "    elif ch == \"4\":\n",
    "        if conn:\n",
    "            try:\n",
    "                print(pd.read_sql_query(\"SELECT * FROM COMPANY\", conn))\n",
    "            except Exception as e:\n",
    "                print(\"Error displaying table:\", e)\n",
    "        else:\n",
    "            print(\"Please connect to a database first (Option 1).\")\n",
    "\n",
    "    elif ch == \"5\":\n",
    "        if conn:\n",
    "            try:\n",
    "                del_id = int(input(\"Enter the ID of the row to delete: \"))\n",
    "                cursor = conn.execute(\"DELETE FROM COMPANY WHERE ID = ?\", (del_id,))\n",
    "                conn.commit()\n",
    "                if conn.total_changes > 0:\n",
    "                    print(\"Row deleted successfully.\")\n",
    "                else:\n",
    "                    print(\"No row found with ID:\", del_id)\n",
    "            except Exception as e:\n",
    "                print(\"Error deleting row:\", e)\n",
    "        else:\n",
    "            print(\"Please connect to a database first (Option 1).\")\n",
    "\n",
    "    elif ch == \"6\":\n",
    "        if conn:\n",
    "            try:\n",
    "                upd_id = int(input(\"Enter the ID of the row to update: \"))\n",
    "                column = input(\"Enter the column to update (NAME, AGE, ADDRESS, SALARY): \").upper()\n",
    "                new_value = input(\"Enter the new value: \")\n",
    "\n",
    "                # Type conversion for age and salary\n",
    "                if column in [\"AGE\"]:\n",
    "                    new_value = int(new_value)\n",
    "                elif column in [\"SALARY\"]:\n",
    "                    new_value = float(new_value)\n",
    "\n",
    "                conn.execute(f\"UPDATE COMPANY SET {column} = ? WHERE ID = ?\", (new_value, upd_id))\n",
    "                conn.commit()\n",
    "\n",
    "                if conn.total_changes > 0:\n",
    "                    print(\"Row updated successfully.\")\n",
    "                    print(pd.read_sql_query(\"SELECT * FROM COMPANY\", conn))\n",
    "                else:\n",
    "                    print(\"No row found with ID:\", upd_id)\n",
    "            except Exception as e:\n",
    "                print(\"Error updating row:\", e)\n",
    "        else:\n",
    "            print(\"Please connect to a database first (Option 1).\")\n",
    "\n",
    "    elif ch == \"7\":\n",
    "        if conn:\n",
    "            try:\n",
    "                conn.execute(\"DROP TABLE IF EXISTS COMPANY;\")\n",
    "                conn.commit()\n",
    "                print(\"Table deleted successfully.\")\n",
    "            except Exception as e:\n",
    "                print(\"Error deleting table:\", e)\n",
    "        else:\n",
    "            print(\"Please connect to a database first (Option 1).\")\n",
    "\n",
    "    elif ch == \"8\":\n",
    "        if conn:\n",
    "            conn.close()\n",
    "            print(\"Database connection closed.\")\n",
    "        print(\"Exiting...\")\n",
    "        break\n",
    "\n",
    "    else:\n",
    "        print(\"Invalid choice. Please select a valid option (1-8).\")\n"
   ]
  },
  {
   "cell_type": "code",
   "execution_count": null,
   "id": "7d6ac8f1-7b78-433b-afbb-fd0dc654c7ab",
   "metadata": {},
   "outputs": [],
   "source": []
  }
 ],
 "metadata": {
  "kernelspec": {
   "display_name": "Python [conda env:base] *",
   "language": "python",
   "name": "conda-base-py"
  },
  "language_info": {
   "codemirror_mode": {
    "name": "ipython",
    "version": 3
   },
   "file_extension": ".py",
   "mimetype": "text/x-python",
   "name": "python",
   "nbconvert_exporter": "python",
   "pygments_lexer": "ipython3",
   "version": "3.12.7"
  }
 },
 "nbformat": 4,
 "nbformat_minor": 5
}
