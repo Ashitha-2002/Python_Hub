{
 "cells": [
  {
   "cell_type": "code",
   "execution_count": 3,
   "id": "447da1f6-2883-433e-afc1-5acf57b8e9da",
   "metadata": {},
   "outputs": [
    {
     "name": "stdin",
     "output_type": "stream",
     "text": [
      " 3 5 1 2 4 3 6 8 4 3 1\n"
     ]
    },
    {
     "name": "stdout",
     "output_type": "stream",
     "text": [
      "Original array :  [3, 5, 1, 2, 4, 3, 6, 8, 4, 3, 1]\n",
      "Unique elements in given list :  [3, 5, 1, 2, 4, 6, 8]\n"
     ]
    }
   ],
   "source": [
    "numList = []\n",
    "numList = list(map(int, input().split(\" \")))\n",
    "print(\"Original array : \",numList)\n",
    "uniqueEleList = []\n",
    "for value in numList :\n",
    "    if value not in uniqueEleList :\n",
    "        uniqueEleList.append(value)\n",
    "print(\"Unique elements in given list : \",uniqueEleList)"
   ]
  },
  {
   "cell_type": "code",
   "execution_count": null,
   "id": "507051c9-234a-4bf9-a0d5-80a731343656",
   "metadata": {},
   "outputs": [],
   "source": []
  }
 ],
 "metadata": {
  "kernelspec": {
   "display_name": "Python [conda env:base] *",
   "language": "python",
   "name": "conda-base-py"
  },
  "language_info": {
   "codemirror_mode": {
    "name": "ipython",
    "version": 3
   },
   "file_extension": ".py",
   "mimetype": "text/x-python",
   "name": "python",
   "nbconvert_exporter": "python",
   "pygments_lexer": "ipython3",
   "version": "3.12.7"
  }
 },
 "nbformat": 4,
 "nbformat_minor": 5
}
