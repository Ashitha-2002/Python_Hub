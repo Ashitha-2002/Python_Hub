{
 "cells": [
  {
   "cell_type": "code",
   "execution_count": 44,
   "id": "85aaf793-a4c6-4e85-aff3-22e4b7ef4aa6",
   "metadata": {},
   "outputs": [
    {
     "name": "stdout",
     "output_type": "stream",
     "text": [
      "Python is a high-level, interpreted programming language known for its simplicity and readability. \n",
      "Created by Guido van Rossum and first released in 1991, Python was designed with code readability in mind, using indentation to define code blocks instead of brackets. \n",
      "This makes it an ideal language for beginners while still being powerful enough for experienced developers to build complex applications. \n",
      "Its syntax is clean and easy to understand, allowing programmers to focus more on solving problems than on writing complex code structures.\n",
      "Number of lines :  4\n",
      "Number of words :  82\n"
     ]
    }
   ],
   "source": [
    "def count_file(file_path) :\n",
    "    f = open(file_path, 'r')\n",
    "    line_count = 0\n",
    "    word_count = 0\n",
    "    for line in f:\n",
    "        line_count += 1\n",
    "        words = line.split()\n",
    "        for word in words:\n",
    "            word_count += 1\n",
    "    print(\"Number of lines : \",line_count)\n",
    "    print(\"Number of words : \",word_count)\n",
    "file = \"sample.txt\"\n",
    "\n",
    "with open(file, 'r') as f:\n",
    "    print(f.read())\n",
    "count_file(file)"
   ]
  },
  {
   "cell_type": "code",
   "execution_count": 46,
   "id": "8ec0e786-e5f2-45d5-b7ee-92163cf5836f",
   "metadata": {},
   "outputs": [
    {
     "name": "stdout",
     "output_type": "stream",
     "text": [
      "1. Get the current working directory\n",
      "2. List all files and directories in the current directory\n",
      "3. Create a new directory\n",
      "4. Verify if the new directory has been created\n",
      "5. copy a file into this directory\n",
      "6. Exit\n"
     ]
    },
    {
     "name": "stdin",
     "output_type": "stream",
     "text": [
      "Enter your choice :  1\n"
     ]
    },
    {
     "name": "stdout",
     "output_type": "stream",
     "text": [
      "\n",
      "Current working directory : C:\\Users\\Ashitha\\Python_Hub \n",
      "\n",
      "1. Get the current working directory\n",
      "2. List all files and directories in the current directory\n",
      "3. Create a new directory\n",
      "4. Verify if the new directory has been created\n",
      "5. copy a file into this directory\n",
      "6. Exit\n"
     ]
    },
    {
     "name": "stdin",
     "output_type": "stream",
     "text": [
      "Enter your choice :  2\n"
     ]
    },
    {
     "name": "stdout",
     "output_type": "stream",
     "text": [
      "\n",
      "List of files and directories in current directory : \n",
      ".git\n",
      ".ipynb_checkpoints\n",
      "Area_Perimeter.ipynb\n",
      "Calculate_Sales_Commision.ipynb\n",
      "Class_Demo.ipynb\n",
      "Maths_Programs.ipynb\n",
      "Palindorme.ipynb\n",
      "Programs_Using_List.ipynb\n",
      "Python_Basics.ipynb\n",
      "Random_number.ipynb\n",
      "sample.txt\n",
      "Triangle_Pattern.ipynb\n",
      "Untitled.ipynb\n",
      "Vowels.ipynb\n",
      "\n",
      "1. Get the current working directory\n",
      "2. List all files and directories in the current directory\n",
      "3. Create a new directory\n",
      "4. Verify if the new directory has been created\n",
      "5. copy a file into this directory\n",
      "6. Exit\n"
     ]
    },
    {
     "name": "stdin",
     "output_type": "stream",
     "text": [
      "Enter your choice :  3\n",
      "\n",
      "Enter directory name :  demo\n"
     ]
    },
    {
     "name": "stdout",
     "output_type": "stream",
     "text": [
      "1. Get the current working directory\n",
      "2. List all files and directories in the current directory\n",
      "3. Create a new directory\n",
      "4. Verify if the new directory has been created\n",
      "5. copy a file into this directory\n",
      "6. Exit\n"
     ]
    },
    {
     "name": "stdin",
     "output_type": "stream",
     "text": [
      "Enter your choice :  4\n"
     ]
    },
    {
     "name": "stdout",
     "output_type": "stream",
     "text": [
      "\n",
      " demo directory created succesfully in the current directory\n",
      "List of directories in the current directory\n",
      ".git\n",
      ".ipynb_checkpoints\n",
      "demo\n",
      "\n",
      "1. Get the current working directory\n",
      "2. List all files and directories in the current directory\n",
      "3. Create a new directory\n",
      "4. Verify if the new directory has been created\n",
      "5. copy a file into this directory\n",
      "6. Exit\n"
     ]
    },
    {
     "name": "stdin",
     "output_type": "stream",
     "text": [
      "Enter your choice :  5\n",
      "\n",
      "Enter a file to copy :  sample.txt\n"
     ]
    },
    {
     "name": "stdout",
     "output_type": "stream",
     "text": [
      "sample.txt copied to demo\n",
      "Files in demo directory is\n",
      "['sample.txt'] \n",
      "\n",
      "1. Get the current working directory\n",
      "2. List all files and directories in the current directory\n",
      "3. Create a new directory\n",
      "4. Verify if the new directory has been created\n",
      "5. copy a file into this directory\n",
      "6. Exit\n"
     ]
    },
    {
     "name": "stdin",
     "output_type": "stream",
     "text": [
      "Enter your choice :  6\n"
     ]
    }
   ],
   "source": [
    "import os\n",
    "import shutil\n",
    "while(1):\n",
    "    print(\"1. Get the current working directory\\n2. List all files and directories in the current directory\\n3. Create a new directory\\n4. Verify if the new directory has been created\\n5. copy a file into this directory\\n6. Exit\")\n",
    "    ch = input(\"Enter your choice : \")\n",
    "    if ch == \"1\":\n",
    "        print(\"\\nCurrent working directory :\",os.getcwd(), \"\\n\")\n",
    "    elif ch == \"2\":\n",
    "        print(\"\\nList of files and directories in current directory : \")\n",
    "        for ele in os.listdir(os.getcwd()):\n",
    "            print(ele)\n",
    "        print()\n",
    "    elif ch == \"3\":\n",
    "        directory_name = input(\"\\nEnter directory name : \")\n",
    "        os.mkdir(directory_name)\n",
    "    elif ch == \"4\":\n",
    "        if os.path.exists(directory_name):\n",
    "            print(\"\\n\",directory_name, \"directory created succesfully in the current directory\\nList of directories in the current directory\")\n",
    "            for ele in os.listdir(os.getcwd()):\n",
    "                if os.path.isdir(ele):\n",
    "                    print(ele)\n",
    "            print()\n",
    "        else:\n",
    "            print(\"\\n\", directory_name, \"directory has not been created\\n\")\n",
    "    elif ch == \"5\":\n",
    "        file = input(\"\\nEnter a file to copy : \")\n",
    "        if os.path.exists(file) and os.path.exists(directory_name):\n",
    "            shutil.copy(file, directory_name)\n",
    "            print(file, \"copied to\", directory_name)\n",
    "            print(\"Files in\", directory_name, \"directory is\")\n",
    "            print(os.listdir(directory_name), \"\\n\")\n",
    "        else:\n",
    "            print(\"File does not exist\\n\")\n",
    "    elif ch == \"6\":\n",
    "        break\n",
    "    else:\n",
    "        print(\"\\nInvalid choice\\n\")\n"
   ]
  },
  {
   "cell_type": "code",
   "execution_count": 50,
   "id": "cb62a20d-03c9-450f-9971-ab72dfbbe64f",
   "metadata": {},
   "outputs": [
    {
     "name": "stdout",
     "output_type": "stream",
     "text": [
      "Original File contents\n",
      "\n",
      "------------------------------------------------------------------------------------------------------\n",
      "Python is a high-level, interpreted programming language known for its simplicity and readability. \n",
      "\n",
      "Created by Guido van Rossum and first released in 1991, Python was designed with code readability in mind, using indentation to define code blocks instead of brackets. \n",
      "\n",
      "This makes it an ideal language for beginners while still being powerful enough for experienced developers to build complex applications. \n",
      "\n",
      "Its syntax is clean and easy to understand, allowing programmers to focus more on solving problems than on writing complex code structures.\n",
      "------------------------------------------------------------------------------------------------------\n",
      "\n",
      "Odd numbered lines copied succesfully\n",
      "\n",
      "------------------------------------------------------------------------------------------------\n",
      "Python is a high-level, interpreted programming language known for its simplicity and readability. \n",
      "\n",
      "This makes it an ideal language for beginners while still being powerful enough for experienced developers to build complex applications. \n",
      "\n"
     ]
    }
   ],
   "source": [
    "def copy_alternative_lines(file1, file2):\n",
    "    try:\n",
    "        with open(file1, 'r') as source_file, open(file2, 'w') as destination_file:\n",
    "            lines = source_file.readlines()\n",
    "            destination_file.writelines(lines[::2])\n",
    "    except:\n",
    "        print(\"File not found!!!\")\n",
    "    else:\n",
    "        print(\"\\nOdd numbered lines copied succesfully\\n\")\n",
    "        print(\"------------------------------------------------------------------------------------------------\")\n",
    "        with open(file2, 'r') as f:\n",
    "            for line in f:\n",
    "                print(line)\n",
    "\n",
    "file1 = './demo/sample.txt'\n",
    "file2 = 'file1.txt'\n",
    "print(\"Original File contents\\n\")\n",
    "print(\"------------------------------------------------------------------------------------------------------\")\n",
    "with open(file1) as f:\n",
    "    for row in f:\n",
    "        print(row)\n",
    "print(\"------------------------------------------------------------------------------------------------------\")\n",
    "copy_alternative_lines(file1, file2)\n"
   ]
  },
  {
   "cell_type": "code",
   "execution_count": 54,
   "id": "fb3e6a3b-0094-4aee-aba2-fd398712a067",
   "metadata": {},
   "outputs": [
    {
     "name": "stdout",
     "output_type": "stream",
     "text": [
      "1.Write into a csv file.\n",
      "2.Read and display the contents of csv file.\n",
      "3.Read and display the contents of xml file.          \n",
      "4.Write into a json file.\n",
      "5.Read and display the contents of json file.\n",
      "6. Exit\n"
     ]
    },
    {
     "name": "stdin",
     "output_type": "stream",
     "text": [
      "Enter a choice ::  1\n"
     ]
    },
    {
     "name": "stdout",
     "output_type": "stream",
     "text": [
      "1.Write into a csv file.\n",
      "2.Read and display the contents of csv file.\n",
      "3.Read and display the contents of xml file.          \n",
      "4.Write into a json file.\n",
      "5.Read and display the contents of json file.\n",
      "6. Exit\n"
     ]
    },
    {
     "name": "stdin",
     "output_type": "stream",
     "text": [
      "Enter a choice ::  2\n"
     ]
    },
    {
     "name": "stdout",
     "output_type": "stream",
     "text": [
      "Contents of the universiy record file is\n",
      "['Name', 'Branch', 'Year', 'CGPA']\n",
      "['Nikhil', 'CS', '2', '9.0']\n",
      "['Sanchit', 'CS', '2', '9.1']\n",
      "['Aditya', 'IT', '2', '9.3']\n",
      "['Sagar', 'ECE', '1', '9.5']\n",
      "['Prateek', 'ME', '3', '7.8']\n",
      "['Sahil', 'EEE', '2', '9.1']\n",
      "1.Write into a csv file.\n",
      "2.Read and display the contents of csv file.\n",
      "3.Read and display the contents of xml file.          \n",
      "4.Write into a json file.\n",
      "5.Read and display the contents of json file.\n",
      "6. Exit\n"
     ]
    },
    {
     "name": "stdin",
     "output_type": "stream",
     "text": [
      "Enter a choice ::  3\n"
     ]
    },
    {
     "name": "stdout",
     "output_type": "stream",
     "text": [
      "[<name>John Doe</name>, <name>Jane Smith</name>]\n",
      "1.Write into a csv file.\n",
      "2.Read and display the contents of csv file.\n",
      "3.Read and display the contents of xml file.          \n",
      "4.Write into a json file.\n",
      "5.Read and display the contents of json file.\n",
      "6. Exit\n"
     ]
    },
    {
     "name": "stdin",
     "output_type": "stream",
     "text": [
      "Enter a choice ::  4\n"
     ]
    },
    {
     "name": "stdout",
     "output_type": "stream",
     "text": [
      "1.Write into a csv file.\n",
      "2.Read and display the contents of csv file.\n",
      "3.Read and display the contents of xml file.          \n",
      "4.Write into a json file.\n",
      "5.Read and display the contents of json file.\n",
      "6. Exit\n"
     ]
    },
    {
     "name": "stdin",
     "output_type": "stream",
     "text": [
      "Enter a choice ::  5\n"
     ]
    },
    {
     "name": "stdout",
     "output_type": "stream",
     "text": [
      "{'name': 'Hannah', 'rollNo': 560, 'class': 'I Msc'}\n",
      "1.Write into a csv file.\n",
      "2.Read and display the contents of csv file.\n",
      "3.Read and display the contents of xml file.          \n",
      "4.Write into a json file.\n",
      "5.Read and display the contents of json file.\n",
      "6. Exit\n"
     ]
    },
    {
     "name": "stdin",
     "output_type": "stream",
     "text": [
      "Enter a choice ::  6\n"
     ]
    }
   ],
   "source": [
    "import os\n",
    "import csv\n",
    "import json\n",
    "from bs4 import BeautifulSoup\n",
    "\n",
    "csv_filename = xml_filename = json_filename = \"\"\n",
    "while(1):\n",
    "    print(\"1.Write into a csv file.\\n2.Read and display the contents of csv file.\\n3.Read and display the contents of xml file.\\\n",
    "          \\n4.Write into a json file.\\n5.Read and display the contents of json file.\\n6. Exit\")\n",
    "    ch = input(\"Enter a choice :: \")\n",
    "    if ch == \"1\":\n",
    "        rows = [['Name', 'Branch', 'Year', 'CGPA'],\n",
    "                ['Nikhil', 'CS', '2', '9.0'],\n",
    "                ['Sanchit', 'CS', '2', '9.1'],\n",
    "                ['Aditya', 'IT', '2', '9.3'],\n",
    "                ['Sagar', 'ECE', '1', '9.5'],\n",
    "                ['Prateek', 'ME', '3', '7.8'],\n",
    "                ['Sahil', 'EEE', '2', '9.1']]\n",
    "\n",
    "        csv_filename = \"university_records.csv\"\n",
    "        with open(csv_filename, 'w', newline='') as csvfile:\n",
    "            csv_writer = csv.writer(csvfile)\n",
    "            csv_writer.writerows(rows)\n",
    "    elif ch == \"2\":\n",
    "        if os.path.exists(csv_filename):\n",
    "            with open(csv_filename) as f:\n",
    "                csv_reader = csv.reader(f)\n",
    "                print(\"Contents of the universiy record file is\")\n",
    "                for row in csv_reader:\n",
    "                    print(row)\n",
    "        else:\n",
    "            print(\"File does not exist\")\n",
    "    elif ch == \"3\":\n",
    "        xml_filename = \"sample.xml\"\n",
    "        if os.path.exists(xml_filename):\n",
    "            with open(xml_filename, 'r') as f :\n",
    "                data = f.read()\n",
    "                Bs_data = BeautifulSoup(data, \"xml\") \n",
    "                name_tag = Bs_data.find_all(\"name\")\n",
    "                print(name_tag)\n",
    "        else:\n",
    "            print(\"File does not exists\")\n",
    "    elif ch == \"4\":\n",
    "        json_filename = \"student.json\"\n",
    "        dict = {\"name\" : \"Hannah\", \"rollNo\" : 560, \"class\" : \"I Msc\"}\n",
    "        json_ob = json.dumps(dict)\n",
    "        with open(json_filename , \"w\") as f:\n",
    "            f.write(json_ob)\n",
    "    elif ch == \"5\":\n",
    "        if os.path.exists(json_filename):\n",
    "            with open(json_filename, 'r') as f:\n",
    "                json_ob = json.load(f)\n",
    "                print(json_ob)\n",
    "        else:\n",
    "            print(\"File does not exists\")\n",
    "    elif ch == \"6\":\n",
    "        break\n",
    "    else:\n",
    "        print(\"Inavalid choice\")\n"
   ]
  },
  {
   "cell_type": "code",
   "execution_count": null,
   "id": "93cbab70-961b-4d6d-bdc8-7efd7727d89b",
   "metadata": {},
   "outputs": [],
   "source": []
  }
 ],
 "metadata": {
  "kernelspec": {
   "display_name": "Python [conda env:base] *",
   "language": "python",
   "name": "conda-base-py"
  },
  "language_info": {
   "codemirror_mode": {
    "name": "ipython",
    "version": 3
   },
   "file_extension": ".py",
   "mimetype": "text/x-python",
   "name": "python",
   "nbconvert_exporter": "python",
   "pygments_lexer": "ipython3",
   "version": "3.12.7"
  }
 },
 "nbformat": 4,
 "nbformat_minor": 5
}
